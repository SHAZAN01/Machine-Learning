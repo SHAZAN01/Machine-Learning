{
  "nbformat": 4,
  "nbformat_minor": 0,
  "metadata": {
    "colab": {
      "provenance": [],
      "include_colab_link": true
    },
    "kernelspec": {
      "name": "python3",
      "display_name": "Python 3"
    },
    "language_info": {
      "name": "python"
    }
  },
  "cells": [
    {
      "cell_type": "markdown",
      "metadata": {
        "id": "view-in-github",
        "colab_type": "text"
      },
      "source": [
        "<a href=\"https://colab.research.google.com/github/SHAZAN01/Machine-Learning/blob/main/Farm_Yields.ipynb\" target=\"_parent\"><img src=\"https://colab.research.google.com/assets/colab-badge.svg\" alt=\"Open In Colab\"/></a>"
      ]
    },
    {
      "cell_type": "markdown",
      "source": [
        "# **Linear Equation System**"
      ],
      "metadata": {
        "id": "g8hpmIMvo696"
      }
    },
    {
      "cell_type": "markdown",
      "source": [
        "### You will work with a simple data set that contains farm yield values of certain food grains\n",
        "\n",
        "you will perform the following tasks:\n",
        "- Load and study the data\n",
        "- Understand the problem\n",
        "- Extract yield values as a matrix from the data\n",
        "- Calculate the number of acres to provide to each farmer to achieve the target yield"
      ],
      "metadata": {
        "id": "cA-O5zpVo6-B"
      }
    },
    {
      "cell_type": "markdown",
      "source": [
        "### Task 1 - Load and study the data"
      ],
      "metadata": {
        "id": "G1AIYUp2iTv7"
      }
    },
    {
      "cell_type": "markdown",
      "source": [
        "#### Load the data and study its features such as:\n",
        "- The number of farmers\n",
        "- The number of food grain types\n",
        "- The ranges of yield values"
      ],
      "metadata": {
        "id": "bjTrwXUKiaj_"
      }
    },
    {
      "cell_type": "markdown",
      "source": [
        "#### Feature Description:\n",
        "\n",
        "- This data set contains the yearly yield values of rice, wheat, corn and millets per acre promised by four farmers.\n",
        "\n",
        "- Farmer = name of the farmer\n",
        "- Rice = amount of rice promised by the farmer in quintals per acre per year\n",
        "- Wheat = amount of wheat promised by the farmer in quintals per acre per year\n",
        "- Corn = amount of corn promised by the farmer in quintals per acre per year\n",
        "- Millets = amount of millets promised by the farmer in quintals per acre per year"
      ],
      "metadata": {
        "id": "gRQcNYVxioXm"
      }
    },
    {
      "cell_type": "code",
      "source": [
        "import numpy as np\n",
        "import pandas as pd"
      ],
      "metadata": {
        "id": "51KOAUVTo8zW"
      },
      "execution_count": null,
      "outputs": []
    },
    {
      "cell_type": "code",
      "source": [
        "df = pd.read_csv('/content/Farm_Yields.csv',index_col='Farmer')\n",
        "df"
      ],
      "metadata": {
        "id": "6ScEzv1go8wi",
        "colab": {
          "base_uri": "https://localhost:8080/",
          "height": 206
        },
        "outputId": "9bd6cf9f-3a72-42ed-e305-d2e950f53ff1"
      },
      "execution_count": null,
      "outputs": [
        {
          "output_type": "execute_result",
          "data": {
            "text/plain": [
              "         Rice  Wheat  Corn  Millets\n",
              "Farmer                             \n",
              "Ravi       22     20    37       13\n",
              "Saju       18     21    43       15\n",
              "Kishore    17     14    25       28\n",
              "Satish     12     16    52        8"
            ],
            "text/html": [
              "\n",
              "\n",
              "  <div id=\"df-b10c0bcb-1272-4112-80b2-abd1e56f8cac\">\n",
              "    <div class=\"colab-df-container\">\n",
              "      <div>\n",
              "<style scoped>\n",
              "    .dataframe tbody tr th:only-of-type {\n",
              "        vertical-align: middle;\n",
              "    }\n",
              "\n",
              "    .dataframe tbody tr th {\n",
              "        vertical-align: top;\n",
              "    }\n",
              "\n",
              "    .dataframe thead th {\n",
              "        text-align: right;\n",
              "    }\n",
              "</style>\n",
              "<table border=\"1\" class=\"dataframe\">\n",
              "  <thead>\n",
              "    <tr style=\"text-align: right;\">\n",
              "      <th></th>\n",
              "      <th>Rice</th>\n",
              "      <th>Wheat</th>\n",
              "      <th>Corn</th>\n",
              "      <th>Millets</th>\n",
              "    </tr>\n",
              "    <tr>\n",
              "      <th>Farmer</th>\n",
              "      <th></th>\n",
              "      <th></th>\n",
              "      <th></th>\n",
              "      <th></th>\n",
              "    </tr>\n",
              "  </thead>\n",
              "  <tbody>\n",
              "    <tr>\n",
              "      <th>Ravi</th>\n",
              "      <td>22</td>\n",
              "      <td>20</td>\n",
              "      <td>37</td>\n",
              "      <td>13</td>\n",
              "    </tr>\n",
              "    <tr>\n",
              "      <th>Saju</th>\n",
              "      <td>18</td>\n",
              "      <td>21</td>\n",
              "      <td>43</td>\n",
              "      <td>15</td>\n",
              "    </tr>\n",
              "    <tr>\n",
              "      <th>Kishore</th>\n",
              "      <td>17</td>\n",
              "      <td>14</td>\n",
              "      <td>25</td>\n",
              "      <td>28</td>\n",
              "    </tr>\n",
              "    <tr>\n",
              "      <th>Satish</th>\n",
              "      <td>12</td>\n",
              "      <td>16</td>\n",
              "      <td>52</td>\n",
              "      <td>8</td>\n",
              "    </tr>\n",
              "  </tbody>\n",
              "</table>\n",
              "</div>\n",
              "      <button class=\"colab-df-convert\" onclick=\"convertToInteractive('df-b10c0bcb-1272-4112-80b2-abd1e56f8cac')\"\n",
              "              title=\"Convert this dataframe to an interactive table.\"\n",
              "              style=\"display:none;\">\n",
              "\n",
              "  <svg xmlns=\"http://www.w3.org/2000/svg\" height=\"24px\"viewBox=\"0 0 24 24\"\n",
              "       width=\"24px\">\n",
              "    <path d=\"M0 0h24v24H0V0z\" fill=\"none\"/>\n",
              "    <path d=\"M18.56 5.44l.94 2.06.94-2.06 2.06-.94-2.06-.94-.94-2.06-.94 2.06-2.06.94zm-11 1L8.5 8.5l.94-2.06 2.06-.94-2.06-.94L8.5 2.5l-.94 2.06-2.06.94zm10 10l.94 2.06.94-2.06 2.06-.94-2.06-.94-.94-2.06-.94 2.06-2.06.94z\"/><path d=\"M17.41 7.96l-1.37-1.37c-.4-.4-.92-.59-1.43-.59-.52 0-1.04.2-1.43.59L10.3 9.45l-7.72 7.72c-.78.78-.78 2.05 0 2.83L4 21.41c.39.39.9.59 1.41.59.51 0 1.02-.2 1.41-.59l7.78-7.78 2.81-2.81c.8-.78.8-2.07 0-2.86zM5.41 20L4 18.59l7.72-7.72 1.47 1.35L5.41 20z\"/>\n",
              "  </svg>\n",
              "      </button>\n",
              "\n",
              "\n",
              "\n",
              "    <div id=\"df-c5291503-162c-48f7-8d76-76f5a2befc14\">\n",
              "      <button class=\"colab-df-quickchart\" onclick=\"quickchart('df-c5291503-162c-48f7-8d76-76f5a2befc14')\"\n",
              "              title=\"Suggest charts.\"\n",
              "              style=\"display:none;\">\n",
              "\n",
              "<svg xmlns=\"http://www.w3.org/2000/svg\" height=\"24px\"viewBox=\"0 0 24 24\"\n",
              "     width=\"24px\">\n",
              "    <g>\n",
              "        <path d=\"M19 3H5c-1.1 0-2 .9-2 2v14c0 1.1.9 2 2 2h14c1.1 0 2-.9 2-2V5c0-1.1-.9-2-2-2zM9 17H7v-7h2v7zm4 0h-2V7h2v10zm4 0h-2v-4h2v4z\"/>\n",
              "    </g>\n",
              "</svg>\n",
              "      </button>\n",
              "    </div>\n",
              "\n",
              "<style>\n",
              "  .colab-df-quickchart {\n",
              "    background-color: #E8F0FE;\n",
              "    border: none;\n",
              "    border-radius: 50%;\n",
              "    cursor: pointer;\n",
              "    display: none;\n",
              "    fill: #1967D2;\n",
              "    height: 32px;\n",
              "    padding: 0 0 0 0;\n",
              "    width: 32px;\n",
              "  }\n",
              "\n",
              "  .colab-df-quickchart:hover {\n",
              "    background-color: #E2EBFA;\n",
              "    box-shadow: 0px 1px 2px rgba(60, 64, 67, 0.3), 0px 1px 3px 1px rgba(60, 64, 67, 0.15);\n",
              "    fill: #174EA6;\n",
              "  }\n",
              "\n",
              "  [theme=dark] .colab-df-quickchart {\n",
              "    background-color: #3B4455;\n",
              "    fill: #D2E3FC;\n",
              "  }\n",
              "\n",
              "  [theme=dark] .colab-df-quickchart:hover {\n",
              "    background-color: #434B5C;\n",
              "    box-shadow: 0px 1px 3px 1px rgba(0, 0, 0, 0.15);\n",
              "    filter: drop-shadow(0px 1px 2px rgba(0, 0, 0, 0.3));\n",
              "    fill: #FFFFFF;\n",
              "  }\n",
              "</style>\n",
              "\n",
              "    <script>\n",
              "      async function quickchart(key) {\n",
              "        const containerElement = document.querySelector('#' + key);\n",
              "        const charts = await google.colab.kernel.invokeFunction(\n",
              "            'suggestCharts', [key], {});\n",
              "      }\n",
              "    </script>\n",
              "\n",
              "      <script>\n",
              "\n",
              "function displayQuickchartButton(domScope) {\n",
              "  let quickchartButtonEl =\n",
              "    domScope.querySelector('#df-c5291503-162c-48f7-8d76-76f5a2befc14 button.colab-df-quickchart');\n",
              "  quickchartButtonEl.style.display =\n",
              "    google.colab.kernel.accessAllowed ? 'block' : 'none';\n",
              "}\n",
              "\n",
              "        displayQuickchartButton(document);\n",
              "      </script>\n",
              "      <style>\n",
              "    .colab-df-container {\n",
              "      display:flex;\n",
              "      flex-wrap:wrap;\n",
              "      gap: 12px;\n",
              "    }\n",
              "\n",
              "    .colab-df-convert {\n",
              "      background-color: #E8F0FE;\n",
              "      border: none;\n",
              "      border-radius: 50%;\n",
              "      cursor: pointer;\n",
              "      display: none;\n",
              "      fill: #1967D2;\n",
              "      height: 32px;\n",
              "      padding: 0 0 0 0;\n",
              "      width: 32px;\n",
              "    }\n",
              "\n",
              "    .colab-df-convert:hover {\n",
              "      background-color: #E2EBFA;\n",
              "      box-shadow: 0px 1px 2px rgba(60, 64, 67, 0.3), 0px 1px 3px 1px rgba(60, 64, 67, 0.15);\n",
              "      fill: #174EA6;\n",
              "    }\n",
              "\n",
              "    [theme=dark] .colab-df-convert {\n",
              "      background-color: #3B4455;\n",
              "      fill: #D2E3FC;\n",
              "    }\n",
              "\n",
              "    [theme=dark] .colab-df-convert:hover {\n",
              "      background-color: #434B5C;\n",
              "      box-shadow: 0px 1px 3px 1px rgba(0, 0, 0, 0.15);\n",
              "      filter: drop-shadow(0px 1px 2px rgba(0, 0, 0, 0.3));\n",
              "      fill: #FFFFFF;\n",
              "    }\n",
              "  </style>\n",
              "\n",
              "      <script>\n",
              "        const buttonEl =\n",
              "          document.querySelector('#df-b10c0bcb-1272-4112-80b2-abd1e56f8cac button.colab-df-convert');\n",
              "        buttonEl.style.display =\n",
              "          google.colab.kernel.accessAllowed ? 'block' : 'none';\n",
              "\n",
              "        async function convertToInteractive(key) {\n",
              "          const element = document.querySelector('#df-b10c0bcb-1272-4112-80b2-abd1e56f8cac');\n",
              "          const dataTable =\n",
              "            await google.colab.kernel.invokeFunction('convertToInteractive',\n",
              "                                                     [key], {});\n",
              "          if (!dataTable) return;\n",
              "\n",
              "          const docLinkHtml = 'Like what you see? Visit the ' +\n",
              "            '<a target=\"_blank\" href=https://colab.research.google.com/notebooks/data_table.ipynb>data table notebook</a>'\n",
              "            + ' to learn more about interactive tables.';\n",
              "          element.innerHTML = '';\n",
              "          dataTable['output_type'] = 'display_data';\n",
              "          await google.colab.output.renderOutput(dataTable, element);\n",
              "          const docLink = document.createElement('div');\n",
              "          docLink.innerHTML = docLinkHtml;\n",
              "          element.appendChild(docLink);\n",
              "        }\n",
              "      </script>\n",
              "    </div>\n",
              "  </div>\n"
            ]
          },
          "metadata": {},
          "execution_count": 3
        }
      ]
    },
    {
      "cell_type": "markdown",
      "source": [
        "### Task 2 - Understand the problem\n"
      ],
      "metadata": {
        "id": "y-7gKGZujIX2"
      }
    },
    {
      "cell_type": "markdown",
      "source": [
        "#### Problem Statement\n",
        "\n",
        " Assume that the locality served by the four farmers needs the following amounts of food grains in the coming year:\n",
        "- 373 quintals of rice\n",
        "- 394 quintals of wheat\n",
        "- 922 qunitals of corn\n",
        "- 299 quintals of millets"
      ],
      "metadata": {
        "id": "HzPDAaXajOK9"
      }
    },
    {
      "cell_type": "markdown",
      "source": [
        "#### The farm land owner has to decided how many acres to provide to each farmer to achieve this target for his locality\n",
        "\n",
        "- The data contains the yield values of 4 food grains promised by 4 farmers. These yield values are in quintals per acre per year"
      ],
      "metadata": {
        "id": "gORPjfifjvm5"
      }
    },
    {
      "cell_type": "markdown",
      "source": [
        "#### **Concept and Logic**\n",
        "1. Let A be matrix of the yield values (4 x 4 matrix)\n",
        "2. Let X be the number of acres to be provided to each farmer (4 x 1 matrix)\n",
        "3. Let B be the total required yield values after one year (4 x 1 matrix)\n",
        "4.  The matrix equation will be A * X = B\n",
        "5. So, we can solve for X using the equation X = inverse(A) * B\n",
        "\n",
        "**Note:** The data has farmer names as rows and food grains as columns. For the matrix equation to be meaningful, the matrix A must have farmer names as columns and food grains as rows"
      ],
      "metadata": {
        "id": "c6-G4hIfkEz5"
      }
    },
    {
      "cell_type": "markdown",
      "source": [
        "![](https://bytepawn.com/images/axb.PNG)"
      ],
      "metadata": {
        "id": "Bnc_2rThmSkY"
      }
    },
    {
      "cell_type": "code",
      "source": [
        "# 373 quintals of rice\n",
        "# 394 quintals of wheat\n",
        "# 922 qunitals of corn\n",
        "# 299 quintals of millets\n",
        "B = np.matrix([373,394,922,299]).T\n",
        "B"
      ],
      "metadata": {
        "id": "ZvqczdbcpDqm",
        "colab": {
          "base_uri": "https://localhost:8080/"
        },
        "outputId": "08b25189-24d4-4310-ba3b-ff5dcc9b50fe"
      },
      "execution_count": null,
      "outputs": [
        {
          "output_type": "execute_result",
          "data": {
            "text/plain": [
              "matrix([[373],\n",
              "        [394],\n",
              "        [922],\n",
              "        [299]])"
            ]
          },
          "metadata": {},
          "execution_count": 23
        }
      ]
    },
    {
      "cell_type": "code",
      "source": [
        "A = df.T\n",
        "A"
      ],
      "metadata": {
        "id": "CSO41F3lpC8L",
        "colab": {
          "base_uri": "https://localhost:8080/",
          "height": 175
        },
        "outputId": "c9e2c190-b626-4520-f79a-9bcead8fb0a7"
      },
      "execution_count": null,
      "outputs": [
        {
          "output_type": "execute_result",
          "data": {
            "text/plain": [
              "Farmer   Ravi  Saju  Kishore  Satish\n",
              "Rice       22    18       17      12\n",
              "Wheat      20    21       14      16\n",
              "Corn       37    43       25      52\n",
              "Millets    13    15       28       8"
            ],
            "text/html": [
              "\n",
              "\n",
              "  <div id=\"df-407f5aac-a8da-47a9-8de6-d9f3110f2960\">\n",
              "    <div class=\"colab-df-container\">\n",
              "      <div>\n",
              "<style scoped>\n",
              "    .dataframe tbody tr th:only-of-type {\n",
              "        vertical-align: middle;\n",
              "    }\n",
              "\n",
              "    .dataframe tbody tr th {\n",
              "        vertical-align: top;\n",
              "    }\n",
              "\n",
              "    .dataframe thead th {\n",
              "        text-align: right;\n",
              "    }\n",
              "</style>\n",
              "<table border=\"1\" class=\"dataframe\">\n",
              "  <thead>\n",
              "    <tr style=\"text-align: right;\">\n",
              "      <th>Farmer</th>\n",
              "      <th>Ravi</th>\n",
              "      <th>Saju</th>\n",
              "      <th>Kishore</th>\n",
              "      <th>Satish</th>\n",
              "    </tr>\n",
              "  </thead>\n",
              "  <tbody>\n",
              "    <tr>\n",
              "      <th>Rice</th>\n",
              "      <td>22</td>\n",
              "      <td>18</td>\n",
              "      <td>17</td>\n",
              "      <td>12</td>\n",
              "    </tr>\n",
              "    <tr>\n",
              "      <th>Wheat</th>\n",
              "      <td>20</td>\n",
              "      <td>21</td>\n",
              "      <td>14</td>\n",
              "      <td>16</td>\n",
              "    </tr>\n",
              "    <tr>\n",
              "      <th>Corn</th>\n",
              "      <td>37</td>\n",
              "      <td>43</td>\n",
              "      <td>25</td>\n",
              "      <td>52</td>\n",
              "    </tr>\n",
              "    <tr>\n",
              "      <th>Millets</th>\n",
              "      <td>13</td>\n",
              "      <td>15</td>\n",
              "      <td>28</td>\n",
              "      <td>8</td>\n",
              "    </tr>\n",
              "  </tbody>\n",
              "</table>\n",
              "</div>\n",
              "      <button class=\"colab-df-convert\" onclick=\"convertToInteractive('df-407f5aac-a8da-47a9-8de6-d9f3110f2960')\"\n",
              "              title=\"Convert this dataframe to an interactive table.\"\n",
              "              style=\"display:none;\">\n",
              "\n",
              "  <svg xmlns=\"http://www.w3.org/2000/svg\" height=\"24px\"viewBox=\"0 0 24 24\"\n",
              "       width=\"24px\">\n",
              "    <path d=\"M0 0h24v24H0V0z\" fill=\"none\"/>\n",
              "    <path d=\"M18.56 5.44l.94 2.06.94-2.06 2.06-.94-2.06-.94-.94-2.06-.94 2.06-2.06.94zm-11 1L8.5 8.5l.94-2.06 2.06-.94-2.06-.94L8.5 2.5l-.94 2.06-2.06.94zm10 10l.94 2.06.94-2.06 2.06-.94-2.06-.94-.94-2.06-.94 2.06-2.06.94z\"/><path d=\"M17.41 7.96l-1.37-1.37c-.4-.4-.92-.59-1.43-.59-.52 0-1.04.2-1.43.59L10.3 9.45l-7.72 7.72c-.78.78-.78 2.05 0 2.83L4 21.41c.39.39.9.59 1.41.59.51 0 1.02-.2 1.41-.59l7.78-7.78 2.81-2.81c.8-.78.8-2.07 0-2.86zM5.41 20L4 18.59l7.72-7.72 1.47 1.35L5.41 20z\"/>\n",
              "  </svg>\n",
              "      </button>\n",
              "\n",
              "\n",
              "\n",
              "    <div id=\"df-7c7b95bb-70b4-4d8b-bc93-d14f84a03edb\">\n",
              "      <button class=\"colab-df-quickchart\" onclick=\"quickchart('df-7c7b95bb-70b4-4d8b-bc93-d14f84a03edb')\"\n",
              "              title=\"Suggest charts.\"\n",
              "              style=\"display:none;\">\n",
              "\n",
              "<svg xmlns=\"http://www.w3.org/2000/svg\" height=\"24px\"viewBox=\"0 0 24 24\"\n",
              "     width=\"24px\">\n",
              "    <g>\n",
              "        <path d=\"M19 3H5c-1.1 0-2 .9-2 2v14c0 1.1.9 2 2 2h14c1.1 0 2-.9 2-2V5c0-1.1-.9-2-2-2zM9 17H7v-7h2v7zm4 0h-2V7h2v10zm4 0h-2v-4h2v4z\"/>\n",
              "    </g>\n",
              "</svg>\n",
              "      </button>\n",
              "    </div>\n",
              "\n",
              "<style>\n",
              "  .colab-df-quickchart {\n",
              "    background-color: #E8F0FE;\n",
              "    border: none;\n",
              "    border-radius: 50%;\n",
              "    cursor: pointer;\n",
              "    display: none;\n",
              "    fill: #1967D2;\n",
              "    height: 32px;\n",
              "    padding: 0 0 0 0;\n",
              "    width: 32px;\n",
              "  }\n",
              "\n",
              "  .colab-df-quickchart:hover {\n",
              "    background-color: #E2EBFA;\n",
              "    box-shadow: 0px 1px 2px rgba(60, 64, 67, 0.3), 0px 1px 3px 1px rgba(60, 64, 67, 0.15);\n",
              "    fill: #174EA6;\n",
              "  }\n",
              "\n",
              "  [theme=dark] .colab-df-quickchart {\n",
              "    background-color: #3B4455;\n",
              "    fill: #D2E3FC;\n",
              "  }\n",
              "\n",
              "  [theme=dark] .colab-df-quickchart:hover {\n",
              "    background-color: #434B5C;\n",
              "    box-shadow: 0px 1px 3px 1px rgba(0, 0, 0, 0.15);\n",
              "    filter: drop-shadow(0px 1px 2px rgba(0, 0, 0, 0.3));\n",
              "    fill: #FFFFFF;\n",
              "  }\n",
              "</style>\n",
              "\n",
              "    <script>\n",
              "      async function quickchart(key) {\n",
              "        const containerElement = document.querySelector('#' + key);\n",
              "        const charts = await google.colab.kernel.invokeFunction(\n",
              "            'suggestCharts', [key], {});\n",
              "      }\n",
              "    </script>\n",
              "\n",
              "      <script>\n",
              "\n",
              "function displayQuickchartButton(domScope) {\n",
              "  let quickchartButtonEl =\n",
              "    domScope.querySelector('#df-7c7b95bb-70b4-4d8b-bc93-d14f84a03edb button.colab-df-quickchart');\n",
              "  quickchartButtonEl.style.display =\n",
              "    google.colab.kernel.accessAllowed ? 'block' : 'none';\n",
              "}\n",
              "\n",
              "        displayQuickchartButton(document);\n",
              "      </script>\n",
              "      <style>\n",
              "    .colab-df-container {\n",
              "      display:flex;\n",
              "      flex-wrap:wrap;\n",
              "      gap: 12px;\n",
              "    }\n",
              "\n",
              "    .colab-df-convert {\n",
              "      background-color: #E8F0FE;\n",
              "      border: none;\n",
              "      border-radius: 50%;\n",
              "      cursor: pointer;\n",
              "      display: none;\n",
              "      fill: #1967D2;\n",
              "      height: 32px;\n",
              "      padding: 0 0 0 0;\n",
              "      width: 32px;\n",
              "    }\n",
              "\n",
              "    .colab-df-convert:hover {\n",
              "      background-color: #E2EBFA;\n",
              "      box-shadow: 0px 1px 2px rgba(60, 64, 67, 0.3), 0px 1px 3px 1px rgba(60, 64, 67, 0.15);\n",
              "      fill: #174EA6;\n",
              "    }\n",
              "\n",
              "    [theme=dark] .colab-df-convert {\n",
              "      background-color: #3B4455;\n",
              "      fill: #D2E3FC;\n",
              "    }\n",
              "\n",
              "    [theme=dark] .colab-df-convert:hover {\n",
              "      background-color: #434B5C;\n",
              "      box-shadow: 0px 1px 3px 1px rgba(0, 0, 0, 0.15);\n",
              "      filter: drop-shadow(0px 1px 2px rgba(0, 0, 0, 0.3));\n",
              "      fill: #FFFFFF;\n",
              "    }\n",
              "  </style>\n",
              "\n",
              "      <script>\n",
              "        const buttonEl =\n",
              "          document.querySelector('#df-407f5aac-a8da-47a9-8de6-d9f3110f2960 button.colab-df-convert');\n",
              "        buttonEl.style.display =\n",
              "          google.colab.kernel.accessAllowed ? 'block' : 'none';\n",
              "\n",
              "        async function convertToInteractive(key) {\n",
              "          const element = document.querySelector('#df-407f5aac-a8da-47a9-8de6-d9f3110f2960');\n",
              "          const dataTable =\n",
              "            await google.colab.kernel.invokeFunction('convertToInteractive',\n",
              "                                                     [key], {});\n",
              "          if (!dataTable) return;\n",
              "\n",
              "          const docLinkHtml = 'Like what you see? Visit the ' +\n",
              "            '<a target=\"_blank\" href=https://colab.research.google.com/notebooks/data_table.ipynb>data table notebook</a>'\n",
              "            + ' to learn more about interactive tables.';\n",
              "          element.innerHTML = '';\n",
              "          dataTable['output_type'] = 'display_data';\n",
              "          await google.colab.output.renderOutput(dataTable, element);\n",
              "          const docLink = document.createElement('div');\n",
              "          docLink.innerHTML = docLinkHtml;\n",
              "          element.appendChild(docLink);\n",
              "        }\n",
              "      </script>\n",
              "    </div>\n",
              "  </div>\n"
            ]
          },
          "metadata": {},
          "execution_count": 24
        }
      ]
    },
    {
      "cell_type": "markdown",
      "source": [
        "### Task 3 - Extract yield values as a matrix from the data"
      ],
      "metadata": {
        "id": "qdgHrS88kmZ8"
      }
    },
    {
      "cell_type": "markdown",
      "source": [
        "- The farm yield values are in quintals per acre per year\n",
        "- These yield values will form a 4 x 4 matrix (considering all farmers)"
      ],
      "metadata": {
        "id": "3h_8NpqbkrmQ"
      }
    },
    {
      "cell_type": "code",
      "source": [
        "A = np.matrix(A)\n",
        "A"
      ],
      "metadata": {
        "id": "D7AG-CxHpDnx",
        "colab": {
          "base_uri": "https://localhost:8080/"
        },
        "outputId": "17d18836-e158-4c24-b989-8e315d1d4925"
      },
      "execution_count": null,
      "outputs": [
        {
          "output_type": "execute_result",
          "data": {
            "text/plain": [
              "matrix([[22, 18, 17, 12],\n",
              "        [20, 21, 14, 16],\n",
              "        [37, 43, 25, 52],\n",
              "        [13, 15, 28,  8]])"
            ]
          },
          "metadata": {},
          "execution_count": 25
        }
      ]
    },
    {
      "cell_type": "markdown",
      "source": [
        "### Task 4 - Calculate the number of acres to provide to each farmer to achieve the target yield"
      ],
      "metadata": {
        "id": "IHn-iORsk6I6"
      }
    },
    {
      "cell_type": "markdown",
      "source": [
        "##### The farm yield values for rice, wheat, corn and millets for the 4 farmers is a 4 x 4 matrix. The columns hold the yield values of particular farmers. The locality served by the four farmers needs the following amounts of food grains in the coming year:\n",
        "- 373 quintals of rice\n",
        "- 394 quintals of wheat\n",
        "- 922 qunitals of corn\n",
        "- 299 quintals of millets"
      ],
      "metadata": {
        "id": "YHm7VzySlWjB"
      }
    },
    {
      "cell_type": "markdown",
      "source": [
        "1. To find the number of acres to be given to each farmer, we will use systems of linear equations\n",
        "2. Let \"X\" be the vector of number of acres to be given to each farmer\n",
        "3. Then, the required matrix equation will be \"mat_yields * X = mat_food\"\n",
        "4. Notice that \"mat_yields\" is a 4 x 4 matrix and mat_food is a 4 x 1 matrix\n",
        "5. Hence, \"X\" will be a 4 x 1 matrix which holds the required number of acres to be given to each farmer\n",
        "6. So, we can rewrite the equation as \"X = inverse of mat_yields * mat_food\""
      ],
      "metadata": {
        "id": "GWA9UCavlqPP"
      }
    },
    {
      "cell_type": "markdown",
      "source": [
        "![](https://i.ytimg.com/vi/aiBgjz5xbyg/maxresdefault.jpg)"
      ],
      "metadata": {
        "id": "KP6k2qEKj0hG"
      }
    },
    {
      "cell_type": "markdown",
      "source": [
        "### **Matrix * Vector**\n",
        "\n",
        "![](https://hadrienj.github.io/assets/images/2.2/dot-product.png)"
      ],
      "metadata": {
        "id": "jAYiHc2Vk82t"
      }
    },
    {
      "cell_type": "code",
      "source": [
        "# Hint: \"np.linalg.inv()\"\n",
        "X = np.linalg.inv(A)*B\n",
        "X"
      ],
      "metadata": {
        "id": "uqNIeMqLpE5w",
        "colab": {
          "base_uri": "https://localhost:8080/"
        },
        "outputId": "aff5275e-7fc7-4248-da92-75ba304783bb"
      },
      "execution_count": null,
      "outputs": [
        {
          "output_type": "execute_result",
          "data": {
            "text/plain": [
              "matrix([[7.],\n",
              "        [4.],\n",
              "        [3.],\n",
              "        [8.]])"
            ]
          },
          "metadata": {},
          "execution_count": 26
        }
      ]
    },
    {
      "cell_type": "code",
      "source": [
        "data = (np.array(X).T)[0]\n",
        "data"
      ],
      "metadata": {
        "colab": {
          "base_uri": "https://localhost:8080/"
        },
        "id": "5wWIShHBlUnq",
        "outputId": "02f84c8a-89d4-4c0e-9fb3-918afa01e89d"
      },
      "execution_count": null,
      "outputs": [
        {
          "output_type": "execute_result",
          "data": {
            "text/plain": [
              "array([7., 4., 3., 8.])"
            ]
          },
          "metadata": {},
          "execution_count": 31
        }
      ]
    },
    {
      "cell_type": "code",
      "source": [
        "pd.Series(data,index=df.index)"
      ],
      "metadata": {
        "id": "rmdkA1fCpErI",
        "colab": {
          "base_uri": "https://localhost:8080/"
        },
        "outputId": "e4adc741-dc2e-4ba0-96ca-778a41f8a843"
      },
      "execution_count": null,
      "outputs": [
        {
          "output_type": "execute_result",
          "data": {
            "text/plain": [
              "Farmer\n",
              "Ravi       7.0\n",
              "Saju       4.0\n",
              "Kishore    3.0\n",
              "Satish     8.0\n",
              "dtype: float64"
            ]
          },
          "metadata": {},
          "execution_count": 32
        }
      ]
    },
    {
      "cell_type": "code",
      "source": [
        "A"
      ],
      "metadata": {
        "id": "lKf5mIbypF7q",
        "colab": {
          "base_uri": "https://localhost:8080/"
        },
        "outputId": "41c9adeb-71e2-434b-a7a8-0700fa319468"
      },
      "execution_count": null,
      "outputs": [
        {
          "output_type": "execute_result",
          "data": {
            "text/plain": [
              "matrix([[22, 18, 17, 12],\n",
              "        [20, 21, 14, 16],\n",
              "        [37, 43, 25, 52],\n",
              "        [13, 15, 28,  8]])"
            ]
          },
          "metadata": {},
          "execution_count": 33
        }
      ]
    },
    {
      "cell_type": "code",
      "source": [
        "X"
      ],
      "metadata": {
        "colab": {
          "base_uri": "https://localhost:8080/"
        },
        "id": "d2E3MWncmS0N",
        "outputId": "4af081f6-cadb-4c4b-aa84-411842153680"
      },
      "execution_count": null,
      "outputs": [
        {
          "output_type": "execute_result",
          "data": {
            "text/plain": [
              "matrix([[7.],\n",
              "        [4.],\n",
              "        [3.],\n",
              "        [8.]])"
            ]
          },
          "metadata": {},
          "execution_count": 35
        }
      ]
    },
    {
      "cell_type": "code",
      "source": [
        "B"
      ],
      "metadata": {
        "id": "D7fDB7RApF41",
        "colab": {
          "base_uri": "https://localhost:8080/"
        },
        "outputId": "fbdb639f-00e0-424a-cb0e-cd70ac95fe7b"
      },
      "execution_count": null,
      "outputs": [
        {
          "output_type": "execute_result",
          "data": {
            "text/plain": [
              "matrix([[373],\n",
              "        [394],\n",
              "        [922],\n",
              "        [299]])"
            ]
          },
          "metadata": {},
          "execution_count": 34
        }
      ]
    },
    {
      "cell_type": "code",
      "execution_count": null,
      "metadata": {
        "id": "HRXZqByElRe0",
        "colab": {
          "base_uri": "https://localhost:8080/"
        },
        "outputId": "9910e6a1-a5ac-412f-9333-efbe66b53df9"
      },
      "outputs": [
        {
          "output_type": "execute_result",
          "data": {
            "text/plain": [
              "matrix([[373.],\n",
              "        [394.],\n",
              "        [922.],\n",
              "        [299.]])"
            ]
          },
          "metadata": {},
          "execution_count": 36
        }
      ],
      "source": [
        "A*X"
      ]
    },
    {
      "cell_type": "markdown",
      "source": [
        "#### Observations\n",
        "\n",
        "- The farmer Ravi will get 7 acres of land\n",
        "- The farmer Saju will get 4 acres of land\n",
        "- The farmer Kishore will get 3 acres of land\n",
        "- The farmer Satish will get 8 acres of land"
      ],
      "metadata": {
        "id": "XVDatYKfl119"
      }
    },
    {
      "cell_type": "markdown",
      "source": [
        "### Conclusions\n",
        "\n",
        "- From the farm yields data and some target yield, we can calculate the distbution of land between farmers\n",
        "- We can treat the farm yield values of all the farmers as a matrix\n",
        "- We can use matrix equations and matrix inverses to solve such problems"
      ],
      "metadata": {
        "id": "J0jCJL1fl-fX"
      }
    }
  ]
}