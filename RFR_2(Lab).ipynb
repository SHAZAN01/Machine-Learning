{
  "cells": [
    {
      "cell_type": "markdown",
      "metadata": {
        "id": "view-in-github",
        "colab_type": "text"
      },
      "source": [
        "<a href=\"https://colab.research.google.com/github/SHAZAN01/Machine-Learning/blob/main/RFR_2(Lab).ipynb\" target=\"_parent\"><img src=\"https://colab.research.google.com/assets/colab-badge.svg\" alt=\"Open In Colab\"/></a>"
      ]
    },
    {
      "cell_type": "markdown",
      "id": "9fc07df7",
      "metadata": {
        "papermill": {
          "duration": 0.010749,
          "end_time": "2023-04-18T08:16:34.062220",
          "exception": false,
          "start_time": "2023-04-18T08:16:34.051471",
          "status": "completed"
        },
        "tags": [],
        "id": "9fc07df7"
      },
      "source": [
        "# Salary Prediction Using Random Forest Regression"
      ]
    },
    {
      "cell_type": "markdown",
      "id": "2a6e18bf",
      "metadata": {
        "papermill": {
          "duration": 0.010595,
          "end_time": "2023-04-18T08:16:34.120874",
          "exception": false,
          "start_time": "2023-04-18T08:16:34.110279",
          "status": "completed"
        },
        "tags": [],
        "id": "2a6e18bf"
      },
      "source": [
        "## 1. What is Random Forest Regression?"
      ]
    },
    {
      "cell_type": "markdown",
      "id": "2ae6062d",
      "metadata": {
        "papermill": {
          "duration": 0.00928,
          "end_time": "2023-04-18T08:16:34.139651",
          "exception": false,
          "start_time": "2023-04-18T08:16:34.130371",
          "status": "completed"
        },
        "tags": [],
        "id": "2ae6062d"
      },
      "source": [
        "### Random Forest is a popular machine learning algorithm that belongs to the supervised learning technique. It can be used for both Classification and Regression problems in ML. It is based on the concept of ensemble learning, which is a process of combining multiple classifiers to solve a complex problem and to improve the performance of the model.\n",
        "\n",
        "# Hyperparameters:\n",
        "\n",
        "    n_estimators — the number of decision trees you will be running in the model\n",
        "    criterion — this variable allows you to select the criterion (loss function) used to determine model outcomes. We can select from loss functions such as mean squared error (MSE) and mean absolute error (MAE). The default value is MSE.\n",
        "    max_depth — this sets the maximum possible depth of each tree\n",
        "    max_features — the maximum number of features the model will consider when determining a split\n",
        "    bootstrap — the default value for this is True, meaning the model follows bootstrapping principles (defined    earlier)\n",
        "    max_samples — This parameter assumes bootstrapping is set to True, if not, this parameter doesn’t apply. In the case of True, this value sets the largest size of each sample for each tree.\n",
        "\n",
        "\n",
        "\n",
        "## Why use Random Forest?\n",
        "\n",
        "### It takes less training time as compared to other algorithms.\n",
        "### It predicts output with high accuracy, even for the large dataset it runs efficiently.\n",
        "### It can also maintain accuracy when a large proportion of data is missing."
      ]
    },
    {
      "cell_type": "markdown",
      "id": "c66137de",
      "metadata": {
        "papermill": {
          "duration": 0.009215,
          "end_time": "2023-04-18T08:16:34.158566",
          "exception": false,
          "start_time": "2023-04-18T08:16:34.149351",
          "status": "completed"
        },
        "tags": [],
        "id": "c66137de"
      },
      "source": [
        "## 2. Importing Libraries"
      ]
    },
    {
      "cell_type": "code",
      "execution_count": null,
      "id": "7a3a6c97",
      "metadata": {
        "execution": {
          "iopub.execute_input": "2023-04-18T08:16:34.180425Z",
          "iopub.status.busy": "2023-04-18T08:16:34.179511Z",
          "iopub.status.idle": "2023-04-18T08:16:37.121869Z",
          "shell.execute_reply": "2023-04-18T08:16:37.120850Z"
        },
        "papermill": {
          "duration": 2.956703,
          "end_time": "2023-04-18T08:16:37.124769",
          "exception": false,
          "start_time": "2023-04-18T08:16:34.168066",
          "status": "completed"
        },
        "tags": [],
        "id": "7a3a6c97"
      },
      "outputs": [],
      "source": [
        "import pandas as pd\n",
        "import numpy as np\n",
        "import matplotlib.pyplot as plt\n",
        "import plotly.express as px\n",
        "import seaborn as sns"
      ]
    },
    {
      "cell_type": "markdown",
      "id": "0f791ef1",
      "metadata": {
        "papermill": {
          "duration": 0.009228,
          "end_time": "2023-04-18T08:16:37.143869",
          "exception": false,
          "start_time": "2023-04-18T08:16:37.134641",
          "status": "completed"
        },
        "tags": [],
        "id": "0f791ef1"
      },
      "source": [
        "## 3. Loading Dataset"
      ]
    },
    {
      "cell_type": "code",
      "execution_count": null,
      "id": "cd80d673",
      "metadata": {
        "execution": {
          "iopub.execute_input": "2023-04-18T08:16:37.165426Z",
          "iopub.status.busy": "2023-04-18T08:16:37.164737Z",
          "iopub.status.idle": "2023-04-18T08:16:37.209343Z",
          "shell.execute_reply": "2023-04-18T08:16:37.208073Z"
        },
        "papermill": {
          "duration": 0.058639,
          "end_time": "2023-04-18T08:16:37.212186",
          "exception": false,
          "start_time": "2023-04-18T08:16:37.153547",
          "status": "completed"
        },
        "tags": [],
        "colab": {
          "base_uri": "https://localhost:8080/",
          "height": 206
        },
        "id": "cd80d673",
        "outputId": "40d54f84-e100-4694-bd06-d4b715e62b06"
      },
      "outputs": [
        {
          "output_type": "execute_result",
          "data": {
            "text/plain": [
              "   YearsExperience  Salary\n",
              "0              1.1   39343\n",
              "1              1.3   46205\n",
              "2              1.5   37731\n",
              "3              2.0   43525\n",
              "4              2.2   39891"
            ],
            "text/html": [
              "\n",
              "\n",
              "  <div id=\"df-b770f471-d2ae-477e-8879-46c542998d61\">\n",
              "    <div class=\"colab-df-container\">\n",
              "      <div>\n",
              "<style scoped>\n",
              "    .dataframe tbody tr th:only-of-type {\n",
              "        vertical-align: middle;\n",
              "    }\n",
              "\n",
              "    .dataframe tbody tr th {\n",
              "        vertical-align: top;\n",
              "    }\n",
              "\n",
              "    .dataframe thead th {\n",
              "        text-align: right;\n",
              "    }\n",
              "</style>\n",
              "<table border=\"1\" class=\"dataframe\">\n",
              "  <thead>\n",
              "    <tr style=\"text-align: right;\">\n",
              "      <th></th>\n",
              "      <th>YearsExperience</th>\n",
              "      <th>Salary</th>\n",
              "    </tr>\n",
              "  </thead>\n",
              "  <tbody>\n",
              "    <tr>\n",
              "      <th>0</th>\n",
              "      <td>1.1</td>\n",
              "      <td>39343</td>\n",
              "    </tr>\n",
              "    <tr>\n",
              "      <th>1</th>\n",
              "      <td>1.3</td>\n",
              "      <td>46205</td>\n",
              "    </tr>\n",
              "    <tr>\n",
              "      <th>2</th>\n",
              "      <td>1.5</td>\n",
              "      <td>37731</td>\n",
              "    </tr>\n",
              "    <tr>\n",
              "      <th>3</th>\n",
              "      <td>2.0</td>\n",
              "      <td>43525</td>\n",
              "    </tr>\n",
              "    <tr>\n",
              "      <th>4</th>\n",
              "      <td>2.2</td>\n",
              "      <td>39891</td>\n",
              "    </tr>\n",
              "  </tbody>\n",
              "</table>\n",
              "</div>\n",
              "      <button class=\"colab-df-convert\" onclick=\"convertToInteractive('df-b770f471-d2ae-477e-8879-46c542998d61')\"\n",
              "              title=\"Convert this dataframe to an interactive table.\"\n",
              "              style=\"display:none;\">\n",
              "\n",
              "  <svg xmlns=\"http://www.w3.org/2000/svg\" height=\"24px\"viewBox=\"0 0 24 24\"\n",
              "       width=\"24px\">\n",
              "    <path d=\"M0 0h24v24H0V0z\" fill=\"none\"/>\n",
              "    <path d=\"M18.56 5.44l.94 2.06.94-2.06 2.06-.94-2.06-.94-.94-2.06-.94 2.06-2.06.94zm-11 1L8.5 8.5l.94-2.06 2.06-.94-2.06-.94L8.5 2.5l-.94 2.06-2.06.94zm10 10l.94 2.06.94-2.06 2.06-.94-2.06-.94-.94-2.06-.94 2.06-2.06.94z\"/><path d=\"M17.41 7.96l-1.37-1.37c-.4-.4-.92-.59-1.43-.59-.52 0-1.04.2-1.43.59L10.3 9.45l-7.72 7.72c-.78.78-.78 2.05 0 2.83L4 21.41c.39.39.9.59 1.41.59.51 0 1.02-.2 1.41-.59l7.78-7.78 2.81-2.81c.8-.78.8-2.07 0-2.86zM5.41 20L4 18.59l7.72-7.72 1.47 1.35L5.41 20z\"/>\n",
              "  </svg>\n",
              "      </button>\n",
              "\n",
              "\n",
              "\n",
              "    <div id=\"df-94e9e9d3-9521-4dcf-aba3-ad2c6e1d3ef4\">\n",
              "      <button class=\"colab-df-quickchart\" onclick=\"quickchart('df-94e9e9d3-9521-4dcf-aba3-ad2c6e1d3ef4')\"\n",
              "              title=\"Suggest charts.\"\n",
              "              style=\"display:none;\">\n",
              "\n",
              "<svg xmlns=\"http://www.w3.org/2000/svg\" height=\"24px\"viewBox=\"0 0 24 24\"\n",
              "     width=\"24px\">\n",
              "    <g>\n",
              "        <path d=\"M19 3H5c-1.1 0-2 .9-2 2v14c0 1.1.9 2 2 2h14c1.1 0 2-.9 2-2V5c0-1.1-.9-2-2-2zM9 17H7v-7h2v7zm4 0h-2V7h2v10zm4 0h-2v-4h2v4z\"/>\n",
              "    </g>\n",
              "</svg>\n",
              "      </button>\n",
              "    </div>\n",
              "\n",
              "<style>\n",
              "  .colab-df-quickchart {\n",
              "    background-color: #E8F0FE;\n",
              "    border: none;\n",
              "    border-radius: 50%;\n",
              "    cursor: pointer;\n",
              "    display: none;\n",
              "    fill: #1967D2;\n",
              "    height: 32px;\n",
              "    padding: 0 0 0 0;\n",
              "    width: 32px;\n",
              "  }\n",
              "\n",
              "  .colab-df-quickchart:hover {\n",
              "    background-color: #E2EBFA;\n",
              "    box-shadow: 0px 1px 2px rgba(60, 64, 67, 0.3), 0px 1px 3px 1px rgba(60, 64, 67, 0.15);\n",
              "    fill: #174EA6;\n",
              "  }\n",
              "\n",
              "  [theme=dark] .colab-df-quickchart {\n",
              "    background-color: #3B4455;\n",
              "    fill: #D2E3FC;\n",
              "  }\n",
              "\n",
              "  [theme=dark] .colab-df-quickchart:hover {\n",
              "    background-color: #434B5C;\n",
              "    box-shadow: 0px 1px 3px 1px rgba(0, 0, 0, 0.15);\n",
              "    filter: drop-shadow(0px 1px 2px rgba(0, 0, 0, 0.3));\n",
              "    fill: #FFFFFF;\n",
              "  }\n",
              "</style>\n",
              "\n",
              "    <script>\n",
              "      async function quickchart(key) {\n",
              "        const containerElement = document.querySelector('#' + key);\n",
              "        const charts = await google.colab.kernel.invokeFunction(\n",
              "            'suggestCharts', [key], {});\n",
              "      }\n",
              "    </script>\n",
              "\n",
              "      <script>\n",
              "\n",
              "function displayQuickchartButton(domScope) {\n",
              "  let quickchartButtonEl =\n",
              "    domScope.querySelector('#df-94e9e9d3-9521-4dcf-aba3-ad2c6e1d3ef4 button.colab-df-quickchart');\n",
              "  quickchartButtonEl.style.display =\n",
              "    google.colab.kernel.accessAllowed ? 'block' : 'none';\n",
              "}\n",
              "\n",
              "        displayQuickchartButton(document);\n",
              "      </script>\n",
              "      <style>\n",
              "    .colab-df-container {\n",
              "      display:flex;\n",
              "      flex-wrap:wrap;\n",
              "      gap: 12px;\n",
              "    }\n",
              "\n",
              "    .colab-df-convert {\n",
              "      background-color: #E8F0FE;\n",
              "      border: none;\n",
              "      border-radius: 50%;\n",
              "      cursor: pointer;\n",
              "      display: none;\n",
              "      fill: #1967D2;\n",
              "      height: 32px;\n",
              "      padding: 0 0 0 0;\n",
              "      width: 32px;\n",
              "    }\n",
              "\n",
              "    .colab-df-convert:hover {\n",
              "      background-color: #E2EBFA;\n",
              "      box-shadow: 0px 1px 2px rgba(60, 64, 67, 0.3), 0px 1px 3px 1px rgba(60, 64, 67, 0.15);\n",
              "      fill: #174EA6;\n",
              "    }\n",
              "\n",
              "    [theme=dark] .colab-df-convert {\n",
              "      background-color: #3B4455;\n",
              "      fill: #D2E3FC;\n",
              "    }\n",
              "\n",
              "    [theme=dark] .colab-df-convert:hover {\n",
              "      background-color: #434B5C;\n",
              "      box-shadow: 0px 1px 3px 1px rgba(0, 0, 0, 0.15);\n",
              "      filter: drop-shadow(0px 1px 2px rgba(0, 0, 0, 0.3));\n",
              "      fill: #FFFFFF;\n",
              "    }\n",
              "  </style>\n",
              "\n",
              "      <script>\n",
              "        const buttonEl =\n",
              "          document.querySelector('#df-b770f471-d2ae-477e-8879-46c542998d61 button.colab-df-convert');\n",
              "        buttonEl.style.display =\n",
              "          google.colab.kernel.accessAllowed ? 'block' : 'none';\n",
              "\n",
              "        async function convertToInteractive(key) {\n",
              "          const element = document.querySelector('#df-b770f471-d2ae-477e-8879-46c542998d61');\n",
              "          const dataTable =\n",
              "            await google.colab.kernel.invokeFunction('convertToInteractive',\n",
              "                                                     [key], {});\n",
              "          if (!dataTable) return;\n",
              "\n",
              "          const docLinkHtml = 'Like what you see? Visit the ' +\n",
              "            '<a target=\"_blank\" href=https://colab.research.google.com/notebooks/data_table.ipynb>data table notebook</a>'\n",
              "            + ' to learn more about interactive tables.';\n",
              "          element.innerHTML = '';\n",
              "          dataTable['output_type'] = 'display_data';\n",
              "          await google.colab.output.renderOutput(dataTable, element);\n",
              "          const docLink = document.createElement('div');\n",
              "          docLink.innerHTML = docLinkHtml;\n",
              "          element.appendChild(docLink);\n",
              "        }\n",
              "      </script>\n",
              "    </div>\n",
              "  </div>\n"
            ]
          },
          "metadata": {},
          "execution_count": 2
        }
      ],
      "source": [
        "Salary_data = pd.read_csv('/content/Salary.csv')\n",
        "Salary_data.head()"
      ]
    },
    {
      "cell_type": "code",
      "execution_count": null,
      "id": "0c12a0bb",
      "metadata": {
        "execution": {
          "iopub.execute_input": "2023-04-18T08:16:37.234730Z",
          "iopub.status.busy": "2023-04-18T08:16:37.233813Z",
          "iopub.status.idle": "2023-04-18T08:16:37.241285Z",
          "shell.execute_reply": "2023-04-18T08:16:37.239907Z"
        },
        "papermill": {
          "duration": 0.021507,
          "end_time": "2023-04-18T08:16:37.243903",
          "exception": false,
          "start_time": "2023-04-18T08:16:37.222396",
          "status": "completed"
        },
        "tags": [],
        "colab": {
          "base_uri": "https://localhost:8080/"
        },
        "id": "0c12a0bb",
        "outputId": "933d439c-2277-481c-e19b-bfd4ce4a8077"
      },
      "outputs": [
        {
          "output_type": "execute_result",
          "data": {
            "text/plain": [
              "(35, 2)"
            ]
          },
          "metadata": {},
          "execution_count": 3
        }
      ],
      "source": [
        "Salary_data.shape"
      ]
    },
    {
      "cell_type": "code",
      "execution_count": null,
      "id": "25f263e9",
      "metadata": {
        "execution": {
          "iopub.execute_input": "2023-04-18T08:16:37.266158Z",
          "iopub.status.busy": "2023-04-18T08:16:37.265777Z",
          "iopub.status.idle": "2023-04-18T08:16:37.289920Z",
          "shell.execute_reply": "2023-04-18T08:16:37.288566Z"
        },
        "papermill": {
          "duration": 0.038443,
          "end_time": "2023-04-18T08:16:37.292666",
          "exception": false,
          "start_time": "2023-04-18T08:16:37.254223",
          "status": "completed"
        },
        "tags": [],
        "colab": {
          "base_uri": "https://localhost:8080/"
        },
        "id": "25f263e9",
        "outputId": "4572dddb-0c33-4112-afaa-a9eccdf4ccef"
      },
      "outputs": [
        {
          "output_type": "stream",
          "name": "stdout",
          "text": [
            "<class 'pandas.core.frame.DataFrame'>\n",
            "RangeIndex: 35 entries, 0 to 34\n",
            "Data columns (total 2 columns):\n",
            " #   Column           Non-Null Count  Dtype  \n",
            "---  ------           --------------  -----  \n",
            " 0   YearsExperience  35 non-null     float64\n",
            " 1   Salary           35 non-null     int64  \n",
            "dtypes: float64(1), int64(1)\n",
            "memory usage: 688.0 bytes\n"
          ]
        }
      ],
      "source": [
        "Salary_data.info()"
      ]
    },
    {
      "cell_type": "markdown",
      "id": "1b525f1e",
      "metadata": {
        "papermill": {
          "duration": 0.009783,
          "end_time": "2023-04-18T08:16:37.312664",
          "exception": false,
          "start_time": "2023-04-18T08:16:37.302881",
          "status": "completed"
        },
        "tags": [],
        "id": "1b525f1e"
      },
      "source": [
        "## 4. Data Preprocessing"
      ]
    },
    {
      "cell_type": "code",
      "execution_count": null,
      "id": "8406c7c9",
      "metadata": {
        "execution": {
          "iopub.execute_input": "2023-04-18T08:16:37.335049Z",
          "iopub.status.busy": "2023-04-18T08:16:37.334656Z",
          "iopub.status.idle": "2023-04-18T08:16:37.343768Z",
          "shell.execute_reply": "2023-04-18T08:16:37.342550Z"
        },
        "papermill": {
          "duration": 0.023204,
          "end_time": "2023-04-18T08:16:37.346173",
          "exception": false,
          "start_time": "2023-04-18T08:16:37.322969",
          "status": "completed"
        },
        "tags": [],
        "colab": {
          "base_uri": "https://localhost:8080/"
        },
        "id": "8406c7c9",
        "outputId": "94b9d399-f088-48d0-d03e-033e7dd9dff4"
      },
      "outputs": [
        {
          "output_type": "execute_result",
          "data": {
            "text/plain": [
              "YearsExperience    0\n",
              "Salary             0\n",
              "dtype: int64"
            ]
          },
          "metadata": {},
          "execution_count": 5
        }
      ],
      "source": [
        "Salary_data.isnull().sum()"
      ]
    },
    {
      "cell_type": "code",
      "execution_count": null,
      "id": "26fde78d",
      "metadata": {
        "execution": {
          "iopub.execute_input": "2023-04-18T08:16:37.368664Z",
          "iopub.status.busy": "2023-04-18T08:16:37.368269Z",
          "iopub.status.idle": "2023-04-18T08:16:37.377333Z",
          "shell.execute_reply": "2023-04-18T08:16:37.376126Z"
        },
        "papermill": {
          "duration": 0.023142,
          "end_time": "2023-04-18T08:16:37.379767",
          "exception": false,
          "start_time": "2023-04-18T08:16:37.356625",
          "status": "completed"
        },
        "tags": [],
        "colab": {
          "base_uri": "https://localhost:8080/"
        },
        "id": "26fde78d",
        "outputId": "c2d6ee77-b8c4-4036-cb3e-7e110423951b"
      },
      "outputs": [
        {
          "output_type": "execute_result",
          "data": {
            "text/plain": [
              "array([ 39343,  46205,  37731,  43525,  39891,  56642,  60150,  54445,\n",
              "        64445,  57189,  63218,  55794,  56957,  57081,  61111,  67938,\n",
              "        66029,  83088,  81363,  93940,  91738,  98273, 101302, 113812,\n",
              "       109431, 105582, 116969, 112635, 122391, 121872, 127345, 126756,\n",
              "       128765, 135675, 139465])"
            ]
          },
          "metadata": {},
          "execution_count": 6
        }
      ],
      "source": [
        "Salary_data['Salary'].unique()"
      ]
    },
    {
      "cell_type": "code",
      "execution_count": null,
      "id": "f4d0192a",
      "metadata": {
        "execution": {
          "iopub.execute_input": "2023-04-18T08:16:37.402628Z",
          "iopub.status.busy": "2023-04-18T08:16:37.401952Z",
          "iopub.status.idle": "2023-04-18T08:16:37.409545Z",
          "shell.execute_reply": "2023-04-18T08:16:37.408202Z"
        },
        "papermill": {
          "duration": 0.021589,
          "end_time": "2023-04-18T08:16:37.411915",
          "exception": false,
          "start_time": "2023-04-18T08:16:37.390326",
          "status": "completed"
        },
        "tags": [],
        "colab": {
          "base_uri": "https://localhost:8080/"
        },
        "id": "f4d0192a",
        "outputId": "5f45b995-5db7-47ed-8a06-9cf131c82a62"
      },
      "outputs": [
        {
          "output_type": "execute_result",
          "data": {
            "text/plain": [
              "Index(['YearsExperience', 'Salary'], dtype='object')"
            ]
          },
          "metadata": {},
          "execution_count": 7
        }
      ],
      "source": [
        "Salary_data.columns"
      ]
    },
    {
      "cell_type": "code",
      "execution_count": null,
      "id": "19377d34",
      "metadata": {
        "execution": {
          "iopub.execute_input": "2023-04-18T08:16:37.435905Z",
          "iopub.status.busy": "2023-04-18T08:16:37.434835Z",
          "iopub.status.idle": "2023-04-18T08:16:37.446891Z",
          "shell.execute_reply": "2023-04-18T08:16:37.445557Z"
        },
        "papermill": {
          "duration": 0.026427,
          "end_time": "2023-04-18T08:16:37.449407",
          "exception": false,
          "start_time": "2023-04-18T08:16:37.422980",
          "status": "completed"
        },
        "tags": [],
        "colab": {
          "base_uri": "https://localhost:8080/"
        },
        "id": "19377d34",
        "outputId": "0dd361d8-c2a9-4942-c792-41fd25873ff1"
      },
      "outputs": [
        {
          "output_type": "execute_result",
          "data": {
            "text/plain": [
              "3.2     2\n",
              "4.0     2\n",
              "1.1     1\n",
              "9.6     1\n",
              "7.9     1\n",
              "8.2     1\n",
              "8.7     1\n",
              "9.0     1\n",
              "9.5     1\n",
              "10.3    1\n",
              "6.8     1\n",
              "10.5    1\n",
              "11.2    1\n",
              "11.5    1\n",
              "12.3    1\n",
              "12.9    1\n",
              "7.1     1\n",
              "5.9     1\n",
              "6.0     1\n",
              "1.3     1\n",
              "5.3     1\n",
              "5.1     1\n",
              "4.9     1\n",
              "4.5     1\n",
              "4.1     1\n",
              "3.9     1\n",
              "3.7     1\n",
              "3.0     1\n",
              "2.9     1\n",
              "2.2     1\n",
              "2.0     1\n",
              "1.5     1\n",
              "13.5    1\n",
              "Name: YearsExperience, dtype: int64"
            ]
          },
          "metadata": {},
          "execution_count": 8
        }
      ],
      "source": [
        "Salary_data['YearsExperience'].value_counts()"
      ]
    },
    {
      "cell_type": "code",
      "execution_count": null,
      "id": "3a399d11",
      "metadata": {
        "execution": {
          "iopub.execute_input": "2023-04-18T08:16:37.472968Z",
          "iopub.status.busy": "2023-04-18T08:16:37.472124Z",
          "iopub.status.idle": "2023-04-18T08:16:37.491920Z",
          "shell.execute_reply": "2023-04-18T08:16:37.490872Z"
        },
        "papermill": {
          "duration": 0.034387,
          "end_time": "2023-04-18T08:16:37.494446",
          "exception": false,
          "start_time": "2023-04-18T08:16:37.460059",
          "status": "completed"
        },
        "tags": [],
        "colab": {
          "base_uri": "https://localhost:8080/",
          "height": 300
        },
        "id": "3a399d11",
        "outputId": "0c413f21-a899-40d3-f805-30a73e34b6f8"
      },
      "outputs": [
        {
          "output_type": "execute_result",
          "data": {
            "text/plain": [
              "       YearsExperience         Salary\n",
              "count        35.000000      35.000000\n",
              "mean          6.308571   83945.600000\n",
              "std           3.618610   32162.673003\n",
              "min           1.100000   37731.000000\n",
              "25%           3.450000   57019.000000\n",
              "50%           5.300000   81363.000000\n",
              "75%           9.250000  113223.500000\n",
              "max          13.500000  139465.000000"
            ],
            "text/html": [
              "\n",
              "\n",
              "  <div id=\"df-2decd058-edfd-4149-aa42-e41428051a3b\">\n",
              "    <div class=\"colab-df-container\">\n",
              "      <div>\n",
              "<style scoped>\n",
              "    .dataframe tbody tr th:only-of-type {\n",
              "        vertical-align: middle;\n",
              "    }\n",
              "\n",
              "    .dataframe tbody tr th {\n",
              "        vertical-align: top;\n",
              "    }\n",
              "\n",
              "    .dataframe thead th {\n",
              "        text-align: right;\n",
              "    }\n",
              "</style>\n",
              "<table border=\"1\" class=\"dataframe\">\n",
              "  <thead>\n",
              "    <tr style=\"text-align: right;\">\n",
              "      <th></th>\n",
              "      <th>YearsExperience</th>\n",
              "      <th>Salary</th>\n",
              "    </tr>\n",
              "  </thead>\n",
              "  <tbody>\n",
              "    <tr>\n",
              "      <th>count</th>\n",
              "      <td>35.000000</td>\n",
              "      <td>35.000000</td>\n",
              "    </tr>\n",
              "    <tr>\n",
              "      <th>mean</th>\n",
              "      <td>6.308571</td>\n",
              "      <td>83945.600000</td>\n",
              "    </tr>\n",
              "    <tr>\n",
              "      <th>std</th>\n",
              "      <td>3.618610</td>\n",
              "      <td>32162.673003</td>\n",
              "    </tr>\n",
              "    <tr>\n",
              "      <th>min</th>\n",
              "      <td>1.100000</td>\n",
              "      <td>37731.000000</td>\n",
              "    </tr>\n",
              "    <tr>\n",
              "      <th>25%</th>\n",
              "      <td>3.450000</td>\n",
              "      <td>57019.000000</td>\n",
              "    </tr>\n",
              "    <tr>\n",
              "      <th>50%</th>\n",
              "      <td>5.300000</td>\n",
              "      <td>81363.000000</td>\n",
              "    </tr>\n",
              "    <tr>\n",
              "      <th>75%</th>\n",
              "      <td>9.250000</td>\n",
              "      <td>113223.500000</td>\n",
              "    </tr>\n",
              "    <tr>\n",
              "      <th>max</th>\n",
              "      <td>13.500000</td>\n",
              "      <td>139465.000000</td>\n",
              "    </tr>\n",
              "  </tbody>\n",
              "</table>\n",
              "</div>\n",
              "      <button class=\"colab-df-convert\" onclick=\"convertToInteractive('df-2decd058-edfd-4149-aa42-e41428051a3b')\"\n",
              "              title=\"Convert this dataframe to an interactive table.\"\n",
              "              style=\"display:none;\">\n",
              "\n",
              "  <svg xmlns=\"http://www.w3.org/2000/svg\" height=\"24px\"viewBox=\"0 0 24 24\"\n",
              "       width=\"24px\">\n",
              "    <path d=\"M0 0h24v24H0V0z\" fill=\"none\"/>\n",
              "    <path d=\"M18.56 5.44l.94 2.06.94-2.06 2.06-.94-2.06-.94-.94-2.06-.94 2.06-2.06.94zm-11 1L8.5 8.5l.94-2.06 2.06-.94-2.06-.94L8.5 2.5l-.94 2.06-2.06.94zm10 10l.94 2.06.94-2.06 2.06-.94-2.06-.94-.94-2.06-.94 2.06-2.06.94z\"/><path d=\"M17.41 7.96l-1.37-1.37c-.4-.4-.92-.59-1.43-.59-.52 0-1.04.2-1.43.59L10.3 9.45l-7.72 7.72c-.78.78-.78 2.05 0 2.83L4 21.41c.39.39.9.59 1.41.59.51 0 1.02-.2 1.41-.59l7.78-7.78 2.81-2.81c.8-.78.8-2.07 0-2.86zM5.41 20L4 18.59l7.72-7.72 1.47 1.35L5.41 20z\"/>\n",
              "  </svg>\n",
              "      </button>\n",
              "\n",
              "\n",
              "\n",
              "    <div id=\"df-f2a11814-3e88-4768-ad6a-875f38b04e97\">\n",
              "      <button class=\"colab-df-quickchart\" onclick=\"quickchart('df-f2a11814-3e88-4768-ad6a-875f38b04e97')\"\n",
              "              title=\"Suggest charts.\"\n",
              "              style=\"display:none;\">\n",
              "\n",
              "<svg xmlns=\"http://www.w3.org/2000/svg\" height=\"24px\"viewBox=\"0 0 24 24\"\n",
              "     width=\"24px\">\n",
              "    <g>\n",
              "        <path d=\"M19 3H5c-1.1 0-2 .9-2 2v14c0 1.1.9 2 2 2h14c1.1 0 2-.9 2-2V5c0-1.1-.9-2-2-2zM9 17H7v-7h2v7zm4 0h-2V7h2v10zm4 0h-2v-4h2v4z\"/>\n",
              "    </g>\n",
              "</svg>\n",
              "      </button>\n",
              "    </div>\n",
              "\n",
              "<style>\n",
              "  .colab-df-quickchart {\n",
              "    background-color: #E8F0FE;\n",
              "    border: none;\n",
              "    border-radius: 50%;\n",
              "    cursor: pointer;\n",
              "    display: none;\n",
              "    fill: #1967D2;\n",
              "    height: 32px;\n",
              "    padding: 0 0 0 0;\n",
              "    width: 32px;\n",
              "  }\n",
              "\n",
              "  .colab-df-quickchart:hover {\n",
              "    background-color: #E2EBFA;\n",
              "    box-shadow: 0px 1px 2px rgba(60, 64, 67, 0.3), 0px 1px 3px 1px rgba(60, 64, 67, 0.15);\n",
              "    fill: #174EA6;\n",
              "  }\n",
              "\n",
              "  [theme=dark] .colab-df-quickchart {\n",
              "    background-color: #3B4455;\n",
              "    fill: #D2E3FC;\n",
              "  }\n",
              "\n",
              "  [theme=dark] .colab-df-quickchart:hover {\n",
              "    background-color: #434B5C;\n",
              "    box-shadow: 0px 1px 3px 1px rgba(0, 0, 0, 0.15);\n",
              "    filter: drop-shadow(0px 1px 2px rgba(0, 0, 0, 0.3));\n",
              "    fill: #FFFFFF;\n",
              "  }\n",
              "</style>\n",
              "\n",
              "    <script>\n",
              "      async function quickchart(key) {\n",
              "        const containerElement = document.querySelector('#' + key);\n",
              "        const charts = await google.colab.kernel.invokeFunction(\n",
              "            'suggestCharts', [key], {});\n",
              "      }\n",
              "    </script>\n",
              "\n",
              "      <script>\n",
              "\n",
              "function displayQuickchartButton(domScope) {\n",
              "  let quickchartButtonEl =\n",
              "    domScope.querySelector('#df-f2a11814-3e88-4768-ad6a-875f38b04e97 button.colab-df-quickchart');\n",
              "  quickchartButtonEl.style.display =\n",
              "    google.colab.kernel.accessAllowed ? 'block' : 'none';\n",
              "}\n",
              "\n",
              "        displayQuickchartButton(document);\n",
              "      </script>\n",
              "      <style>\n",
              "    .colab-df-container {\n",
              "      display:flex;\n",
              "      flex-wrap:wrap;\n",
              "      gap: 12px;\n",
              "    }\n",
              "\n",
              "    .colab-df-convert {\n",
              "      background-color: #E8F0FE;\n",
              "      border: none;\n",
              "      border-radius: 50%;\n",
              "      cursor: pointer;\n",
              "      display: none;\n",
              "      fill: #1967D2;\n",
              "      height: 32px;\n",
              "      padding: 0 0 0 0;\n",
              "      width: 32px;\n",
              "    }\n",
              "\n",
              "    .colab-df-convert:hover {\n",
              "      background-color: #E2EBFA;\n",
              "      box-shadow: 0px 1px 2px rgba(60, 64, 67, 0.3), 0px 1px 3px 1px rgba(60, 64, 67, 0.15);\n",
              "      fill: #174EA6;\n",
              "    }\n",
              "\n",
              "    [theme=dark] .colab-df-convert {\n",
              "      background-color: #3B4455;\n",
              "      fill: #D2E3FC;\n",
              "    }\n",
              "\n",
              "    [theme=dark] .colab-df-convert:hover {\n",
              "      background-color: #434B5C;\n",
              "      box-shadow: 0px 1px 3px 1px rgba(0, 0, 0, 0.15);\n",
              "      filter: drop-shadow(0px 1px 2px rgba(0, 0, 0, 0.3));\n",
              "      fill: #FFFFFF;\n",
              "    }\n",
              "  </style>\n",
              "\n",
              "      <script>\n",
              "        const buttonEl =\n",
              "          document.querySelector('#df-2decd058-edfd-4149-aa42-e41428051a3b button.colab-df-convert');\n",
              "        buttonEl.style.display =\n",
              "          google.colab.kernel.accessAllowed ? 'block' : 'none';\n",
              "\n",
              "        async function convertToInteractive(key) {\n",
              "          const element = document.querySelector('#df-2decd058-edfd-4149-aa42-e41428051a3b');\n",
              "          const dataTable =\n",
              "            await google.colab.kernel.invokeFunction('convertToInteractive',\n",
              "                                                     [key], {});\n",
              "          if (!dataTable) return;\n",
              "\n",
              "          const docLinkHtml = 'Like what you see? Visit the ' +\n",
              "            '<a target=\"_blank\" href=https://colab.research.google.com/notebooks/data_table.ipynb>data table notebook</a>'\n",
              "            + ' to learn more about interactive tables.';\n",
              "          element.innerHTML = '';\n",
              "          dataTable['output_type'] = 'display_data';\n",
              "          await google.colab.output.renderOutput(dataTable, element);\n",
              "          const docLink = document.createElement('div');\n",
              "          docLink.innerHTML = docLinkHtml;\n",
              "          element.appendChild(docLink);\n",
              "        }\n",
              "      </script>\n",
              "    </div>\n",
              "  </div>\n"
            ]
          },
          "metadata": {},
          "execution_count": 9
        }
      ],
      "source": [
        "Salary_data.describe()"
      ]
    },
    {
      "cell_type": "markdown",
      "id": "f8bfef65",
      "metadata": {
        "papermill": {
          "duration": 0.011028,
          "end_time": "2023-04-18T08:16:37.516571",
          "exception": false,
          "start_time": "2023-04-18T08:16:37.505543",
          "status": "completed"
        },
        "tags": [],
        "id": "f8bfef65"
      },
      "source": [
        "## 5. Feature Scalling"
      ]
    },
    {
      "cell_type": "code",
      "execution_count": null,
      "id": "a7ad3401",
      "metadata": {
        "execution": {
          "iopub.execute_input": "2023-04-18T08:16:37.540975Z",
          "iopub.status.busy": "2023-04-18T08:16:37.539838Z",
          "iopub.status.idle": "2023-04-18T08:16:37.758654Z",
          "shell.execute_reply": "2023-04-18T08:16:37.757486Z"
        },
        "papermill": {
          "duration": 0.233754,
          "end_time": "2023-04-18T08:16:37.761353",
          "exception": false,
          "start_time": "2023-04-18T08:16:37.527599",
          "status": "completed"
        },
        "tags": [],
        "colab": {
          "base_uri": "https://localhost:8080/"
        },
        "id": "a7ad3401",
        "outputId": "7593fae8-2ddd-4f6e-8ab1-efa73f2a9b52"
      },
      "outputs": [
        {
          "output_type": "execute_result",
          "data": {
            "text/plain": [
              "((24, 2), (11, 2))"
            ]
          },
          "metadata": {},
          "execution_count": 10
        }
      ],
      "source": [
        "from sklearn.model_selection import train_test_split\n",
        "\n",
        "X_train, X_test, y_train, y_test = train_test_split(Salary_data[['YearsExperience', 'Salary']],\n",
        "                                                    Salary_data.YearsExperience, test_size=0.3,\n",
        "                                                    random_state=0)\n",
        "X_train.shape, X_test.shape"
      ]
    },
    {
      "cell_type": "code",
      "execution_count": null,
      "id": "0be79554",
      "metadata": {
        "execution": {
          "iopub.execute_input": "2023-04-18T08:16:37.785190Z",
          "iopub.status.busy": "2023-04-18T08:16:37.784381Z",
          "iopub.status.idle": "2023-04-18T08:16:37.796130Z",
          "shell.execute_reply": "2023-04-18T08:16:37.794566Z"
        },
        "papermill": {
          "duration": 0.026592,
          "end_time": "2023-04-18T08:16:37.798797",
          "exception": false,
          "start_time": "2023-04-18T08:16:37.772205",
          "status": "completed"
        },
        "tags": [],
        "id": "0be79554"
      },
      "outputs": [],
      "source": [
        "#Feature Scaling Using Standard Scaler.\n",
        "\n",
        "from sklearn.preprocessing import StandardScaler\n",
        "\n",
        "scaler = StandardScaler()\n",
        "X_train_scaled = scaler.fit_transform(X_train)\n",
        "X_test_scaled = scaler.transform(X_test)"
      ]
    },
    {
      "cell_type": "code",
      "execution_count": null,
      "id": "e09da14e",
      "metadata": {
        "execution": {
          "iopub.execute_input": "2023-04-18T08:16:37.823249Z",
          "iopub.status.busy": "2023-04-18T08:16:37.822173Z",
          "iopub.status.idle": "2023-04-18T08:16:37.829680Z",
          "shell.execute_reply": "2023-04-18T08:16:37.828326Z"
        },
        "papermill": {
          "duration": 0.022505,
          "end_time": "2023-04-18T08:16:37.832385",
          "exception": false,
          "start_time": "2023-04-18T08:16:37.809880",
          "status": "completed"
        },
        "tags": [],
        "colab": {
          "base_uri": "https://localhost:8080/"
        },
        "id": "e09da14e",
        "outputId": "f8346bc9-170d-43e6-bad1-f0041d1748e2"
      },
      "outputs": [
        {
          "output_type": "stream",
          "name": "stdout",
          "text": [
            "mean value of Years of Experience and Salary features:  [ 1.85037171e-16 -1.48029737e-16]\n",
            "std value of Years of Experience and Salary features:  [0.74854897 0.83219772]\n"
          ]
        }
      ],
      "source": [
        "print('mean value of Years of Experience and Salary features: ', X_train_scaled.mean(axis=0))\n",
        "print('std value of Years of Experience and Salary features: ', X_test_scaled.std(axis=0))"
      ]
    },
    {
      "cell_type": "code",
      "execution_count": null,
      "id": "fd04ddf7",
      "metadata": {
        "execution": {
          "iopub.execute_input": "2023-04-18T08:16:37.856675Z",
          "iopub.status.busy": "2023-04-18T08:16:37.856164Z",
          "iopub.status.idle": "2023-04-18T08:16:38.120146Z",
          "shell.execute_reply": "2023-04-18T08:16:38.118973Z"
        },
        "papermill": {
          "duration": 0.279207,
          "end_time": "2023-04-18T08:16:38.122674",
          "exception": false,
          "start_time": "2023-04-18T08:16:37.843467",
          "status": "completed"
        },
        "tags": [],
        "colab": {
          "base_uri": "https://localhost:8080/",
          "height": 517
        },
        "id": "fd04ddf7",
        "outputId": "d8b7fa46-69a3-42ac-ebce-d9ee0dacccb1"
      },
      "outputs": [
        {
          "output_type": "execute_result",
          "data": {
            "text/plain": [
              "(array([4., 5., 3., 0., 2., 2., 0., 3., 3., 2.]),\n",
              " array([-1.31009113, -1.00959929, -0.70910745, -0.40861562, -0.10812378,\n",
              "         0.19236806,  0.49285989,  0.79335173,  1.09384357,  1.39433541,\n",
              "         1.69482724]),\n",
              " <BarContainer object of 10 artists>)"
            ]
          },
          "metadata": {},
          "execution_count": 13
        },
        {
          "output_type": "display_data",
          "data": {
            "text/plain": [
              "<Figure size 640x480 with 1 Axes>"
            ],
            "image/png": "[encoded data removed]"
          },
          "metadata": {}
        }
      ],
      "source": [
        "# the distribution of the transformed variable Age\n",
        "\n",
        "plt.hist(X_train_scaled[:,1])"
      ]
    },
    {
      "cell_type": "markdown",
      "id": "7c230f35",
      "metadata": {
        "papermill": {
          "duration": 0.011277,
          "end_time": "2023-04-18T08:16:38.145377",
          "exception": false,
          "start_time": "2023-04-18T08:16:38.134100",
          "status": "completed"
        },
        "tags": [],
        "id": "7c230f35"
      },
      "source": [
        "## 6. EDA"
      ]
    },
    {
      "cell_type": "code",
      "execution_count": null,
      "id": "86926abc",
      "metadata": {
        "execution": {
          "iopub.execute_input": "2023-04-18T08:16:38.170181Z",
          "iopub.status.busy": "2023-04-18T08:16:38.169402Z",
          "iopub.status.idle": "2023-04-18T08:16:38.180683Z",
          "shell.execute_reply": "2023-04-18T08:16:38.179533Z"
        },
        "papermill": {
          "duration": 0.026624,
          "end_time": "2023-04-18T08:16:38.183418",
          "exception": false,
          "start_time": "2023-04-18T08:16:38.156794",
          "status": "completed"
        },
        "tags": [],
        "colab": {
          "base_uri": "https://localhost:8080/",
          "height": 206
        },
        "id": "86926abc",
        "outputId": "16ccd0f3-ceff-4441-f4a9-057ef4320a54"
      },
      "outputs": [
        {
          "output_type": "execute_result",
          "data": {
            "text/plain": [
              "   YearsExperience  Salary\n",
              "0              1.1   39343\n",
              "1              1.3   46205\n",
              "2              1.5   37731\n",
              "3              2.0   43525\n",
              "4              2.2   39891"
            ],
            "text/html": [
              "\n",
              "\n",
              "  <div id=\"df-83ba56a8-2ba3-4375-a8c0-2067c6ad69a5\">\n",
              "    <div class=\"colab-df-container\">\n",
              "      <div>\n",
              "<style scoped>\n",
              "    .dataframe tbody tr th:only-of-type {\n",
              "        vertical-align: middle;\n",
              "    }\n",
              "\n",
              "    .dataframe tbody tr th {\n",
              "        vertical-align: top;\n",
              "    }\n",
              "\n",
              "    .dataframe thead th {\n",
              "        text-align: right;\n",
              "    }\n",
              "</style>\n",
              "<table border=\"1\" class=\"dataframe\">\n",
              "  <thead>\n",
              "    <tr style=\"text-align: right;\">\n",
              "      <th></th>\n",
              "      <th>YearsExperience</th>\n",
              "      <th>Salary</th>\n",
              "    </tr>\n",
              "  </thead>\n",
              "  <tbody>\n",
              "    <tr>\n",
              "      <th>0</th>\n",
              "      <td>1.1</td>\n",
              "      <td>39343</td>\n",
              "    </tr>\n",
              "    <tr>\n",
              "      <th>1</th>\n",
              "      <td>1.3</td>\n",
              "      <td>46205</td>\n",
              "    </tr>\n",
              "    <tr>\n",
              "      <th>2</th>\n",
              "      <td>1.5</td>\n",
              "      <td>37731</td>\n",
              "    </tr>\n",
              "    <tr>\n",
              "      <th>3</th>\n",
              "      <td>2.0</td>\n",
              "      <td>43525</td>\n",
              "    </tr>\n",
              "    <tr>\n",
              "      <th>4</th>\n",
              "      <td>2.2</td>\n",
              "      <td>39891</td>\n",
              "    </tr>\n",
              "  </tbody>\n",
              "</table>\n",
              "</div>\n",
              "      <button class=\"colab-df-convert\" onclick=\"convertToInteractive('df-83ba56a8-2ba3-4375-a8c0-2067c6ad69a5')\"\n",
              "              title=\"Convert this dataframe to an interactive table.\"\n",
              "              style=\"display:none;\">\n",
              "\n",
              "  <svg xmlns=\"http://www.w3.org/2000/svg\" height=\"24px\"viewBox=\"0 0 24 24\"\n",
              "       width=\"24px\">\n",
              "    <path d=\"M0 0h24v24H0V0z\" fill=\"none\"/>\n",
              "    <path d=\"M18.56 5.44l.94 2.06.94-2.06 2.06-.94-2.06-.94-.94-2.06-.94 2.06-2.06.94zm-11 1L8.5 8.5l.94-2.06 2.06-.94-2.06-.94L8.5 2.5l-.94 2.06-2.06.94zm10 10l.94 2.06.94-2.06 2.06-.94-2.06-.94-.94-2.06-.94 2.06-2.06.94z\"/><path d=\"M17.41 7.96l-1.37-1.37c-.4-.4-.92-.59-1.43-.59-.52 0-1.04.2-1.43.59L10.3 9.45l-7.72 7.72c-.78.78-.78 2.05 0 2.83L4 21.41c.39.39.9.59 1.41.59.51 0 1.02-.2 1.41-.59l7.78-7.78 2.81-2.81c.8-.78.8-2.07 0-2.86zM5.41 20L4 18.59l7.72-7.72 1.47 1.35L5.41 20z\"/>\n",
              "  </svg>\n",
              "      </button>\n",
              "\n",
              "\n",
              "\n",
              "    <div id=\"df-a1f4e146-af40-439a-a888-82b32382ece6\">\n",
              "      <button class=\"colab-df-quickchart\" onclick=\"quickchart('df-a1f4e146-af40-439a-a888-82b32382ece6')\"\n",
              "              title=\"Suggest charts.\"\n",
              "              style=\"display:none;\">\n",
              "\n",
              "<svg xmlns=\"http://www.w3.org/2000/svg\" height=\"24px\"viewBox=\"0 0 24 24\"\n",
              "     width=\"24px\">\n",
              "    <g>\n",
              "        <path d=\"M19 3H5c-1.1 0-2 .9-2 2v14c0 1.1.9 2 2 2h14c1.1 0 2-.9 2-2V5c0-1.1-.9-2-2-2zM9 17H7v-7h2v7zm4 0h-2V7h2v10zm4 0h-2v-4h2v4z\"/>\n",
              "    </g>\n",
              "</svg>\n",
              "      </button>\n",
              "    </div>\n",
              "\n",
              "<style>\n",
              "  .colab-df-quickchart {\n",
              "    background-color: #E8F0FE;\n",
              "    border: none;\n",
              "    border-radius: 50%;\n",
              "    cursor: pointer;\n",
              "    display: none;\n",
              "    fill: #1967D2;\n",
              "    height: 32px;\n",
              "    padding: 0 0 0 0;\n",
              "    width: 32px;\n",
              "  }\n",
              "\n",
              "  .colab-df-quickchart:hover {\n",
              "    background-color: #E2EBFA;\n",
              "    box-shadow: 0px 1px 2px rgba(60, 64, 67, 0.3), 0px 1px 3px 1px rgba(60, 64, 67, 0.15);\n",
              "    fill: #174EA6;\n",
              "  }\n",
              "\n",
              "  [theme=dark] .colab-df-quickchart {\n",
              "    background-color: #3B4455;\n",
              "    fill: #D2E3FC;\n",
              "  }\n",
              "\n",
              "  [theme=dark] .colab-df-quickchart:hover {\n",
              "    background-color: #434B5C;\n",
              "    box-shadow: 0px 1px 3px 1px rgba(0, 0, 0, 0.15);\n",
              "    filter: drop-shadow(0px 1px 2px rgba(0, 0, 0, 0.3));\n",
              "    fill: #FFFFFF;\n",
              "  }\n",
              "</style>\n",
              "\n",
              "    <script>\n",
              "      async function quickchart(key) {\n",
              "        const containerElement = document.querySelector('#' + key);\n",
              "        const charts = await google.colab.kernel.invokeFunction(\n",
              "            'suggestCharts', [key], {});\n",
              "      }\n",
              "    </script>\n",
              "\n",
              "      <script>\n",
              "\n",
              "function displayQuickchartButton(domScope) {\n",
              "  let quickchartButtonEl =\n",
              "    domScope.querySelector('#df-a1f4e146-af40-439a-a888-82b32382ece6 button.colab-df-quickchart');\n",
              "  quickchartButtonEl.style.display =\n",
              "    google.colab.kernel.accessAllowed ? 'block' : 'none';\n",
              "}\n",
              "\n",
              "        displayQuickchartButton(document);\n",
              "      </script>\n",
              "      <style>\n",
              "    .colab-df-container {\n",
              "      display:flex;\n",
              "      flex-wrap:wrap;\n",
              "      gap: 12px;\n",
              "    }\n",
              "\n",
              "    .colab-df-convert {\n",
              "      background-color: #E8F0FE;\n",
              "      border: none;\n",
              "      border-radius: 50%;\n",
              "      cursor: pointer;\n",
              "      display: none;\n",
              "      fill: #1967D2;\n",
              "      height: 32px;\n",
              "      padding: 0 0 0 0;\n",
              "      width: 32px;\n",
              "    }\n",
              "\n",
              "    .colab-df-convert:hover {\n",
              "      background-color: #E2EBFA;\n",
              "      box-shadow: 0px 1px 2px rgba(60, 64, 67, 0.3), 0px 1px 3px 1px rgba(60, 64, 67, 0.15);\n",
              "      fill: #174EA6;\n",
              "    }\n",
              "\n",
              "    [theme=dark] .colab-df-convert {\n",
              "      background-color: #3B4455;\n",
              "      fill: #D2E3FC;\n",
              "    }\n",
              "\n",
              "    [theme=dark] .colab-df-convert:hover {\n",
              "      background-color: #434B5C;\n",
              "      box-shadow: 0px 1px 3px 1px rgba(0, 0, 0, 0.15);\n",
              "      filter: drop-shadow(0px 1px 2px rgba(0, 0, 0, 0.3));\n",
              "      fill: #FFFFFF;\n",
              "    }\n",
              "  </style>\n",
              "\n",
              "      <script>\n",
              "        const buttonEl =\n",
              "          document.querySelector('#df-83ba56a8-2ba3-4375-a8c0-2067c6ad69a5 button.colab-df-convert');\n",
              "        buttonEl.style.display =\n",
              "          google.colab.kernel.accessAllowed ? 'block' : 'none';\n",
              "\n",
              "        async function convertToInteractive(key) {\n",
              "          const element = document.querySelector('#df-83ba56a8-2ba3-4375-a8c0-2067c6ad69a5');\n",
              "          const dataTable =\n",
              "            await google.colab.kernel.invokeFunction('convertToInteractive',\n",
              "                                                     [key], {});\n",
              "          if (!dataTable) return;\n",
              "\n",
              "          const docLinkHtml = 'Like what you see? Visit the ' +\n",
              "            '<a target=\"_blank\" href=https://colab.research.google.com/notebooks/data_table.ipynb>data table notebook</a>'\n",
              "            + ' to learn more about interactive tables.';\n",
              "          element.innerHTML = '';\n",
              "          dataTable['output_type'] = 'display_data';\n",
              "          await google.colab.output.renderOutput(dataTable, element);\n",
              "          const docLink = document.createElement('div');\n",
              "          docLink.innerHTML = docLinkHtml;\n",
              "          element.appendChild(docLink);\n",
              "        }\n",
              "      </script>\n",
              "    </div>\n",
              "  </div>\n"
            ]
          },
          "metadata": {},
          "execution_count": 14
        }
      ],
      "source": [
        "Salary_data.head()"
      ]
    },
    {
      "cell_type": "code",
      "execution_count": null,
      "id": "51251338",
      "metadata": {
        "execution": {
          "iopub.execute_input": "2023-04-18T08:16:38.208280Z",
          "iopub.status.busy": "2023-04-18T08:16:38.207881Z",
          "iopub.status.idle": "2023-04-18T08:16:38.631403Z",
          "shell.execute_reply": "2023-04-18T08:16:38.630168Z"
        },
        "papermill": {
          "duration": 0.439112,
          "end_time": "2023-04-18T08:16:38.634055",
          "exception": false,
          "start_time": "2023-04-18T08:16:38.194943",
          "status": "completed"
        },
        "tags": [],
        "colab": {
          "base_uri": "https://localhost:8080/",
          "height": 671
        },
        "id": "51251338",
        "outputId": "4ea0326a-9f61-4f2d-c2ed-bbe1a568fd65"
      },
      "outputs": [
        {
          "output_type": "stream",
          "name": "stderr",
          "text": [
            "<ipython-input-15-464c0a76b295>:2: UserWarning: \n",
            "\n",
            "`distplot` is a deprecated function and will be removed in seaborn v0.14.0.\n",
            "\n",
            "Please adapt your code to use either `displot` (a figure-level function with\n",
            "similar flexibility) or `histplot` (an axes-level function for histograms).\n",
            "\n",
            "For a guide to updating your code to use the new functions, please see\n",
            "https://gist.github.com/mwaskom/de44147ed2974457ad6372750bbe5751\n",
            "\n",
            "  sns.distplot(Salary_data['Salary'], bins=10, label = 'Salary', color='purple')\n"
          ]
        },
        {
          "output_type": "display_data",
          "data": {
            "text/plain": [
              "<Figure size 640x480 with 1 Axes>"
            ],
            "image/png": "[encoded data removed]"
          },
          "metadata": {}
        }
      ],
      "source": [
        "f, ax = plt.subplots(1,1)\n",
        "sns.distplot(Salary_data['Salary'], bins=10, label = 'Salary', color='purple')\n",
        "\n",
        "ax.set_title('Salary Count Histogram', fontsize=20)\n",
        "\n",
        "ax.set(xlabel='Salary')\n",
        "\n",
        "ax.legend()\n",
        "plt.show()"
      ]
    },
    {
      "cell_type": "code",
      "execution_count": null,
      "id": "dce75a03",
      "metadata": {
        "execution": {
          "iopub.execute_input": "2023-04-18T08:16:38.661027Z",
          "iopub.status.busy": "2023-04-18T08:16:38.660436Z",
          "iopub.status.idle": "2023-04-18T08:16:38.928079Z",
          "shell.execute_reply": "2023-04-18T08:16:38.927202Z"
        },
        "papermill": {
          "duration": 0.283604,
          "end_time": "2023-04-18T08:16:38.930387",
          "exception": false,
          "start_time": "2023-04-18T08:16:38.646783",
          "status": "completed"
        },
        "tags": [],
        "colab": {
          "base_uri": "https://localhost:8080/",
          "height": 374
        },
        "id": "dce75a03",
        "outputId": "4b3fd725-6606-4ca4-cac0-230f6d7bc32c"
      },
      "outputs": [
        {
          "output_type": "display_data",
          "data": {
            "text/plain": [
              "<Figure size 800x400 with 2 Axes>"
            ],
            "image/png": "[encoded data removed]"
          },
          "metadata": {}
        }
      ],
      "source": [
        "plt.figure(figsize=(8,4))\n",
        "sns.heatmap(Salary_data.corr(), annot = True, cmap = \"Blues\")\n",
        "plt.show()"
      ]
    },
    {
      "cell_type": "markdown",
      "id": "cc718668",
      "metadata": {
        "papermill": {
          "duration": 0.012297,
          "end_time": "2023-04-18T08:16:38.955883",
          "exception": false,
          "start_time": "2023-04-18T08:16:38.943586",
          "status": "completed"
        },
        "tags": [],
        "id": "cc718668"
      },
      "source": [
        "## 7. Data Splitting"
      ]
    },
    {
      "cell_type": "code",
      "execution_count": null,
      "id": "ab414ba3",
      "metadata": {
        "execution": {
          "iopub.execute_input": "2023-04-18T08:16:38.983453Z",
          "iopub.status.busy": "2023-04-18T08:16:38.982685Z",
          "iopub.status.idle": "2023-04-18T08:16:38.988916Z",
          "shell.execute_reply": "2023-04-18T08:16:38.988092Z"
        },
        "papermill": {
          "duration": 0.022665,
          "end_time": "2023-04-18T08:16:38.991221",
          "exception": false,
          "start_time": "2023-04-18T08:16:38.968556",
          "status": "completed"
        },
        "tags": [],
        "colab": {
          "base_uri": "https://localhost:8080/"
        },
        "id": "ab414ba3",
        "outputId": "63315451-39e5-4422-8b26-70fb0223eef9"
      },
      "outputs": [
        {
          "output_type": "execute_result",
          "data": {
            "text/plain": [
              "Index(['YearsExperience', 'Salary'], dtype='object')"
            ]
          },
          "metadata": {},
          "execution_count": 17
        }
      ],
      "source": [
        "Salary_data.columns"
      ]
    },
    {
      "cell_type": "code",
      "execution_count": null,
      "id": "0c1d228b",
      "metadata": {
        "execution": {
          "iopub.execute_input": "2023-04-18T08:16:39.019021Z",
          "iopub.status.busy": "2023-04-18T08:16:39.018326Z",
          "iopub.status.idle": "2023-04-18T08:16:39.024186Z",
          "shell.execute_reply": "2023-04-18T08:16:39.022975Z"
        },
        "papermill": {
          "duration": 0.022596,
          "end_time": "2023-04-18T08:16:39.026586",
          "exception": false,
          "start_time": "2023-04-18T08:16:39.003990",
          "status": "completed"
        },
        "tags": [],
        "id": "0c1d228b"
      },
      "outputs": [],
      "source": [
        "X = Salary_data[['YearsExperience']]\n",
        "Y = Salary_data['Salary']"
      ]
    },
    {
      "cell_type": "code",
      "execution_count": null,
      "id": "d0ce9a34",
      "metadata": {
        "execution": {
          "iopub.execute_input": "2023-04-18T08:16:39.054884Z",
          "iopub.status.busy": "2023-04-18T08:16:39.053541Z",
          "iopub.status.idle": "2023-04-18T08:16:39.060441Z",
          "shell.execute_reply": "2023-04-18T08:16:39.059512Z"
        },
        "papermill": {
          "duration": 0.023605,
          "end_time": "2023-04-18T08:16:39.063042",
          "exception": false,
          "start_time": "2023-04-18T08:16:39.039437",
          "status": "completed"
        },
        "tags": [],
        "id": "d0ce9a34"
      },
      "outputs": [],
      "source": [
        "from sklearn.model_selection import train_test_split\n",
        "X_train, X_test, Y_train, Y_test = train_test_split(X, Y, random_state=0, test_size=.2)"
      ]
    },
    {
      "cell_type": "code",
      "execution_count": null,
      "id": "db3fda63",
      "metadata": {
        "execution": {
          "iopub.execute_input": "2023-04-18T08:16:39.093649Z",
          "iopub.status.busy": "2023-04-18T08:16:39.092408Z",
          "iopub.status.idle": "2023-04-18T08:16:39.099410Z",
          "shell.execute_reply": "2023-04-18T08:16:39.098042Z"
        },
        "papermill": {
          "duration": 0.025432,
          "end_time": "2023-04-18T08:16:39.101762",
          "exception": false,
          "start_time": "2023-04-18T08:16:39.076330",
          "status": "completed"
        },
        "tags": [],
        "colab": {
          "base_uri": "https://localhost:8080/"
        },
        "id": "db3fda63",
        "outputId": "53fd3fbd-df0c-487d-c6ee-9fc68285a8d6"
      },
      "outputs": [
        {
          "output_type": "stream",
          "name": "stdout",
          "text": [
            "x_train: (28, 1)\n",
            "x_test:  (7, 1)\n",
            "y_train: (28,)\n",
            "y_test:  (7,)\n"
          ]
        }
      ],
      "source": [
        "print('x_train:', X_train.shape)\n",
        "print('x_test: ', X_test.shape)\n",
        "print('y_train:', Y_train.shape)\n",
        "print('y_test: ', Y_test.shape)"
      ]
    },
    {
      "cell_type": "markdown",
      "id": "dc195d44",
      "metadata": {
        "papermill": {
          "duration": 0.012555,
          "end_time": "2023-04-18T08:16:39.127401",
          "exception": false,
          "start_time": "2023-04-18T08:16:39.114846",
          "status": "completed"
        },
        "tags": [],
        "id": "dc195d44"
      },
      "source": [
        "## 8. Model Selection and Training"
      ]
    },
    {
      "cell_type": "code",
      "execution_count": null,
      "id": "81fb11a7",
      "metadata": {
        "execution": {
          "iopub.execute_input": "2023-04-18T08:16:39.154990Z",
          "iopub.status.busy": "2023-04-18T08:16:39.154560Z",
          "iopub.status.idle": "2023-04-18T08:16:39.521252Z",
          "shell.execute_reply": "2023-04-18T08:16:39.520231Z"
        },
        "papermill": {
          "duration": 0.383857,
          "end_time": "2023-04-18T08:16:39.524091",
          "exception": false,
          "start_time": "2023-04-18T08:16:39.140234",
          "status": "completed"
        },
        "tags": [],
        "id": "81fb11a7"
      },
      "outputs": [],
      "source": [
        "from sklearn.ensemble import RandomForestRegressor"
      ]
    },
    {
      "cell_type": "markdown",
      "source": [
        "This method helps us to find the best value of n_estimators"
      ],
      "metadata": {
        "id": "CWvWZHFDmXqH"
      },
      "id": "CWvWZHFDmXqH"
    },
    {
      "cell_type": "code",
      "execution_count": null,
      "id": "fdaad3d4",
      "metadata": {
        "execution": {
          "iopub.execute_input": "2023-04-18T08:16:39.553206Z",
          "iopub.status.busy": "2023-04-18T08:16:39.552340Z",
          "iopub.status.idle": "2023-04-18T08:16:39.557658Z",
          "shell.execute_reply": "2023-04-18T08:16:39.556546Z"
        },
        "papermill": {
          "duration": 0.022646,
          "end_time": "2023-04-18T08:16:39.560220",
          "exception": false,
          "start_time": "2023-04-18T08:16:39.537574",
          "status": "completed"
        },
        "tags": [],
        "id": "fdaad3d4"
      },
      "outputs": [],
      "source": [
        "# score = []\n",
        "# for i in range(1,51):\n",
        "#     clf = RandomForestRegressor(criterion = 'absolute_error', n_estimators = i)\n",
        "#     clf.fit(X_train, Y_train)\n",
        "#     scores = clf.score(X_test, Y_test)\n",
        "#     score.append(scores)"
      ]
    },
    {
      "cell_type": "code",
      "execution_count": null,
      "id": "78e57eb4",
      "metadata": {
        "execution": {
          "iopub.execute_input": "2023-04-18T08:16:39.588329Z",
          "iopub.status.busy": "2023-04-18T08:16:39.587906Z",
          "iopub.status.idle": "2023-04-18T08:16:39.639189Z",
          "shell.execute_reply": "2023-04-18T08:16:39.638108Z"
        },
        "papermill": {
          "duration": 0.06866,
          "end_time": "2023-04-18T08:16:39.641938",
          "exception": false,
          "start_time": "2023-04-18T08:16:39.573278",
          "status": "completed"
        },
        "tags": [],
        "colab": {
          "base_uri": "https://localhost:8080/",
          "height": 74
        },
        "id": "78e57eb4",
        "outputId": "f848071b-d552-4170-defb-208fd477be72"
      },
      "outputs": [
        {
          "output_type": "execute_result",
          "data": {
            "text/plain": [
              "RandomForestRegressor(criterion='absolute_error', n_estimators=30)"
            ],
            "text/html": [
              "<style>#sk-container-id-1 {color: black;background-color: white;}#sk-container-id-1 pre{padding: 0;}#sk-container-id-1 div.sk-toggleable {background-color: white;}#sk-container-id-1 label.sk-toggleable__label {cursor: pointer;display: block;width: 100%;margin-bottom: 0;padding: 0.3em;box-sizing: border-box;text-align: center;}#sk-container-id-1 label.sk-toggleable__label-arrow:before {content: \"▸\";float: left;margin-right: 0.25em;color: #696969;}#sk-container-id-1 label.sk-toggleable__label-arrow:hover:before {color: black;}#sk-container-id-1 div.sk-estimator:hover label.sk-toggleable__label-arrow:before {color: black;}#sk-container-id-1 div.sk-toggleable__content {max-height: 0;max-width: 0;overflow: hidden;text-align: left;background-color: #f0f8ff;}#sk-container-id-1 div.sk-toggleable__content pre {margin: 0.2em;color: black;border-radius: 0.25em;background-color: #f0f8ff;}#sk-container-id-1 input.sk-toggleable__control:checked~div.sk-toggleable__content {max-height: 200px;max-width: 100%;overflow: auto;}#sk-container-id-1 input.sk-toggleable__control:checked~label.sk-toggleable__label-arrow:before {content: \"▾\";}#sk-container-id-1 div.sk-estimator input.sk-toggleable__control:checked~label.sk-toggleable__label {background-color: #d4ebff;}#sk-container-id-1 div.sk-label input.sk-toggleable__control:checked~label.sk-toggleable__label {background-color: #d4ebff;}#sk-container-id-1 input.sk-hidden--visually {border: 0;clip: rect(1px 1px 1px 1px);clip: rect(1px, 1px, 1px, 1px);height: 1px;margin: -1px;overflow: hidden;padding: 0;position: absolute;width: 1px;}#sk-container-id-1 div.sk-estimator {font-family: monospace;background-color: #f0f8ff;border: 1px dotted black;border-radius: 0.25em;box-sizing: border-box;margin-bottom: 0.5em;}#sk-container-id-1 div.sk-estimator:hover {background-color: #d4ebff;}#sk-container-id-1 div.sk-parallel-item::after {content: \"\";width: 100%;border-bottom: 1px solid gray;flex-grow: 1;}#sk-container-id-1 div.sk-label:hover label.sk-toggleable__label {background-color: #d4ebff;}#sk-container-id-1 div.sk-serial::before {content: \"\";position: absolute;border-left: 1px solid gray;box-sizing: border-box;top: 0;bottom: 0;left: 50%;z-index: 0;}#sk-container-id-1 div.sk-serial {display: flex;flex-direction: column;align-items: center;background-color: white;padding-right: 0.2em;padding-left: 0.2em;position: relative;}#sk-container-id-1 div.sk-item {position: relative;z-index: 1;}#sk-container-id-1 div.sk-parallel {display: flex;align-items: stretch;justify-content: center;background-color: white;position: relative;}#sk-container-id-1 div.sk-item::before, #sk-container-id-1 div.sk-parallel-item::before {content: \"\";position: absolute;border-left: 1px solid gray;box-sizing: border-box;top: 0;bottom: 0;left: 50%;z-index: -1;}#sk-container-id-1 div.sk-parallel-item {display: flex;flex-direction: column;z-index: 1;position: relative;background-color: white;}#sk-container-id-1 div.sk-parallel-item:first-child::after {align-self: flex-end;width: 50%;}#sk-container-id-1 div.sk-parallel-item:last-child::after {align-self: flex-start;width: 50%;}#sk-container-id-1 div.sk-parallel-item:only-child::after {width: 0;}#sk-container-id-1 div.sk-dashed-wrapped {border: 1px dashed gray;margin: 0 0.4em 0.5em 0.4em;box-sizing: border-box;padding-bottom: 0.4em;background-color: white;}#sk-container-id-1 div.sk-label label {font-family: monospace;font-weight: bold;display: inline-block;line-height: 1.2em;}#sk-container-id-1 div.sk-label-container {text-align: center;}#sk-container-id-1 div.sk-container {/* jupyter's `normalize.less` sets `[hidden] { display: none; }` but bootstrap.min.css set `[hidden] { display: none !important; }` so we also need the `!important` here to be able to override the default hidden behavior on the sphinx rendered scikit-learn.org. See: https://github.com/scikit-learn/scikit-learn/issues/21755 */display: inline-block !important;position: relative;}#sk-container-id-1 div.sk-text-repr-fallback {display: none;}</style><div id=\"sk-container-id-1\" class=\"sk-top-container\"><div class=\"sk-text-repr-fallback\"><pre>RandomForestRegressor(criterion=&#x27;absolute_error&#x27;, n_estimators=30)</pre><b>In a Jupyter environment, please rerun this cell to show the HTML representation or trust the notebook. <br />On GitHub, the HTML representation is unable to render, please try loading this page with nbviewer.org.</b></div><div class=\"sk-container\" hidden><div class=\"sk-item\"><div class=\"sk-estimator sk-toggleable\"><input class=\"sk-toggleable__control sk-hidden--visually\" id=\"sk-estimator-id-1\" type=\"checkbox\" checked><label for=\"sk-estimator-id-1\" class=\"sk-toggleable__label sk-toggleable__label-arrow\">RandomForestRegressor</label><div class=\"sk-toggleable__content\"><pre>RandomForestRegressor(criterion=&#x27;absolute_error&#x27;, n_estimators=30)</pre></div></div></div></div></div>"
            ]
          },
          "metadata": {},
          "execution_count": 23
        }
      ],
      "source": [
        "model = RandomForestRegressor(criterion='absolute_error', n_estimators=30)\n",
        "model.fit(X_train, Y_train)"
      ]
    },
    {
      "cell_type": "markdown",
      "id": "0e0000de",
      "metadata": {
        "papermill": {
          "duration": 0.013408,
          "end_time": "2023-04-18T08:16:39.668737",
          "exception": false,
          "start_time": "2023-04-18T08:16:39.655329",
          "status": "completed"
        },
        "tags": [],
        "id": "0e0000de"
      },
      "source": [
        "## 9. Model Evaluation"
      ]
    },
    {
      "cell_type": "code",
      "execution_count": null,
      "id": "2f5db2b6",
      "metadata": {
        "execution": {
          "iopub.execute_input": "2023-04-18T08:16:39.697693Z",
          "iopub.status.busy": "2023-04-18T08:16:39.697009Z",
          "iopub.status.idle": "2023-04-18T08:16:39.708469Z",
          "shell.execute_reply": "2023-04-18T08:16:39.707417Z"
        },
        "papermill": {
          "duration": 0.028915,
          "end_time": "2023-04-18T08:16:39.710791",
          "exception": false,
          "start_time": "2023-04-18T08:16:39.681876",
          "status": "completed"
        },
        "tags": [],
        "colab": {
          "base_uri": "https://localhost:8080/"
        },
        "id": "2f5db2b6",
        "outputId": "3b181352-a548-44ee-cb65-a981042a649f"
      },
      "outputs": [
        {
          "output_type": "execute_result",
          "data": {
            "text/plain": [
              "90.49289110843178"
            ]
          },
          "metadata": {},
          "execution_count": 24
        }
      ],
      "source": [
        "model.score(X_test, Y_test)*100"
      ]
    },
    {
      "cell_type": "code",
      "execution_count": null,
      "id": "833bc84a",
      "metadata": {
        "execution": {
          "iopub.execute_input": "2023-04-18T08:16:39.739657Z",
          "iopub.status.busy": "2023-04-18T08:16:39.738539Z",
          "iopub.status.idle": "2023-04-18T08:16:39.751907Z",
          "shell.execute_reply": "2023-04-18T08:16:39.750804Z"
        },
        "papermill": {
          "duration": 0.030426,
          "end_time": "2023-04-18T08:16:39.754445",
          "exception": false,
          "start_time": "2023-04-18T08:16:39.724019",
          "status": "completed"
        },
        "tags": [],
        "colab": {
          "base_uri": "https://localhost:8080/"
        },
        "id": "833bc84a",
        "outputId": "9834f196-edc9-4563-b13e-40755ed7260e"
      },
      "outputs": [
        {
          "output_type": "execute_result",
          "data": {
            "text/plain": [
              "array([122384.73333333,  95469.96666667,  78690.        , 114425.53333333,\n",
              "       110498.16666667,  64696.26666667,  56542.96666667])"
            ]
          },
          "metadata": {},
          "execution_count": 25
        }
      ],
      "source": [
        "predict = model.predict(X_test)\n",
        "predict"
      ]
    },
    {
      "cell_type": "code",
      "execution_count": null,
      "id": "69c352ae",
      "metadata": {
        "execution": {
          "iopub.execute_input": "2023-04-18T08:16:39.783456Z",
          "iopub.status.busy": "2023-04-18T08:16:39.782491Z",
          "iopub.status.idle": "2023-04-18T08:16:39.789662Z",
          "shell.execute_reply": "2023-04-18T08:16:39.788305Z"
        },
        "papermill": {
          "duration": 0.024282,
          "end_time": "2023-04-18T08:16:39.792113",
          "exception": false,
          "start_time": "2023-04-18T08:16:39.767831",
          "status": "completed"
        },
        "tags": [],
        "colab": {
          "base_uri": "https://localhost:8080/"
        },
        "id": "69c352ae",
        "outputId": "b975f8d8-2143-45eb-8bc9-a27e0556dcf6"
      },
      "outputs": [
        {
          "output_type": "stream",
          "name": "stdout",
          "text": [
            "Mean Absolute Error:  6283.442857142856\n"
          ]
        }
      ],
      "source": [
        "from sklearn.metrics import mean_absolute_error\n",
        "print('Mean Absolute Error: ', mean_absolute_error(predict, Y_test))"
      ]
    },
    {
      "cell_type": "code",
      "execution_count": null,
      "id": "109ba4e0",
      "metadata": {
        "execution": {
          "iopub.execute_input": "2023-04-18T08:16:39.820595Z",
          "iopub.status.busy": "2023-04-18T08:16:39.820157Z",
          "iopub.status.idle": "2023-04-18T08:16:39.826908Z",
          "shell.execute_reply": "2023-04-18T08:16:39.825710Z"
        },
        "papermill": {
          "duration": 0.024133,
          "end_time": "2023-04-18T08:16:39.829717",
          "exception": false,
          "start_time": "2023-04-18T08:16:39.805584",
          "status": "completed"
        },
        "tags": [],
        "colab": {
          "base_uri": "https://localhost:8080/"
        },
        "id": "109ba4e0",
        "outputId": "c015a4a0-42b3-47b8-f869-5f3945297be4"
      },
      "outputs": [
        {
          "output_type": "stream",
          "name": "stdout",
          "text": [
            "Mean Squared Error:  53939205.32238094\n",
            "Mean Squared Log Error:  0.09204074605422416\n",
            "RMSE:  7344.33150956443\n",
            "R2 Score:  0.9049289110843177\n"
          ]
        }
      ],
      "source": [
        "from sklearn.metrics import mean_squared_error,r2_score,mean_squared_log_error\n",
        "\n",
        "print('Mean Squared Error: ', mean_squared_error(Y_test, predict))\n",
        "print('Mean Squared Log Error: ', mean_squared_log_error(Y_test, predict,squared=False))\n",
        "print('RMSE: ', np.sqrt(mean_squared_error(Y_test, predict)))\n",
        "r2 = r2_score(Y_test, predict)\n",
        "print('R2 Score: ', r2)"
      ]
    },
    {
      "cell_type": "markdown",
      "source": [
        "Adjusted R-squared statistic\n",
        "\n",
        "\n",
        "The Adjusted R-squared takes into account the number of independent variables used for predicting the target variable. In doing so, we can determine whether adding new variables to the model actually increases the model fit.\n",
        "\n",
        "Let’s have a look at the formula for adjusted R-squared to better understand its working.\n",
        "\n",
        "![image.png](data:image/png;base64,iVBORw0KGgoAAAANSUhEUgAAAS8AAAA1CAYAAAAQ5G2RAAAAAXNSR0IArs4c6QAAAARnQU1BAACxjwv8YQUAAAAJcEhZcwAAEnQAABJ0Ad5mH3gAABxySURBVHhe7Z0HVBTX98e/tKWLVGkiXUBEEFFEDWLDEg1G0Z/RGBOj0ajRaKJYEruxRI0mlihqlGiMYsOGigULCBak96WDgLSlbN/3n13GgqIRWRT+Zz6edzxz352d2dmZO/fde99DgVCAgYGBoY2hSP/PwMDA0KZgjBcDA0ObhDFeDAwMbRLGeDEwMLRJGOPFwMDQJmGMFwMDQ5uEMV4MDAxtEsZ4MTAwtEkY48XAwNAmYYwXAwNDm4SZHsTA8J6RiEUQCYUQKyhBRUUFyooKdA9DU2A8LwaG94m4AvEhGzHJ0wYWg6Zj75U0CMR0H0OTYIwXA8P7pLwKaub9sehqIs5O0gL7XgRii+k+hibBGC8GhveJoSU6e3jBXV8LHaydYWNnDA0W3cfQJJiYV6uHi5LMFMTHZqEKurDt4QJ7C32o0b0Mb0/hw3Dw7b1hpQXwOSVIT0uG0NAVbp10aI3mUIn0iBikPa4An5YAOnAZPBC22vTmi9RkI/xaEkhHJ/R0swQ39SEq9exgoa8NlQYuhQS8qicozK6CXjc7tKelcudxDE5FSuA12h0dpMfkUMdkU8d0bcFjNhPG82rVCFGRl4TbIadwPvQU9m1Yh3W/n0BMEQciWoPhbahE3KlAnLgYhbxaCbiVbFwNXI8flizFnuvZtE5zqULW/VPYNHM5fj96kvq9QvHn4q+w4p8EquclagoRG/kQJVq6UNNkQVhVhwr2VQQH7kdYcg3EEloPYtRVJiPsYDDCo7Nf/Rw5UZUcir82fI+x/r/joUwiAb8iF9EnjiD40j0U1MmErQ7GeLVmBDUoyymHqr0fFu/ZjW3LB0McdQVhEWxwhLQOw39S9uAgtgbfhfmYhfioA4GIuq6cslIIVOThcT2lE4ZMGQk378+xfOM27NmzB8tGCXHmYBheDGnxy7Nx5/gWBGzdgwNBh3D0dBjlrdXCdpg/3DTScHrzeaQI6l9NYkEt4s5vx41cffTwH0wdoWUQcorA5qnAiN4GlKFjag/PIdbIC72AC3ey0RrtF2O8WjUsdHDoip7e3WEITdh6e6OXiTKqH1eByxivtyQDp1fdhMGcXzDaQbqtBG0jF3w8bRY+dpXvgKgyPgbCvh6wbacNpdIIhD0kMHGxhwHd/wxdG/T39oG3gyU629vA0LAdJbTEkLmLMFByEn/eKqC2Cepy7iA4FOg/dzy6UqfKK05B6MF1WBN4Go8KipFy6SA2L9+LGzlPXhiqNh2DXl9i1Xcfw5jelqHSDpa9RsLPxxiPo84goYSWtyIY49WaYWlC28AYhlr0tkgMUXtLWJjpMkHetyX5PP7MsIdfz1dMiNzJTXiI9Ks7ELBgNqbP2oqij1bi11le0KP7pajqWaKP30wsWrRI1mb69YGlnirdawHfKda4v/8WCokEOXeCcFNzGLw71vcqsjSgJixBXlYULh0/i1sJaUi+eRnRKcXgtkQcgdUe9vaW0FF5jMiEx7Sw9cAYrzZEblQiVLtRnpi7Ddop00KGN1IUE40MJ1t0afE60Ew8ZNthsO8wWFaeR5bFBMyfOw2jnJvm3emYdoJCeDSSCUH6gwi0c7DG03g/S1cfxh3c4cCtglBLDdYebtBX14cqSwmKLfQka2ppQ5EnRlZ2Lqpp2dtQkRmFwMXjMOHrJQi8GIcyAd0hR1q18br3xzgMGeSDgYOGYHs0LWwDCHkp2DvFBz4+vpj47a+4LQ+XO/c2Htbow8nbF11NNanBz4enJisch/efwIO8Wlry/qkreIS/V46nrrX0elPN/yccjcoBl+7PTE2EWEMN0oFZi5J2FwkGLvAZ4Y/5nw1FgaIWNXyk+5pCR1NYVscjOSsbGYnV0NLSoDsoaoqQEheOi6kSmHXpC0/tGrA72cGxgy40W+pJVteCDmV4JIXFKKdFyceXYMpo+npL25pwuuc5vMpCxIYH41jQDqzb/Q9uJJbiWR5CTrxf4yURoDzxH+w8m08L3ozDpysxu3s5bt7WgokjLWwDKLMsMHhmADxUYpFa3R5GunRHAxKwf7o/+nXrhm4vtu6eGDb3JBpcoapkHL+ViVoNR/S114d6K7BcnDvrMfXPcvQY7o3ORg0LN8SCSmTe+htLF/6KY3ezWjTYK6a8kJwk6mqZ++L7bduwbdVUDHQyxtOBmJ5hByi8g1uSd+ZHDOjr3vC3kTbPYZi6IQwvv4+SIqkHWFsT7bS0oNelO3RiksB+lyqkkicoIsYwMjGGYYMgFFBdmIW4agLn0Z9jtGtH5MbfhamjNToaGjR4mSXuGfvqeUubz1RsPBUHDq33VvC5qIUIonbaUKdFnXymY8la6lpv+wFe3FjcSimle55j4DQAC/eFYvusAVBNTkBS9mO53wfv1XjVcc5h+bj1KNZ86Vd5DdqmjmBV50Jp9ASMpHxnQUUOTizpC0cff2y61jJjcHZQEK4ImxcNV1BUg54FCyyxDroO+gg2KnRHA+zhvy4A/pZ1yEnmYsjaYFw4fw5BUzrgysGFmDz3BKRhW2rgg5vXHqKc0wn9+9tBUyUee/deQlZWpaz3w5CMfT9uhFqPYbAzNoCW6vNHh1uSi0fhx7B7byCCTkUhr4on9zfuq7DQzrAjOru4wMXREobaqs9ubHs7Jyhn5iGtiXbEZPBiHDl+FhcuXGjYTh7Ahhl9oE/r1ZOMyHA9WJkZQ0+XOrJ9f3wq2optl9/hm/MF4Ds4o7OaOiwdbJGZ9fw1Js2QqqtrwtOzF9qrpyPypi7sO1nAUL/h28xuws5Xz1vajmzAN74OeBpCfSskYoh0taFnYvQs8aBhYAl7J+pau3SGqZYyFBoZkquo66CjQz985NUN1gbUdxII5V7e8x6NVzK2DpqAoLIaQOltAzZhOH2EB2d3J1lRJqu9BfxWhuHhxb8xz7tDvYo8YQdhblARdIXNrNuViFCbdBXXszVgZ2P3miEeC9oG+minrgJFRz986m0BM3Nz2H72PeYYF4B98yyikrJwacsiTPnfV5gzdyhs9dpBQ8MDx3IF1JtQnmn+JsK+g1MxNSjllL1yA6lTRsRtwET8b6Ab7DqI8KFLoJUHD8OY5HSk0dtSqnJisO3b/gjY+C8CF8/BrJ23UUb3PUVZQw/GJqYwMzNr2EyNYaCj/uw3LY3ciy8HDMbMQ5vx/dglOHifjRplJ4zws0TgpzowHPAHMmjdtyEj/BzEYwajK2URug7wg3kyG/WVaCXIZZeDW94DXbtQz8/jQmSVhlHOAHXM6ExQT9UzWNpGr563tJkYQEeD9epDfy0Axn2WIE58GBNNfXEgk5ZTFORlQ1BbDtcujk03FgrqUNfQgkZNKcoqKikPTs5IK+xbHJGAPFjfg7h160b0zEeQg5m0/CUklB6PxyV1dXWEKxAR0YXZRFO9B9maRIhYUC+v43IJXyim95AioT6eT7hUH4/aRyKhxURE+FKZkBZQHWIhr/6zeQIiElHblEz6TyTgUftfJYtcLIn7j+dJWY2gfh8Z0v349ceW7csnQvGzgzxDen7Sc5Dp1FWT0IXuxKr7zySC7m8MSeZh4u9gRrovuUJq+PXfiVdZSLZ9rEY6uX5BTuTIRM1GIhYSPn1d39S4PCF58cq+lsqTxF9dhbT/5gJ1dRon6fhSMmyAH9l0MYlU07KWgJN+g6wZ15+M+v5vkkLLXiZ15yDivu7e83uhVULdh/xLZJ7NLHKSw5VJeJwScvg7Z7IijEfdczLRe4S676vSSMiu9WTRxqukhJY2JJ38MdCQKE86Tm+/SvqFTWSssyuZsTOM5NMyefEePC8+Kk/Mx/DCNdg2UkS5mMpQesUVEYFbVYa4YysxZmBX2NrZYeDSo9gV9C8U3MZjuL0QUVuHwaqjEdpb9cDEP2Of78d5hKAF4+Cqp4OP11wG++loiheCSdq6+DiQeo0QCUQliTjz88cw6WSHARPn4/C/9/AgKR35KEbYL1PQz2Y4fk15gpygr+Gy8KLsI4iEjyp2LELX+qMTdU42lh3hMHgKdtwoeO4Ci7moKHmM4IC+6NbFFnaU3rzj4Th/JQ8d/HzRm1Z7FTHSb4chrsYMIwd1gYoy9VMIOMi5tgk7runD3GskelnQqs2kLPoQ5vp7yM7t9c0NQ8ZuRwy9zxvRcYaniyIESZnIokWtGfuZuzD1xmj4bbuL2pYoKZADguoEHJqxEgq/BGC4en0MUVVbBwPnLEDpT6OwPbwG76+0j0AsLMGDq2dwJ5JgxBcDYEj3NBUVlipUVEWoLOegtlZMfbL8aGHjJUB59kksP9kdt3/zRW56BlS0nGDVoFRYAE7JXexZMBXTtlVi/JYwZOTn42i3i1h7kQ/XcUNhr6QCz3khuPb7JLgZWmDQR270rjm4ti8SPBMnuHt3gY6yEp4ujVR9JhgnVT0xwdcWEFYj/dZebL4ArDmfj+CFvXHv/K84F1MNHRjD9+d9WPtlT1j3/Q6nHqUhd8comcErSjiKH0Z8iq2ZwxFGnVPClX3wb1+Me5Ex9fEoIQcFkfsxZcQIrOHNR2R8FvIpvSHX/fFXoTE+GeolO5dGEWbiVlg8KjXtYCLJQlJCHGJCfsaoaWdh8tEYBCweAzNatbkYeH6FXSHxsnN7fUvBzbPz4U7v80aIOcxttOEwzBPWtKh1Y4uZl/LwQ82fuFgfSGx1JB07CdaMw1g12hyqz6IqLHSw/Qw//7UCpndPIp2Wtjwi6rnNQmayISYfDEC/56X3TcbE2gndXLVx79IJHDt5TxYDldcKQC06Mbsy+xz2rw5FhwUbMNEJCPQzxErRbwg/N/3ZTc+reIDDq9YgMMIIX21ehIl9rSFNDnMvzofdN0lYcuk0vnVUo5ySHByd74fNpVNx9MxsyJKPhYXIpTyfnPsHsHrVNTjN34al4zxgqFqBv/1t8UXRcmTd/g4Wolqwr27HvGVn4br4OBZ+qoS4iEwoKlrC05MyEfzbWD5kHqJ91uDgD4NgpKUMSXE8fprohVCNX3Eg5Bu4CGoQf2EHVu+9AfvPN2Hh/+whjD6Iud8HIsn1W5xcNQ6W+vX5mJtLHDD+8iRcvL8MrjLJq/CTDuKryT/jRpURrEwEYEck4LGmDQav/BuX5vWkteSDoDIfGewclLxxTpESNNpRnmV3yzeUFRCIuBw8KbqPQ8svodvGjfA1obteIjl4GRbsSsSAH9dhxlDHpgWJm0B1Rji2L12BaLOvsXHLRHSm5U+JiooCl/u0cILhXbG0tJS1hmRgxyAvzDPZCWHQWFr2Mlzk3tiHpcvW41ikNZaE7sTcwc5ymezdcqWO5Wk4vDoAl9t9i8kJl3AyJQ9h8QpQ9NCAJq0i9YiSL59DSEQ5+s1cBD/acFEDHUTcjoOKmx8GWUlPUQLek2hcu1cFu5kD6w2XFFNTWPDZiIpOQKlWN/RyMoWOKlCTfRzHrvJhPq0nZCMvZU10cBuLT72u4kjgFpx3Wgg/rz7P0unctFQkc4zQy9MWGurS41UjJXAOtsXYY9WNqbAuS8OtM6EIu3sXSj38MbKfM9px4rB7/99IbDcE6+aNhBltuMBJx42oPFj5j3yt4aJMNtIi7yC5GPD95S9s9hdhW/c+WMMfhqVT5Wu4pHALY3Hx2HFEpL+pzFAdJnYjMeeNxkuEuvw4XDj+ANZLl7/WcL090tULCpEUGY3s/4rmmrnjEw8LKDVx1dGgoCAUFRXRWwzvir+/fyPG678hddTopLAYlcqm6N7PA/aG7dBo8v1dkEW+5E1NDrkduIFM//Yb8tW0aWSatI3tSfRVtUn3lZG0EiH8wntk9+wR5KPxK0ho1vOwblHMVjLOWp/0X3+fcKVBVrGQFIfMI87WQ0lgGq1EU5d2hvw4sifxnrWHPCzkEcJJIyFLfIm2mh1Z9kBEa0kRkCfsK+SXKcPJ6GnbSERhHS2vJQ93TSEuHtPI0aQiwpfJ7pIfzRWIRjsfMn/PTvLbxgAya8Icsvr3UySpUqZAyq5vIX7evcjU3bdJQU29jJAKErvDn1hpdCIr3hSpr40nu7/sS8xsPif/JBbKjhm33YcYKFmS+WEV9TqtEhGpK04j108dIH/uOEVSOLS4Ed4uYC8klQXR5OBi+h55U9t1+6VETT1vE7BnaCn+O2BfFR9M5o9wJa7jVpFziWVEIMfEQwvEvEoQc+oirpRaY8ZPm2Sz62VtxRiYU29NE+PnFTKckkKkp5bAyMYJNpb1AwtO2jUc230U10sN4OFhLnvTEiJBxv27qDH1gbudTI2GGjImxCCpRg/9vFzRSa8Md07dQFRCHkR24zDOVRFiUQkeXnuESsre61v1xicTBkEt/YJsprxsMFGThjsRqdDo4YVueu1RP2XwCQoLFKBgawCVzHxwWW6YsXM7ln3RF7pVOcivq0N6cjKK+VZwdzJGe9qVZF8Jwm+BJ/DYaAB6NjjPhtSk30dEKgdmw4fA3UhXdsyu4+dikEEeQk/fRUW9WitECepGdug/cjDEIUuw/nIuLX9XpKsXeGDyOvoeeVOb0QcsaVKDoU1RVpiPggIxXHv1gLOd3ktrlTUP+d4NNVm4fuQwTj9ShPdobzgaaz+rhylOedRgaZDn1KGuthrcOspwpYbhRPgNJLLrILLtC0P2I5RKxJCIk3AuJBXmlNtpRe9VTxmy07NQreUIN0ddFFy8gliBBILyMrj4j4LC8eOI5z3Cv2s24DJbqq8CNTVtKLP4qK6ur/flpN5DZLoKeniZISv6EWWY+CBwgLMbwNKwwZgf1yJg7jh0qkvG2b+249/wjOf1KpVV4PD5ssxjxsXNOBGXi8fUCMVooDNK774uvFqM+2G3EJ+uDu/+ztBrT1enG/XFON8OyA7diUPRT+plrRUlFbAU2Djzb8Qr9VEyxBxUlFWiOv8JnpRzwBN94GKvd+YJbu0IRjK9JXeK43Bi3yYErP8X9/Mqn2ewm0n+9d+xdv9d+repRX5GDG6GpTaoBXtfiMVCyoFQhpq6KpTlNl6sR27GqzThCv5cMxeLfv4dwbdP4mZiCWT2oeQmNs2dhdkbL6NYyENc0GosXRsCaR1cu07WcO1pj7JL+/DzjOlYGhQBkWVvOOtRX7YuB5UiTcrcKED8KBghuZYYOMwdDUsz+ZTh46Em7jr2rNuEE8lq8PRUR34hZVeu/YFjhYbQLM2CinMfsAOnY/r0b7Bo7w0o9PgME72tZdMdakoLUVpTgrtHgxBRxKW8POklscG4Dd+g8/1DWPCtdL/pWPLrASSpuaGbiyMsNDRg19MTTvpPcObXnzCH6j8Qz0K3kV4wKlWAIK0IIoOnkymeUxIXit0rZmN54GWkl+bi2r61+OtGLmpkk1b10W/ccOhlX8bWH+YhYNV+PGjUMrQCuAl48IhApKj4SvxCOtcw+I/FWL3vMpKzE3Bm5yqsDrqFwqq2toZPKv5d9BvuinXpOGwLwNICqzweESkZKKsVU3d684n9aybmBKzDjmPS0YYUJagKypAQehR7Ttx7jQPRwigpQpEaQcnj+72I3LKNtcUZSEyIQz693KORYx+42XaAJj8bN6/H4onwaYJUGVq6dnD3caQeVy5K2amIf8SWXWgNMye4dzEFL+0B4vNE6OT1ERwNVBG5yAqjrn+G89fXwrNB2qoWhUmJSEzJRzV1i1m6eVAGpRYxEfF4THlQHT1Ho7tmJtgcEyDvEuKkM4o09GHl+HzpX15xMu4nZKCkShW2vXrDyYTyzCj7RSQFiD4dRU/RAdR1jeHg5gWrp2kSXgkSYxLALqqU1d+YuA6Gh2UdYkMikK9oid6j3F5Y3K2emsdp1DVKQMELk8uMXQbAnfpQ6QwbUpWKq1cTwZFm/nTM0LV3D5i12JPTDPL+wkC76ahd+wh3FzjRwnqEVYVITYxF2uPnGT5Ny+7o7dQR7dQan2vQHP4r2/iuJByZjJ2Jfpg1/xN0eWn6jfyoROTv6xCq0hcTxw+HvW7z82dFD07j+tE/8EP8WNwKnUG9hil4Fci+HYLddyvgNHQ8JvdodqaF5r+yjSKkhGzE4vVh6DxrAxZO9GiwPFCzkRqv1k0EmWfGIuP35pOnIXaGD0zdLfK9FYt8foJHCz4cLRKwL7pK5k2YT44nlxORhMhmflxc3p+M8J9MDsZWkbQ7gWT2yGlk7T8PSPPSK2kkaOUWsj1gBvls/DDSv39/8sWee4TbzKh29bEviInvLpJBb8vg5pJLe34h67cFk/Q3JFqaxpsD9mJuPrm0dTrp7jCU/HQshtC5Lrkh35iXnCi4uByjpm5HdFktbqyciiM9N2PLeLNns9oZPjDqPfDtT2ORfSeiFScX3p2C6BBcV7OFm6EqlKixjoKiMtz8V2KgVg7YKZcRvCcdRl5mqHuQjmZFJzOTkKdvCOuRY9FLUQmuY7/Hd0MdWiYxoWYK584G4HLZSM5r0roS70Rp0jVs+HoQpm84jnwDc1iZGcm91q9VGi9hZT5Sr6zGCGd7LMMWxOz7GqaN/QUWhg+EGqwn7MQB/zIc2rQft9hNWaauJcjB5b1z4G1uDvMeU7HrenqzJgHnpSTAoKMhNFXoiJ4CgboxB5npfaGbmYbeAaNgIa5Cob7es4UC34W02PvgifgouBoO5bHzMXfScLiaaz2bJSJflMBSU8bjJ6V4XNq8FUli9n4Jn27UtTbvi2W3y9BYPkbEpa4POwPlat0x6csv4Nvd+FnyTm7QHlirQiLiEy63frIw7/3PSGV4SyRiEREKhKSReervD4mYCPkvTDrn8olQOtZ7Z/LIP197kP6LT5AiDj1BXywkRYfGE72OzmT1DSGpyggnuzfMJuuvFDSYmB71mx9x6ahO1NVfagYWxHNFOK31lHRyLGAMcVBRISr9F5KwhOJXJrlLJ2bv9m/k86St70xyJCKP1mxIo8NGCknaORIw+weyIvgRqaJl74J0oYKnz6es8V+sp6xHem8IeHWUHp8IROLXTuBvDq3S81JQYkFNTR3UjwRVpran1aJADXWUVZRbyFN4SxQUocxSk90rsqbGgrJ0rPfOmMPCRgssVcqdoD0KiUSMsGvX4bPyNJZ581GSl43KPF307GraIIPWc+4pxObWgXqgG7bSHEQu/4jWqoekJeOBVk8suBKMLYaKYBeXolwoAvWQ0xrSidmG+OZYI58nbbd2YkJvc1rz7SirKEWZKmCi175ZK8sqKj9/PmWN9apPJb03VFTVKT0WVJQU5Z5plMJYBgaGl+ho54jCvFLwKGMihQhjwc7ywCc+NkBtBfKzspGi7ARTTf47LrQoQXFJMVgqCjAycEAnq1IUZEZiz/IgxFXUNGvxRlFNCQrL6yDmV+FJCQfPl46XQCSUwMTIAEaGH3AtODnCGC8Ghpfo6Pkx+nJyEVfJh1jqgOUlIttuErylU/tEYijU5uLh/dM4FPy0lqqp1KD0iQKsDOzh0NEeVq46SPjnFJQG+Mj+bFpzHsqcE3PhvzMVxuWnsHL2ISTRcgiKkZRcAg0VSzhayGNa9IeH+XP/DAyN8GjfWOx5PAkzpo6Ei3FL1Xm9J8R1eHL/EnZdZcOk/3h87dW04WZrhfG8GBgawXXqCvTI+RuB+6LQttekEKAiPx6hl9jQNffEiP8nhksKY7wYGBrFGV/t2YFRiumv/KWgtoUAVXUERm6+mDy5D+RVW98aYIaNDAwMbRLG82JgYGiTMMaLgYGhTcIYLwYGhjYJY7wYGBjaJIzxYmBgaJMwxouBgaFNwhgvBgaGNgjwf9pXJ5m2O8g5AAAAAElFTkSuQmCC)\n",
        "\n",
        "Here,\n",
        "\n",
        "\n",
        "n represents the number of data points in our dataset\n",
        "\n",
        "k represents the number of independent variables, and\n",
        "\n",
        "R represents the R-squared values determined by the model.\n",
        "\n",
        "So, if R-squared does not increase significantly on the addition of a new independent variable, then the value of Adjusted R-squared will actually decrease."
      ],
      "metadata": {
        "id": "eBiiTc4SINkO"
      },
      "id": "eBiiTc4SINkO"
    },
    {
      "cell_type": "code",
      "execution_count": null,
      "id": "f68c9d5c",
      "metadata": {
        "execution": {
          "iopub.execute_input": "2023-04-18T08:16:39.934052Z",
          "iopub.status.busy": "2023-04-18T08:16:39.933616Z",
          "iopub.status.idle": "2023-04-18T08:16:39.940448Z",
          "shell.execute_reply": "2023-04-18T08:16:39.939607Z"
        },
        "papermill": {
          "duration": 0.023996,
          "end_time": "2023-04-18T08:16:39.942925",
          "exception": false,
          "start_time": "2023-04-18T08:16:39.918929",
          "status": "completed"
        },
        "tags": [],
        "colab": {
          "base_uri": "https://localhost:8080/"
        },
        "id": "f68c9d5c",
        "outputId": "07dff723-1d89-4eaf-e032-31bd99506cd9"
      },
      "outputs": [
        {
          "output_type": "stream",
          "name": "stdout",
          "text": [
            "Adjusted R2 Score:  0.8855266480403009\n"
          ]
        }
      ],
      "source": [
        "n = 60 #total numnber of datapoints\n",
        "k = 10 #\n",
        "\n",
        "r2 = r2_score(Y_test, predict)  #r2 = r square score\n",
        "\n",
        "adj_r2_score = 1 - ((1-r2)*(n-1)/(n-k-1))\n",
        "print('Adjusted R2 Score: ', adj_r2_score)"
      ]
    },
    {
      "cell_type": "markdown",
      "id": "f9ed7383",
      "metadata": {
        "papermill": {
          "duration": 0.013418,
          "end_time": "2023-04-18T08:16:40.008197",
          "exception": false,
          "start_time": "2023-04-18T08:16:39.994779",
          "status": "completed"
        },
        "tags": [],
        "id": "f9ed7383"
      },
      "source": [
        "## 10. Conclusion"
      ]
    },
    {
      "cell_type": "markdown",
      "id": "49f5292f",
      "metadata": {
        "papermill": {
          "duration": 0.013362,
          "end_time": "2023-04-18T08:16:40.035137",
          "exception": false,
          "start_time": "2023-04-18T08:16:40.021775",
          "status": "completed"
        },
        "tags": [],
        "id": "49f5292f"
      },
      "source": [
        "### In this Project, we have salary Data and Analysis of Salary through year of experience. And trained and evaluate model using random forest regression and evaluate using MAE, MEA, RMSE etc."
      ]
    }
  ],
  "metadata": {
    "kernelspec": {
      "display_name": "Python 3",
      "language": "python",
      "name": "python3"
    },
    "language_info": {
      "codemirror_mode": {
        "name": "ipython",
        "version": 3
      },
      "file_extension": ".py",
      "mimetype": "text/x-python",
      "name": "python",
      "nbconvert_exporter": "python",
      "pygments_lexer": "ipython3",
      "version": "3.7.12"
    },
    "papermill": {
      "default_parameters": {},
      "duration": 17.056745,
      "end_time": "2023-04-18T08:16:40.974428",
      "environment_variables": {},
      "exception": null,
      "input_path": "__notebook__.ipynb",
      "output_path": "__notebook__.ipynb",
      "parameters": {},
      "start_time": "2023-04-18T08:16:23.917683",
      "version": "2.4.0"
    },
    "colab": {
      "provenance": [],
      "include_colab_link": true
    }
  },
  "nbformat": 4,
  "nbformat_minor": 5
}