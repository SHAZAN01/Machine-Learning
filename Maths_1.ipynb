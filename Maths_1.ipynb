{
  "nbformat": 4,
  "nbformat_minor": 0,
  "metadata": {
    "colab": {
      "provenance": [],
      "include_colab_link": true
    },
    "kernelspec": {
      "name": "python3",
      "display_name": "Python 3"
    },
    "language_info": {
      "name": "python"
    }
  },
  "cells": [
    {
      "cell_type": "markdown",
      "metadata": {
        "id": "view-in-github",
        "colab_type": "text"
      },
      "source": [
        "<a href=\"https://colab.research.google.com/github/SHAZAN01/Machine-Learning/blob/main/Maths_1.ipynb\" target=\"_parent\"><img src=\"https://colab.research.google.com/assets/colab-badge.svg\" alt=\"Open In Colab\"/></a>"
      ]
    },
    {
      "cell_type": "markdown",
      "source": [
        "###**Vector Algebra**\n",
        "\n",
        "If ( x1 , y1 ,z1 ) are components of vector v, then magnitude\n",
        "|v| = √(x1)2 + (y1)2 + (z1)2"
      ],
      "metadata": {
        "id": "9WrkqWoVlMEN"
      }
    },
    {
      "cell_type": "code",
      "execution_count": null,
      "metadata": {
        "id": "wcdFZ97hkE8c",
        "colab": {
          "base_uri": "https://localhost:8080/"
        },
        "outputId": "9068e0eb-dc11-4734-84e5-b5b944e82308"
      },
      "outputs": [
        {
          "output_type": "stream",
          "name": "stdout",
          "text": [
            "[10 20 30]\n"
          ]
        }
      ],
      "source": [
        "# Vector can be built using arrays from numpy library\n",
        "from numpy import array\n",
        "# Vector creation\n",
        "v = array([10, 20, 30])\n",
        "print(v)"
      ]
    },
    {
      "cell_type": "markdown",
      "source": [
        "**Vector Arithmetic**\n",
        "\n",
        "This section will illustrate basic vector-vector arithmetic, in which all operations are done element-by-element between two vectors of equal length to produce a new vector of equal length."
      ],
      "metadata": {
        "id": "ZN_pm3aLqY4B"
      }
    },
    {
      "cell_type": "markdown",
      "source": [
        "**Vector Addition**\n",
        "\n",
        "Two vectors of identical length can be combined to form a new third vector.\n",
        "\n",
        "If a=(a1, a2, a3) , b=(b1, b2, b3) are two vectors of same length,\n",
        "\n",
        "c = a + b\n",
        "\n",
        "c = (a1 + b1, a2 + b2, a3 + b3)\n",
        "\n",
        "Specifically,\n",
        "\n",
        "c[0] = a[0] + b[0]\n",
        "\n",
        "c[1] = a[1] + b[1]\n",
        "\n",
        "c[2] = a[2] + b[2]\n",
        "\n",
        "\n"
      ],
      "metadata": {
        "id": "ZygH3f07qof8"
      }
    },
    {
      "cell_type": "code",
      "source": [
        "# vector addition\n",
        "from numpy import array\n",
        "# first vector a\n",
        "a = array([1, 2, 3])\n",
        "print(a)\n",
        "# second vector b\n",
        "b = array([1, 2, 3])\n",
        "print(b)\n",
        "# vector addition\n",
        "c = a + b\n",
        "print(c)"
      ],
      "metadata": {
        "colab": {
          "base_uri": "https://localhost:8080/"
        },
        "id": "d7FmAfnEqBEy",
        "outputId": "c7f65c98-1175-4d89-96aa-7da86307726f"
      },
      "execution_count": null,
      "outputs": [
        {
          "output_type": "stream",
          "name": "stdout",
          "text": [
            "[1 2 3]\n",
            "[1 2 3]\n",
            "[2 4 6]\n"
          ]
        }
      ]
    },
    {
      "cell_type": "markdown",
      "source": [
        "**Triangle law of Addition of Vectors**\n",
        "\n",
        "According to the law, if two sides of a triangle represent two vectors (both in magnitude and direction) operating in the same sequence on a body, then the third side of the triangle represents the resulting vector."
      ],
      "metadata": {
        "id": "ro90EBXG5p6Y"
      }
    },
    {
      "cell_type": "markdown",
      "source": [
        "![image.png](data:image/png;base64,iVBORw0KGgoAAAANSUhEUgAAAXcAAADCCAYAAACysIKMAAAABHNCSVQICAgIfAhkiAAAABl0RVh0U29mdHdhcmUAZ25vbWUtc2NyZWVuc2hvdO8Dvz4AAAAwdEVYdENyZWF0aW9uIFRpbWUATW9uZGF5IDEwIEphbnVhcnkgMjAyMiAwMTowMDoyNCBQTWlkFQAAACAASURBVHic7d15WFNn+jfwL2ELihJQWZx2hE5bxXFBsVNbKYK22mIt4IZaZxBbEBDiVit2ebXzzluXLiqpqKAFl2KxdcT6w1ZGFB3t8raOWKuMWgW1dRfiQomyPL8/kJRIgChJThK+n+vKdQ0nx+SGsV8e7zzn3HZCCAEiIrIpMqkLICIi42O4ExHZIIY7EZENYrgTEdkghjsRkQ1iuBMR2SCGOxGRDWK4ExHZIIY7EZENYrgTEdkghjsRkQ1iuBMR2SCGOxGRDWK4ExHZIIY7EZENYrgTEdkghjsRkQ1iuBMR2SCGOxGRDWK4ExHZIIY7EZENYrgTEdkghjsRkQ1iuBMR2SCGOxGRDWK4ExHZIIY7EZENYrgTEdkghjsRkQ1iuBPZoMLCQhQVFUldBkmI4U5kg3JzcxEaGoqsrCypSyGJ2AkhhNRFEFHrqNVqHD58WOfY/PnzsXfvXgwZMgQFBQUSVUZSYbgTWZEFCxZg7969KCoqglqtNujPODo64s6dOyaujCyNg9QFEJHhAgICAACDBw8GACgUCu2xe88JDQ1FSUkJCgsLzVojWQau3Ils0LJly5CVlYXc3Fz4+vpKXQ5JgOFOZKPUajUUCoXUZZBEGO5ERDaIWyGJrFD5fzKQMnMqXlcdkboUslBcuRNZIfWnPeE9oRj+7Tfjm1tjIZe6ILI4XLkTWSFnD28AQE2FGuUS10KWiVshiayQs0c7uAOoghplFWdwYnsBjl9pD78nXsBzAztKXR5ZAIY7kTWSd4ECwM8OH2P0Y2/g+IVqAIAMCgx+YT0+2TESPtJWSBJjW4bICgn3hyG3B6qr/4tLlUGIW7gc7742An06qrH3y78h8Z1fpC6RJMYPVImsUPVvyzGs/Qx8jR5I2nUE7w+t+0d4ef6z6Dm8AAoswediDv4scZ0kHa7cyWRqfzuIrLdGYWDPLpDL5eji9RSiJm/At2VSV2b9hLM7FADaww/+gb93VzsMGgd/AL+hBOclq46qatYjzM4Odg0eMid3PNpvFD747IpZamC4k0nUnlmN0T0GIOb/bcV3xVdx+/ZtXL38LTav+xtGdBqF1T9WS12iVau1bwe5HXATxfhxX432+JVdn6MYQDv4oat05ZEeokqNU0Vb8fa4YXjrgOnfj+FORleD/+CtF+ORew5wcOiB0XHLkblpE1a+OQoBHYEybMWSvq+j4LbUlVovO7hDIQeqUIqMMUGImbMEC+e8iNDJ/8JlKNBjwQS2ZCyAPbzx14yTKC4uxtFDazD5caASRfj3338w+XtztwwZ3Y1tiVj5E+CCAEzL/TfeG+F695nx+Nv4JAwKWIHDNWlY+X/fxNB/dJK0VmslgzsU3oBdiTM6dPkPst7/9u7xut0yafMfkrhC26BWq1FaWtrozpuGkkGOTp0eRY8eQI3mGnyc6o6LCo0Rq9SPH6iSUQlosH2CC8I/BQLbbca/KsbCvcHztSjH5xEeiNoGBLTfjN23dJ8nw9SiHEc2/ROHqx7FoJd7oPrfB/HfX+/Avc8QBPfmPndjCQgIwOHDhxEREYHMzEyDb8RWVbMe4Q7R+FLPc47wRcK2n7H8JXvjFnsPrtzJqATKob77gakiyK9RcMvgju69AGyru7rS9OsX2ySDO/pOeAV96w+EhKG7lAXZmGXLlmHmzJnar3Nzc1FUVITMzEyEhIQ88Os6IwDjVBuw2MTBDrDnTkZmB3d43030y8eLdS6NL/2fJcj64QrOnKr72tnXh6t2ski5ubmNjpWWliI0NBSRkZEGT8GyhzcmfnwEX779CJwBOEOBZwb1Msu9gBjuZFR2kOOJCU9CAeD4mXexYPMtAEDNr/8HE16ai5ghfRC3te4vfZ+3Q3nDK7JIzfXYc3Nz4e7ujj/96U8oKipq9nVkkMNT0QvP/v0z/H0AcAOFUPVX4aixC9b73kRG1jE8DQm9gDv4L9KieuPZyUuQnueBHn0B3LyIS7eB7piFxCntpS6VSK9ly5Zhz549iI6ORrdu3fSec/r0afTr18+g13NAf8z+57sIaQf8hDmYM/0nk7ck+YEqmUTNldX4a/94bGriKngZFBjU7+9Y9nUy+nP5TmZy8eJFqNVqvY+KigpcuXKl0deXL19GeXnT9948dOhQo5V+/Qequ+CLaf8swdLIuuP/XfkYnkr8GbcRgBnffI93B5ruY09+oEomYd9lKjYeH4BhC9/C6g0/4NDFm+jg1g8vvvQGkhNvYv0/PsBPv/rCj8FO9+FBwlmtVuPSpUsmq6moqMjgrZKPJeRjcfYjmLq/CJueeh0vaj7E086mqYsrdyIym4bhfG8YNxfWpgzn1nBxccGxY8cscgg5V+5EZBCNRtNkEDf3uH79OtRqNTQay9r46ujoCDc3NygUCtjZ2aGsrAzXrl3Te27nzp1RU1Oj057x8vLCV199ZZHBDnDlTtRmPGg41z9u37as+0U4OjpCoVA88KOmpgaZmZlYsWIFTpw4ofc9QkND8corr+D999/X2Rkjk8lw+vTpJj9stQRcuRNZgeZ6zdevX0d5ebn264Yr5AsXLkCtVuPy5csSVt+0Ll26NBvA9StrfY/27R9st9XJkyexcOFCrFu3Djdv3mz0vIuLCyZNmoTZs2fDy8sLoaGhjbY8zpkzx6KDHeDKncjk7ty5oxPGDYPYkIeltTPqOTs7Nxu+LT1cXFzMVqsQAl9++SVSU1ORn58PfbHXrVs3JCYmIi4uTnubgXuvVAWAjh074syZMwbfikAqXLkTteDecL7fR2VlpdTfgl7Ozs6tamvI5Za/1enmzZv4+OOP8dFHH+Hnn3/We87gwYOhVCoREREBmUz30h99/fSZM2dafLADXLlTG3H58uUW2xpNragtdeXckKenp94ADggIsIiVs7mdPHkSy5cvx7p163Dr1q1Gz7u4uGDixImYNWsWevbs2exrLViwABqNBt9+W3fnzdzcXIY7kTFUVVW1auX822+/Sf0tNMvJycng1bK7u7tVrqDNQQiBvLw8pKamYteuXXpbLw8//DCmTZuGqVOnWkVAtwbbMiSpY8eOYdOmTSgrK9MbzOXl5Rbb1mioc+fO993WqA/qdu3aSV2+Vbtx4wbWrl2LFStW4NSpU3rPCQ4O1rZe7O1Nf0dGS8BwJ0mo1WqcOXMGgYGBqKmpafkPmJCDg4POB4P6VsfNPR501wa1zvHjx7F8+XKsX78eFRUVjZ6Xy+WYOHEiZs+e3WLrxRYx3Mkk1Go1Dh8+jNLSUp2HWq1u8U56D6KpQNZ33N3dXSfMO3ToYPR6yDSEENi+fTtUKhV27dql95yHHnoIiYmJmDp1Kjw8PMxcoeVguJPRqdVq+Pn5Qa027J7XAFpsX7i5uTUZ4B07cvKQrbtx4wYyMjKwYsUKlJSU6D0nKCgISqUSo0aNajOtl+Yw3Mno6lfohuJn+tSU48ePY+nSpdiwYYPeD8adnZ0xYcIEzJo1C71795agQsvF3TJkEhEREdi2bRsAoG/fvmjXrh2OHj2KGzduNDqXfwWpodraWnzxxRdQqVTYvXu33nP+8Ic/ICEhAQkJCW269dIchjuZXFlZGYKCglBcXNzouW7duqG0tNT8RZHFUavVyMjIQFpaWpN/JwYNGqRtvTg4sPHQHP50yKRu3bqFYcOG6QS7QqHQtm0s9Y56ZD7Hjh3DsmXL8MknnzTZehk/fjxmz57N1st9YLiTyWg0GowYMQIHDx7UHvPx8cG4ceOwfPlyCSsjqdXW1iI3NxcqlQqFhYV6z+natSsSEhIQHx+Pzp07m7dAG8BwJ5Oorq7G6NGjsW/fPu0xDw8PFBQUYPHixRJWRlJSq9VYvXo10tLScPbsWb3nPPXUU1AqlRgzZgxbL63AnxwZXXV1NSZNmoQdO3Zoj7m6uiI/Px/+/v46/VS2ZdqGY8eO4cMPP0R2drbeK46dnJwQFRWFWbNmGTyyjprHcCejqq2txaRJk5CTk6M9JpfLkZeXh8DAQADQuacHw9121dTUIDc3F6mpqTr/gmvIx8cH8fHxSExMZOvFyBjuZFTx8fE6we7g4IAtW7YgODhYe2zy5MkoLCzE9evXERISIkGVZEplZWVIT09HWloazp07p/ecJ598EkqlEmPHjoWjo6OZK2wbuBWSjCYlJUWnny6TyZCdnY2oqKhG59bfGIwrd9tx5MgRLF26FJs2bdJ7m2QnJyeMGzcOs2fPZuvFDBjuZBSLFi3CvHnzdI6lp6cjNjZWoorIHKqrq7F161akpqZi//79es/x9vZGfHw8EhIS4OnpaeYK2y62ZajVMjIyGgX7woULGew2rKysDKtWrcLKlSvxyy+/6D3nL3/5C5RKJcaNG8fWiwS4cqdWycnJwcSJE1FbW6s9Nn/+fCxYsEC6oshkjhw5gg8//BCbNm3C7du3Gz3v6OiIsWPHQqlU4sknn5SgQqrHcKcHtmPHDoSHh6O6ulp7bO7cuVi0aJGEVZGxVVdXY8uWLUhNTcXXX3+t9xwvLy9MnToV06ZNY+vFQjDc6YHs27cPw4cP1/ngLDY2Funp6RJWRcZ09epVbevl/Pnzes8ZMGAAlEoloqKi4OTkZOYKqTkMd7pvBw8eREhIiM7g4aioKGRnZzeaHk/Wp6ioCEuXLkVOTk6TrZfRo0dDqVTiqaeekqBCMgTDne5LcXExgoKCUFZWpj0WFhaGbdu28VJxK1ZVVYXPP/8cKpUK33zzjd5zPD09ERcXh2nTpsHb29vMFdL9YriTwUpKSjBo0CBcuHBBeyw4OBg7d+6EXC6XsDJ6UFevXkVaWhpWrVql8/9rQ4GBgVAqlRg/fjxbL1aE4U4GuXDhAgYNGqQz4iwwMBCFhYVwdXWVsDJ6EEVFRfjggw+wefNm3Llzp9HzDg4O2tbL008/LUGF1FoMd2qRvmEb/v7+2L9/P6fgWJGqqips3rwZKpUK3333nd5zunTpgri4OCQlJbH1YuXYJKVmlZWVNRq24efnh4KCAga7lbh8+TLS0tKwevVqXLx4Ue85/fr1g1KpxIQJE+Ds7GzmCskUGO7UpPopSg2HbdQHu4+Pj4SVkSHOnTuHlJQUZGdnN3lO/QVHQUFBZqyMzIHhTno1NUWpoKAAfn5+ElZGLSksLIRKpcK2bdtQU1PT6PnOnTsjNjYWSUlJ6Nq1qwQVkjkw3KmR5qYoMdgtk0ajwcaNG6FSqfDjjz/qPScgIADJycl4+eWX2XppAxjupKN+2EZTU5TIspw7dw4fffQR1qxZo3PtQT17e3tERkZCqVTimWeekaBCkgrDnXTcO2zj3ilKZBlaar04OTlh7NixWLRoER566CEJKiSpMdxJKyUlBRkZGdqv9U1RIunUt15SU1Nx5MgRved4e3tj6tSpSExM5A282jiGOwGoG7Zx7xSljRs3IiwsTMKqCGi59QLw3unUGC9iImRkZCAuLk7nGKcoSa+l1gvvnU7N4cq9jcvJyUF8fLzOMU5Rko4hrRfeO50MwZV7G8ZhG5bDkNbLE088oW298AZe1BKGexulb9jGa6+9hvfee0/CqtqewsJCpKam4osvvmiy9TJmzBgolUoMHDhQggrJWjHcTUCtVuPw4cM4ceKERbY39A3b4BQl82HrhcyB4W5EWVlZmDlzJtRqtfaYpf149Q3b4BQl8zCk9cKxdWQs/EDViCIiIqBWq/HVV19h586dUpfTSHFxMYYOHdpoitLGjRsZ7CZkaOslOTmZY+vIaPhftBEpFAooFArs3LkTc+fOlbocHSUlJRg6dGijKUpbtmzheDwT0Gg0WLNmDfr06YPQ0FBs3bq1UbB7enri7bffxtmzZ5Gdnc1gJ6NiW8aIcnNzERkZienTpyMiIgKhoaEW0ZbhFCXzMbT1kpyczLF1ZFIMdyMpKipCaGgowsPDkZWVBaDug1WFQiFpXZyiZB6GtF7qx9ZxhU7mwHA3gtLSUvTr1w/dunVDYWGh5IFe79atWwgJCWk0bOPAgQMctmEEGo0GGzZsgEqlanLXi6enJ+Li4jBt2jSOrSOzYri3klqt1rZfmgt2AQ1ulAFuHnKz1KXRaDB8+HCde7L7+PjgwIEDvCd7KxnSegkMDIRSqWTrhaQjqFUGDx4s3NzcxKFDh5o8p1ZUikMru4s/IkQs2X3T5DVVVVWJsLAwAUD78PHxEceOHTP5e9uyPXv2iMjISGFvb6/zs61/ODg4iKioKHHgwAGpSyUSDPdWiI6OFgCaDXYhhLh2+jMxs09dALTHQPHaZ1dMVlNNTY2IiorSCR0PDw8G+wOqrKwU6enponfv3noDHYDo0qWLeOutt8SFCxekLpdIi+H+gDIzMwUAkZmZ2eQ5NaJM7F7aW3jfEwZO6CFe3XjOJHXFxsbqvJerq6v44YcfTPJetuzs2bPi9ddfFx4eHk2Gev/+/UVWVpa4ffu21OUSNcJwf0Dl5eVi69atzZ5TtnOo8AaEByLFsn+dEKdO54llEZ2EMyAc4CvGLzspKo1Y09y5c3XCRy6Xi7179xrxHWyfoa2X/fv3S10qUbMY7iZSKyrFtpEQMijEX5ff0h6vEgfF4h51QWEPbzH6HyeN8n4LFy5sFEJ5eXlGeW1bZ2jr5c0332TrhawGL000EYFKqG/X/W9n+e87ZOzRE77dAdkJb3T1CsBzI31b/V4ZGRmYN2+e9mtOUTKMIbte+vfvj+TkZEyYMAHOzs5mrpCoFaT+7WLLij+EcAbEH71nisK7LfarR5LFwA4QPbBE/GSE9/j000+FTCbTWWWmp6cb4ZVtlyGtl3HjxrH1QlaN4W5C1Zp/iYRH6wJDJvMWj/t3E4q77ZiX32/9B6p5eXnCwcFBJ5gWLlxohMptjyGtl86dO4s33niDrReyCQx3E6tRbxcpYW7CWbsq7CHGz/9elLXydfPy8oRcLtcJp7lz5xqlZltiyK6Xfv36iczMTKHRaKQul8hoeIWqmVReOYYT52Tw8u8Bb5fWvZa+KUoctqGrpXu9ODg4IDIyEkqlEkFBQRJUSGRaDHcr09QUpVWrVrX5e7Ibcq+Xzp07IzY2FklJSejatatR3z8rKwvr1q1DSEgIwsPDERAQYNTXJ7ov0v7Dge7HsWPHGrUXoqKiRE1NjdSlScqQ1ktAQID4+OOPTdp6OXTokIiOjhZeXl7adg+RVLgV0krUD9vgFKXfGdJ6iYiIgFKpxDPPPGPyeoqKinD48GFcunQJzs7O8Pf3N/l7EjVJ6t8u1LLz588LPz8/nZVocHCwqKw05vWt1sHQXS/z5s0Tv/76q1lqyszMFL6+vgKAGDx4sPZK4ZKSErO8P5E+DHcLd+3aNeHv768TXoGBgeLmTdPfXdKSnD17VsyZM6fF1svatWvNtuulYaiHh4eLPXv2CCHq7hQaHR1tlhqImsJwt2A3b94UgYGBOgHm7+8vrl27JnVpZtPSBUf29vZizJgxZruHTnl5ucjKytKGenR0dKMVeklJiSgvLzdLPURNYbhbqMrKShEcHKwTZH5+fuL8+fNSl2ZyhrReOnXqJFJSUszWehGibqWuUCiaDHUiS8IPVC1QdXU1Ro8e3WiKUkFBgU2Pxzt37hxUKhXWrl3b5L1e+vbti+TkZEyaNMns93opLS1FeHg4FixYAF9fX7O+N9H94j53C1NbW4uJEyciJydHe8zDwwP79++32d0Xe/bsgUqlanLXi729vXbXS3BwsAQVElkfrtwtTHx8fKNgz8/Pt7lgN+SCo06dOuHVV1+FUqk0+gVHxqQ+8TUudXoa3TtJXQlRA1L3heh39w7bsMUpSobseunTp49Ys2aNxW/1rBWVonCWXCjgJIYlGue+/ETGwraMhViwYAHeeecd7ddyuRw7d+60mTaEIa2X8PBwKJVKDB48WIIKH0x5/rPoObwAjkjASk0awpw1KD2wETn/cwRXNI8gZPwUjHyyg9RlUlsk9W8Xst0pSobsevHw8BBz5841664XY6oS+8XMP9VN3BqR9r3YFgPtHUBx9/bOL8763qjjFIkMwXCXWHp6uk7YyWQy8emnn0pdVqvUt17c3d2bbb1kZGRYfOvFECVp3eoCXaEQCkD4dY8R765aJd5NGii8AeEIX6HcVi11mdTGMNwlZGtTlHbv3t3iBUejRo3SXslpK6qqNosJirrv8WEkiF0NLpA9tLRuJT/AdztX72RWDHeJ2MoUpfrWS69evZptvbz++uvi7NmzUpdrErWiUnw3q+577XnP+MSaI5OFLyB6IlWckqxCaosY7hLYu3ev1U9RMqT10rt3b5Genm4TrZeWVF1dKAbaQbggQMzeVSWEqAt9rtxJKgx3M/vhhx+Eq6urTgjGxsZKXZbBdu/eLSIiIpptvURGRtpc66UlNaJM5ITX/QxcHAeKKGWKUE7qL7wB4YQe2sAnMheGuxnpG7YRGxtr8cM2DGm9uLu7izlz5pi89bJ06VLh6+srJk+eLLKysizq/i4V/z9G+N7zc3FzGCimrzzHVTuZHcPdTE6fPi18fHx0/sO39ClKhrReevXqZdbWS0lJiZg/f77o3r27ACC8vLxa/Zo11afEd4evt/p1qsRRsbx/3Up9VvZJUXzqIkOdJMNwNwN9wzbCwsJEVZVl/lPdkNZLRESE2L17t9lra3gP9fbt24uRI0e26vXq2yk9sUQY41rg8sO7xDe/3jbCKxG1DsPdxPQN27DEKUqGtl5ee+01s+96KS8vFwsWLNC5h/p7770nAONMO6r4Pko8gm4i4ZNqUVN9SuxemyBiovNFWetLJ5IMw92E9A3bsLQpSoa2XlavXm32X0j1oa7vHurR0dFGm3ZUJY6KxT0gnB4PEH29ZUIGhQgZsF5nSyORtWG4m4i+YRuWNEWppdaLTCYT4eHhoqCgwOy1NQx1Nzc3vYMxysvLjTLtqOzYerFoQh/h5QxhB2fxZFC6KDzBtgpZP4a7CVRVVYmwsDCdsLSEKUqVlZVi9erVFtl6qVc/7cjNzU3Mnz/fpOPqKr6PEr6AUChCxJT3U0RkJ4hnBv2bH4KSTWC4G1lVVZWIiorSCUwfHx9x+vRpyWoypPXy5z//WaxatUr89ttvktUphBBbt241eajXqxanxb7cIm1vvehNCB9Eio9/MflbE5kcb/lrRJY2RWnPnj1ITU3F9u3b9d5mVyaTYeTIkVAqlRgyZIjZ67M01RXpCPdZiwEbDuCdcM6xIevGcDeiuLg4ZGRkaL92dXVFYWEhAgMDzVaDRqPB+vXroVKp8NNPP+k9R6FQ4JVXXsH06dPx8MMPm602YxMXtmPJ7Lfwnz9uQc6iR6Uuh8iiMNyNJCUlBYsXL9Z+7erqiry8PLMN26gfLr1mzRqUl5frPadnz55ITk5GdHQ0XFxczFKXsYmyA1j3fhpyD/0CUXUeOwt+hicSkKlJw1DzzssmsmxS9oRsxb3DNuRyudi7d69Z3tuQXS8vvfSS2LVrl1nqMaWaS+vE+Ifrvi87OAsnl7vfIxTi5RVXpC6PyKIw3Fvp3mEb5piiZMiuF4VCIWbNmiVKS0tNWou51IpKsTOm7nsb4J8uDl2ru23Ap1PshTMgeiGV+9KJGmC4t8K9wzZMPUXJkF0vPXv2FCtXrpR814ux3RH7xUzPulvqLj7U4HjtavECOO2I6F7cEvCAduzYgUmTJqG2tlZ7bNWqVYiKijL6exmy62XEiBFQKpV49tlnjf7+FqMDYHcZuFHR4JhdV3h3AKpuluLAhH+ivGIs3CUrkMiCSP3bxRrpG7Zh7ClKhrRe3NzcbKr10pxaUSn2Jtzdk999ifjmmhA14rwofLOXUNT/PBAiVp2QulIiy8Bwv0/6hm0Yc4qSIa0Xf39/kZaWZnOtl5bUXFonIjs1/kD1EcwU2ds2ia9+bP1te4lsBcP9PjQ1bMMY6ne93Dswu/4hk8nEyJEjRX5+vlHez1pVXPxMTA/7o3CTQ8hk3mLwsMWi8JzUVRFZHu5zN1BJSQkGDRqECxcuaI9FRUUhOzsbMpnsgV7TkAuO3NzcMGXKFEyfPh3dunV7oPchoraHH6ga4MKFCxg6dGijYN+4ceMDBbshFxz16NEDycnJiImJsdoLjohIOly5t6CsrAxBQUEoLi7WHgsLC8O2bdvg4HB/vxvrd7188cUXOrts6slkMoSFhUGpVOK5555rde1E1HZx5d6MsrIyDBs2TCfYg4ODsWXLFoOD3dDWS0xMDGbMmMHWCxEZBVfuTbh16xZCQkJw8OBB7bHAwEAUFhbC1dW1xT9/7tw5pKamYu3atS22XqKjo9G+fXuj1U5ExJW7HhqNBiNGjNAJdn9/f+Tn57cY7C21Xuzs7LStl2HDhhm9diIigOHeSHV1NUaPHo19+/Zpj/n5+aGgoAAeHh56/4whrZeOHTtiypQpbL0QkVkw3Buora3FpEmTsGPHDu0xHx8fFBQUwMfHp9H5hrReunfvjuTkZEyePJmtFyIyG4Z7A/Hx8Y2mKBUUFMDPz0/nvN27d0OlUjXbennhhRegVCoxfPhwk9dNRHQvhvtdKSkpjaYo5efna8fjGdp6iYmJgVKpxCOPPGKWuomI9GG4A1i0aJHOFCW5XI68vDwEBgYa3HpJSkpCTEwMWy9EZBHafLhnZGRg3rx52q/lcjm2bNmC6upqREZGsvVCRFapTe9zz8nJwcSJE7XhbW9vj4SEBBQWFjbbepk8eTKmT5/O1gsRWaw2G+47duxAeHg4qqurtcfat2+PiooKvec//vjjSEpKwpQpU9h6ISKL1ybDfd++fRg+fDg0Gk2z59nZ2eH555/Xtl7s7OzMVCERUeu0uXD/+uuvMWTIENy+fbvJczp06IDJkydjxowZbL0QkVVqUx+o5ufn4/nnn0dTv8/8/Pwwffp0vPrqq2y9EJFVa1PhvmbNGr3BPnz4cMyYMQPPP/+8BFURERlfm2rLHDx4EE888QSEEHBwqo0ecwAAAUBJREFUcEBiYiKSkpLw2GOPSV0aEZFRtalwB4CjR49i165dmDJlCjp06CB1OUREJtHmwp2IqC14sMnORERk0awu3MW+F+FuZwe7Bg97ex8EPD0LuT9XSV0eEZFFsLpw16e29iIOf7MUsx+bi4Kmt68TEbUZVhvunohE6okTKC4uxsGdUxFgD5QiE1u21EhdGhGR5Kx2n7sMcng99hh6AKhw9YX73UyvuiVpWUREFsFqw/0iNiHKbhOiGhzzwgt4Yay9ZDUREVkKq23L3KuT0wuYvTsdo9ylroSISHpWu3L3RCTeOrEYw6oc4eLkDs9H3SCXuigiIgthteFe33PvLnUhREQWyGbaMkRE9DuGOxGRDWK4ExHZIN44jIjIBnHlTkRkgxjuREQ2iOFORGSDGO5ERDaI4U5EZIMY7kRENuh/AZBieFrSZxLYAAAAAElFTkSuQmCC)"
      ],
      "metadata": {
        "id": "ELzHTU7D5las"
      }
    },
    {
      "cell_type": "markdown",
      "source": [
        "**Parallelogram law of Addition of Vectors**\n",
        "\n",
        "According to the law, if two co-initial vectors working concurrently are represented by two adjacent sides of a parallelogram, then the diagonal of the parallelogram represents the sum of the two vectors, that is, the resulting vector beginning from the same initial point."
      ],
      "metadata": {
        "id": "8_Ul7pJp51m3"
      }
    },
    {
      "cell_type": "markdown",
      "source": [
        "![image.png](data:image/png;base64,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)"
      ],
      "metadata": {
        "id": "L0nouQx754eb"
      }
    },
    {
      "cell_type": "markdown",
      "source": [
        "**Vector Subtraction**\n",
        "\n",
        "Similarly vector subtraction happens elementwise"
      ],
      "metadata": {
        "id": "Tc6LAnbDrbLy"
      }
    },
    {
      "cell_type": "code",
      "source": [
        "# vector subtraction\n",
        "from numpy import array\n",
        "# first vector a\n",
        "a = array([3, 2, 1])\n",
        "print(a)\n",
        "# second vector b\n",
        "b = array([2, 1, 0])\n",
        "print(b)\n",
        "# vector subtraction\n",
        "c = a - b\n",
        "print(c)"
      ],
      "metadata": {
        "colab": {
          "base_uri": "https://localhost:8080/"
        },
        "id": "xMZXARQlrYL8",
        "outputId": "810637ba-cfe5-402d-ab3e-059b1ca14cd8"
      },
      "execution_count": null,
      "outputs": [
        {
          "output_type": "stream",
          "name": "stdout",
          "text": [
            "[3 2 1]\n",
            "[2 1 0]\n",
            "[1 1 1]\n"
          ]
        }
      ]
    },
    {
      "cell_type": "markdown",
      "source": [
        "**Vector Multiplication**\n",
        "\n",
        "Similarly vector multiplication happens elementwise"
      ],
      "metadata": {
        "id": "gcpVB9xyr_am"
      }
    },
    {
      "cell_type": "code",
      "source": [
        "# vector multiplication\n",
        "from numpy import array\n",
        "# first vector a\n",
        "a = array([1, 2, 3])\n",
        "print(a)\n",
        "# second vector b\n",
        "b = array([2, 1, 0])\n",
        "print(b)\n",
        "# vector multiplication\n",
        "c = a * b\n",
        "print(c)"
      ],
      "metadata": {
        "colab": {
          "base_uri": "https://localhost:8080/"
        },
        "id": "hHjFld4isCS-",
        "outputId": "d75e1592-fc95-488e-a052-3c480c7c19ee"
      },
      "execution_count": null,
      "outputs": [
        {
          "output_type": "stream",
          "name": "stdout",
          "text": [
            "[1 2 3]\n",
            "[2 1 0]\n",
            "[2 2 0]\n"
          ]
        }
      ]
    },
    {
      "cell_type": "markdown",
      "source": [
        "**Vector Division**\n",
        "\n",
        "Similarly vector division happens elementwise"
      ],
      "metadata": {
        "id": "G8pG389asUiS"
      }
    },
    {
      "cell_type": "code",
      "source": [
        "# vector division\n",
        "from numpy import array\n",
        "# first vector a\n",
        "a = array([1, 2, 3])\n",
        "print(a)\n",
        "# second vector b\n",
        "b = array([2, 1, 2])\n",
        "print(b)\n",
        "# vector division\n",
        "c = a / b\n",
        "print(c)"
      ],
      "metadata": {
        "colab": {
          "base_uri": "https://localhost:8080/"
        },
        "id": "E2NW_sdzsW8F",
        "outputId": "2197a80d-a7f9-40ce-9047-09be0a0762c9"
      },
      "execution_count": null,
      "outputs": [
        {
          "output_type": "stream",
          "name": "stdout",
          "text": [
            "[1 2 3]\n",
            "[2 1 2]\n",
            "[0.5 2.  1.5]\n"
          ]
        }
      ]
    },
    {
      "cell_type": "markdown",
      "source": [
        "**In vector multiplication there are 2 types**:-\n",
        "\n",
        "  * Dot product(scalar product)\n",
        "\n",
        "  * Cross product(vector product)\n",
        "\n",
        "The resultant of **dot product** will be a **scalar** quantity.\n",
        "\n",
        "But the resultant of **cross product** will be a **vector** quantity.\n",
        "\n",
        "We use scalar product or dot product to just get the magnitude of the resultant vector.\n",
        "\n",
        "Where as, we use vector product or cross product to know the magnitude as well as direction of the resultant vector."
      ],
      "metadata": {
        "id": "3UNfH402Ywbc"
      }
    },
    {
      "cell_type": "markdown",
      "source": [
        "**Dot Vector**\n",
        "\n",
        "Dot products are very geometric objects. They actually encode relative information about vectors, specifically they tell us \"how much\" one vector is in the direction of another.\n",
        "\n",
        "it gives you a way to make sense of what an angle between two vectors is.\n",
        "\n",
        "\n",
        "The total of the multiplied elements of two vectors of the same length yields a scalar. This is known as the dot product, so named after the dot operator used to describe the process.\n",
        "\n",
        "If a=(a1,a2,a3) ,b=(b1,b2,b3) are two vectors of same length,\n",
        "\n",
        "c = a · b\n",
        "\n",
        "c = (a1 × b1 + a2 × b2 + a3 × b3)\n",
        "\n",
        "c = (a1b1 + a2b2 + a3b3)\n",
        "\n",
        "\n",
        "\n",
        "\n"
      ],
      "metadata": {
        "id": "40r-s8tus3LR"
      }
    },
    {
      "cell_type": "code",
      "source": [
        "# Dot vector\n",
        "from numpy import array\n",
        "# first vector a\n",
        "a = array([1, 2, 3])\n",
        "print(a)\n",
        "# second vector b\n",
        "b = array([2, 1, 2])\n",
        "print(b)\n",
        "# Dot product vector\n",
        "c = a.dot(b)\n",
        "print(c)"
      ],
      "metadata": {
        "colab": {
          "base_uri": "https://localhost:8080/"
        },
        "id": "pICcmxfzsQa2",
        "outputId": "5b238dec-aafd-4d4a-db1e-05533fc9aee7"
      },
      "execution_count": null,
      "outputs": [
        {
          "output_type": "stream",
          "name": "stdout",
          "text": [
            "[1 2 3]\n",
            "[2 1 2]\n",
            "10\n"
          ]
        }
      ]
    },
    {
      "cell_type": "code",
      "source": [
        "# Alternatively using numpy dot function\n",
        "np.dot(a, b)"
      ],
      "metadata": {
        "colab": {
          "base_uri": "https://localhost:8080/"
        },
        "id": "sYdt_pg3BXXY",
        "outputId": "021af521-f27d-45dd-ce5f-6599730eb6b9"
      },
      "execution_count": null,
      "outputs": [
        {
          "output_type": "execute_result",
          "data": {
            "text/plain": [
              "10"
            ]
          },
          "metadata": {},
          "execution_count": 19
        }
      ]
    },
    {
      "cell_type": "markdown",
      "source": [
        "Note:\n",
        "\n",
        "Another method for calculating the dot product of two vectors A and B is to multiply the magnitudes of the two vectors by the cosine of the angle between them.\n",
        "\n",
        "→\n",
        "→\n",
        "\n",
        " A ⋅ B = |A||B| cosθ\n",
        "\n"
      ],
      "metadata": {
        "id": "sKKxgS6w-Vma"
      }
    },
    {
      "cell_type": "markdown",
      "source": [
        "**Cross Product**\n",
        "\n",
        "The vector components are represented in a matrix, and the outcome of the vectors' cross product is represented by a matrix determinant.\n",
        "\n",
        "\n",
        "If a=(a1,a2,a3) ,b=(b1,b2,b3) are two vectors of same length, a cross b is given as-\n",
        "\n",
        "a x b = (a2b3 - a3b2, a1b3 - a3b1, a1b2 - a2b1)"
      ],
      "metadata": {
        "id": "Y8QWwGG2_Rwi"
      }
    },
    {
      "cell_type": "code",
      "source": [
        "import numpy as np\n",
        "from numpy import array\n",
        "# first vector a\n",
        "a = array([1, 2, 3])\n",
        "print(a)\n",
        "# second vector b\n",
        "b = array([2, 1, 2])\n",
        "print(b)\n",
        "# cross product vector\n",
        "np.cross(a, b)"
      ],
      "metadata": {
        "colab": {
          "base_uri": "https://localhost:8080/"
        },
        "id": "EGk492iv_W5t",
        "outputId": "33afff06-58f0-4805-be89-6a333ba6fbff"
      },
      "execution_count": null,
      "outputs": [
        {
          "output_type": "stream",
          "name": "stdout",
          "text": [
            "[1 2 3]\n",
            "[2 1 2]\n"
          ]
        },
        {
          "output_type": "execute_result",
          "data": {
            "text/plain": [
              "array([ 1,  4, -3])"
            ]
          },
          "metadata": {},
          "execution_count": 2
        }
      ]
    },
    {
      "cell_type": "markdown",
      "source": [
        "Note:\n",
        "\n",
        "Another method for calculating the cross product of two vectors A and B is to multiply the magnitudes of the two vectors by the sine of the angle between them.\n",
        "\n",
        "→\n",
        "→       \n",
        "\n",
        "A\n",
        "×\n",
        "B\n",
        " = |A||B| sinθ *\n",
        "n"
      ],
      "metadata": {
        "id": "S8x5gESkCQVA"
      }
    },
    {
      "cell_type": "markdown",
      "source": [
        "**Vector-Scalar Multiplication**\n",
        "\n",
        "A vector can be multiplied by a scalar, thereby scaling its magnitude. To make things simple, we'll denote the scalar value with a lowercase **s**.\n",
        "\n",
        "If v=(v1,v2,v3) is a vector and s is a scalar value.\n",
        "\n",
        "c = s × v\n",
        "\n",
        "c = (s × v1, s × v2, s × v3)\n",
        "\n"
      ],
      "metadata": {
        "id": "RbuMWI-IuZ7U"
      }
    },
    {
      "cell_type": "code",
      "source": [
        "# Vector-Scalar Multiplication\n",
        "from numpy import array\n",
        "# first vector v\n",
        "v = array([1, 2, 3])\n",
        "print(a)\n",
        "# scalar s\n",
        "s = 2\n",
        "print(s)\n",
        "# Vector-Scalar Multiplication\n",
        "c = v*s\n",
        "print(c)"
      ],
      "metadata": {
        "colab": {
          "base_uri": "https://localhost:8080/"
        },
        "id": "zbKfIlS2uA3D",
        "outputId": "919408e2-5d1e-4391-d084-453cb177bf52"
      },
      "execution_count": null,
      "outputs": [
        {
          "output_type": "stream",
          "name": "stdout",
          "text": [
            "[1 2 3]\n",
            "2\n",
            "[2 4 6]\n"
          ]
        }
      ]
    },
    {
      "cell_type": "markdown",
      "source": [
        "Similarly, vector-scalar addition, subtraction, and division may be accomplished in the same manner."
      ],
      "metadata": {
        "id": "KW6vYkRGv3Yh"
      }
    },
    {
      "cell_type": "code",
      "source": [
        "# Vector-Scalar Division\n",
        "c = v/s\n",
        "print(c)"
      ],
      "metadata": {
        "colab": {
          "base_uri": "https://localhost:8080/"
        },
        "id": "nCp0Rwtrv4NB",
        "outputId": "77a6899d-26e2-41d8-d92e-d7dafd2e1e52"
      },
      "execution_count": null,
      "outputs": [
        {
          "output_type": "stream",
          "name": "stdout",
          "text": [
            "[0.5 1.  1.5]\n"
          ]
        }
      ]
    },
    {
      "cell_type": "code",
      "source": [
        "# Vector-Scalar Addition\n",
        "c = v+s\n",
        "print(c)"
      ],
      "metadata": {
        "colab": {
          "base_uri": "https://localhost:8080/"
        },
        "id": "7WZUDF88v87l",
        "outputId": "c73a560b-b13f-468b-c144-b1159a6ff852"
      },
      "execution_count": null,
      "outputs": [
        {
          "output_type": "stream",
          "name": "stdout",
          "text": [
            "[3 4 5]\n"
          ]
        }
      ]
    },
    {
      "cell_type": "code",
      "source": [
        "# Vector-Scalar Subtraction\n",
        "c = v-s\n",
        "print(c)"
      ],
      "metadata": {
        "colab": {
          "base_uri": "https://localhost:8080/"
        },
        "id": "VDEz-n-XwBeq",
        "outputId": "4ba82afa-8bf3-483c-b4f2-519b519fe7eb"
      },
      "execution_count": null,
      "outputs": [
        {
          "output_type": "stream",
          "name": "stdout",
          "text": [
            "[-1  0  1]\n"
          ]
        }
      ]
    },
    {
      "cell_type": "markdown",
      "source": [
        "**Vector Norms**\n",
        "\n",
        "Calculating the length or magnitude of vectors is frequently necessary in machine learning, either directly as a regularisation procedure or as part of larger vector or matrix operations.\n",
        "\n",
        "*   A vector's length is a nonnegative integer that specifies the vector's extension in space. It is also known as the vector's magnitude or the norm.\n",
        "*   The L1 norm is derived as the sum of the vector's absolute values.\n",
        "*   The L2 norm is determined as the square root of the sum of the squared vector values.\n",
        "*   The maximum norm, often known as max norm, may be used to compute the length of a vector.\n",
        "\n",
        "\n",
        "\n"
      ],
      "metadata": {
        "id": "b9YL5xgnDBWv"
      }
    },
    {
      "cell_type": "markdown",
      "source": [
        "**L1 Norm**\n",
        "\n",
        "This length is sometimes referred to as the taxicab norm or the Manhattan norm.\n",
        "\n",
        "The L1 norm may be used to compute the length of a vector, where the 1 is a superscript of the L.\n",
        "\n",
        "![image.png](data:image/png;base64,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)\n",
        "\n",
        "The L 1 norm is computed as the sum of absolute vector values, where the absolute value of a scalar is denoted by the notation |a1|. In effect, the norm is a computation of the Manhattan distance from the vector space's origin.\n",
        "\n",
        "![image.png](data:image/png;base64,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)\n"
      ],
      "metadata": {
        "id": "Dar7qq1u26FE"
      }
    },
    {
      "cell_type": "markdown",
      "source": [
        "In NumPy, the L1 norm of a vector may be determined by calling the norm() function with an argument specifying the norm order, which in this example is 1."
      ],
      "metadata": {
        "id": "ULNK9Nlu4lsL"
      }
    },
    {
      "cell_type": "code",
      "source": [
        "# vector L1 norm\n",
        "from numpy import array\n",
        "from numpy.linalg import norm\n",
        "# a vector\n",
        "a = array([1, 2, 3])\n",
        "print(a)\n",
        "# L1 norm calculation\n",
        "l1 = norm(a, 1) #1+2+3 = 6.0\n",
        "print(l1)"
      ],
      "metadata": {
        "id": "woFhXlInFYir",
        "colab": {
          "base_uri": "https://localhost:8080/"
        },
        "outputId": "d4d34d9f-256a-4671-959c-3c8e39f4cd68"
      },
      "execution_count": null,
      "outputs": [
        {
          "output_type": "stream",
          "name": "stdout",
          "text": [
            "[1 2 3]\n",
            "6.0\n"
          ]
        }
      ]
    },
    {
      "cell_type": "markdown",
      "source": [
        "The L1 norm is frequently used as a regularisation approach for fitting machine learning algorithms, for example, to keep the model's coefficients minimal and, as a result, the model less complicated."
      ],
      "metadata": {
        "id": "ZndJapbi48Vt"
      }
    },
    {
      "cell_type": "markdown",
      "source": [
        "**L2 norm**\n",
        "\n",
        "The L2 norm may be used to compute the length of a vector, where the 2 is a superscript of the L. The L2 norm of a vector is denoted by ||v||2, where 2 is a subscript.\n",
        "\n",
        "![image.png](data:image/png;base64,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)\n",
        "\n",
        "The L2 norm computes the vector coordinate's distance from the vector space's origin. As a result of its calculation as the Euclidean distance from the origin, it is also known as the Euclidean norm. As a result, the distance value is positive. The L2 norm is determined as the square root of the sum of the vector values squared.\n",
        "\n",
        "![image.png](data:image/png;base64,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)\n",
        "\n",
        "In NumPy, the L2 norm of a vector may be determined using the norm() function with the default arguments."
      ],
      "metadata": {
        "id": "eA-VsWiX5VuZ"
      }
    },
    {
      "cell_type": "code",
      "source": [
        "# vector L2 norm\n",
        "from numpy import array\n",
        "from numpy.linalg import norm\n",
        "# a vector\n",
        "a = array([1, 2, 3])\n",
        "print(a)\n",
        "# L2 norm calculation\n",
        "l2 = norm(a) # (1+4+9)**(1/2) = 3.741\n",
        "print(l2)"
      ],
      "metadata": {
        "colab": {
          "base_uri": "https://localhost:8080/"
        },
        "id": "WQZrNyzb5--Q",
        "outputId": "c9a6ac22-5d95-4d84-c94f-b595c82e73e2"
      },
      "execution_count": null,
      "outputs": [
        {
          "output_type": "stream",
          "name": "stdout",
          "text": [
            "[1 2 3]\n",
            "3.7416573867739413\n"
          ]
        }
      ]
    },
    {
      "cell_type": "markdown",
      "source": [
        "The L2 norm, like the L1 norm, is frequently used as a regularisation approach for fitting machine learning algorithms, for example, to keep the model's coefficients minimal and, as a result, the model less complicated. In machine learning, the L2 norm is significantly more widely employed than other vector norms.\n",
        "\n",
        "The maximum norm, often known as max norm, may be used to compute the length of a vector. The maximum norm of a vector is denoted by L inf, where inf is a superscript that can be represented by the infinity sign.\n",
        "Max norm can be represented as:\n",
        "\n",
        "![image.png](data:image/png;base64,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)\n",
        "\n",
        "![image.png](data:image/png;base64,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)"
      ],
      "metadata": {
        "id": "dtqXfCM17XuM"
      }
    },
    {
      "cell_type": "code",
      "source": [
        "# vector max norm\n",
        "from math import inf\n",
        "from numpy import array\n",
        "from numpy.linalg import norm\n",
        "# a vector\n",
        "a = array([1, 2, 3])\n",
        "print(a)\n",
        "# maxnorm calculation\n",
        "maxnorm = norm(a, inf) #maximum value is 3 among vector components and inf parameter refers infinity\n",
        "print(maxnorm)"
      ],
      "metadata": {
        "colab": {
          "base_uri": "https://localhost:8080/"
        },
        "id": "Ia5XdnIp6fMf",
        "outputId": "2acb3d34-6c5a-4e11-c16e-5145358523e8"
      },
      "execution_count": null,
      "outputs": [
        {
          "output_type": "stream",
          "name": "stdout",
          "text": [
            "[1 2 3]\n",
            "3.0\n"
          ]
        }
      ]
    },
    {
      "cell_type": "markdown",
      "source": [
        "Max norm is also used as a regularization in machine learning, such as on neural network weights, and is referred to as max norm regularization."
      ],
      "metadata": {
        "id": "fbfFxgBD_CaL"
      }
    },
    {
      "cell_type": "markdown",
      "source": [
        "References:\n",
        "\n",
        "https://docs.scipy.org/doc/numpy-1.13.0/reference/generated/numpy.linalg.norm.html"
      ],
      "metadata": {
        "id": "fpQw4cseB3ti"
      }
    },
    {
      "cell_type": "markdown",
      "source": [
        "###**Matrices and Matrix Arithmetic**"
      ],
      "metadata": {
        "id": "2EcL2ChoB-0y"
      }
    },
    {
      "cell_type": "markdown",
      "source": [
        "Matrices are a fundamental component in linear algebra. Matrices are used extensively in the field of machine learning to describe algorithms and processes such as the input data variable (X) while training an algorithm. You will now learn about matrices in linear algebra and how to handle them in Python."
      ],
      "metadata": {
        "id": "SB97Rr3BCeeZ"
      }
    },
    {
      "cell_type": "markdown",
      "source": [
        "**What is a Matrix?**\n",
        "\n",
        "\n",
        "\n",
        "*   A matrix is a two-dimensional scalar array containing one or more columns and one or more rows.\n",
        "*   A matrix is a two-dimensional collection of numbers (a table).\n",
        "\n",
        "\n",
        "\n",
        "A matrix is commonly denoted by an uppercase letter, such as A, and entries are denoted by their two-dimensional subscript of row (i) and column (j), such as ai,j. For instance, we may define a 3-row, 2-column matrix as follows:\n",
        "\n",
        "A = (( a1,1 , a1,2), ( a2,1 , a2,2 ), ( a3,1, a3,2 ))\n",
        "\n",
        "Matrix definitions are most commonly seen in horizontal notation.\n",
        "\n",
        "![image.png](data:image/png;base64,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)"
      ],
      "metadata": {
        "id": "b8V76E7TCn5Q"
      }
    },
    {
      "cell_type": "markdown",
      "source": [
        "A matrix in machine learning is most commonly first seen in model training data, which is made up of numerous rows and columns and is frequently represented with the capital letter X.\n",
        "The geometric analogy used to explain vectors and several of their operations does not apply to matrices. Furthermore, a vector may be thought of as a matrix with one column and numerous rows.\n",
        "\n",
        "The dimensions of the matrix are frequently given as m and n or m x n for the number of rows and columns, respectively. Now that we understand what a matrix is, let's look at how to define one in Python."
      ],
      "metadata": {
        "id": "JcHeQ0RxFxyX"
      }
    },
    {
      "cell_type": "markdown",
      "source": [
        "n Python, we may represent a matrix with a two-dimensional NumPy array. Given a list of lists, a NumPy array may be created. Here's an example of a two-row, three-column matrix."
      ],
      "metadata": {
        "id": "9DBFugrJGbhI"
      }
    },
    {
      "cell_type": "code",
      "source": [
        "# Matrix Creation\n",
        "from numpy import array\n",
        "A = array([[1, 2, 3], [4, 5, 6]])\n",
        "print(A)"
      ],
      "metadata": {
        "colab": {
          "base_uri": "https://localhost:8080/"
        },
        "id": "pMv4Za6B-UCs",
        "outputId": "3613ad58-75a5-4e2e-8d11-fa0dcaa4812a"
      },
      "execution_count": null,
      "outputs": [
        {
          "output_type": "stream",
          "name": "stdout",
          "text": [
            "[[1 2 3]\n",
            " [4 5 6]]\n"
          ]
        }
      ]
    },
    {
      "cell_type": "markdown",
      "source": [
        "**Matrix Arithmetic**\n",
        "\n",
        "This section will illustrate basic matrix-matrix arithmetic, in which all operations are done element-by-element between two matrices of equal size to produce a new matrix of equal size."
      ],
      "metadata": {
        "id": "lC_cWS0dGsvm"
      }
    },
    {
      "cell_type": "markdown",
      "source": [
        "**Matrix Addition**\n",
        "\n",
        "Two matrices with the same dimensions can be combined to form a new third matrix.\n",
        "\n",
        "C = A + B\n",
        "\n",
        "![image.png](data:image/png;base64,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)\n",
        "\n"
      ],
      "metadata": {
        "id": "m2bkAHdqG4pp"
      }
    },
    {
      "cell_type": "code",
      "source": [
        "# Matrix addition\n",
        "from numpy import array\n",
        "# First matrix A\n",
        "A = array([ [1, 2, 3], [4, 5, 6]])\n",
        "print(A)\n",
        "# Second matrix B\n",
        "B = array([[1, 2, 3], [4, 5, 6]])\n",
        "print(B)\n",
        "# Matrix Addition\n",
        "C = A + B\n",
        "print(C)"
      ],
      "metadata": {
        "id": "KHJtLzAmGmKj"
      },
      "execution_count": null,
      "outputs": []
    },
    {
      "cell_type": "markdown",
      "source": [
        "**Matrix Subtraction**\n",
        "\n",
        "Similarly, one matrix with the same dimensions can be subtracted from another matrix with the same dimensions.\n",
        "\n",
        "C = A − B\n",
        "\n",
        "![image.png](data:image/png;base64,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)\n",
        "\n"
      ],
      "metadata": {
        "id": "-pw3YvrCH6wa"
      }
    },
    {
      "cell_type": "code",
      "source": [
        "# Matrix Subtraction\n",
        "from numpy import array\n",
        "# First matrix A\n",
        "A = array([ [1, 2, 3], [4, 5, 6]])\n",
        "print(A)\n",
        "# Second matrix B\n",
        "B = array([[1, 2, 3], [4, 5, 6]])\n",
        "print(B)\n",
        "# Matrix Subtraction\n",
        "C = A - B\n",
        "print(C)"
      ],
      "metadata": {
        "colab": {
          "base_uri": "https://localhost:8080/"
        },
        "id": "mc4IZU51Hm_p",
        "outputId": "3404a629-e3f0-4df8-e7aa-728eb4aef206"
      },
      "execution_count": null,
      "outputs": [
        {
          "output_type": "stream",
          "name": "stdout",
          "text": [
            "[[1 2 3]\n",
            " [4 5 6]]\n",
            "[[1 2 3]\n",
            " [4 5 6]]\n",
            "[[0 0 0]\n",
            " [0 0 0]]\n"
          ]
        }
      ]
    },
    {
      "cell_type": "markdown",
      "source": [
        "**Matrix Multiplication (Hadamard Product)**\n",
        "\n",
        "When two matrices of the same size are multiplied together, the result is known as element-wise matrix multiplication or the Hadamard product. Because it is not the conventional operation when referring to matrix multiplication, a different operator, such as a circle, is commonly used.\n",
        "\n",
        "C = A o B\n",
        "\n",
        "![image.png](data:image/png;base64,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)\n"
      ],
      "metadata": {
        "id": "KaABoGq7ImQu"
      }
    },
    {
      "cell_type": "code",
      "source": [
        "# Matrix Hadamard product\n",
        "from numpy import array\n",
        "# First matrix A\n",
        "A = array([ [1, 2, 3], [4, 5, 6]])\n",
        "print(A)\n",
        "# Second matrix B\n",
        "B = array([[1, 2, 3], [4, 5, 6]])\n",
        "print(B)\n",
        "# multiply matrices\n",
        "C = A * B\n",
        "print(C)"
      ],
      "metadata": {
        "colab": {
          "base_uri": "https://localhost:8080/"
        },
        "id": "7m1I_PXmJAVS",
        "outputId": "da08970d-be3c-4cc3-b364-2a9b9fcced96"
      },
      "execution_count": null,
      "outputs": [
        {
          "output_type": "stream",
          "name": "stdout",
          "text": [
            "[[1 2 3]\n",
            " [4 5 6]]\n",
            "[[1 2 3]\n",
            " [4 5 6]]\n",
            "[[ 1  4  9]\n",
            " [16 25 36]]\n"
          ]
        }
      ]
    },
    {
      "cell_type": "markdown",
      "source": [
        "A matrix with the same dimensions can be divided by another matrix with the same dimensions.\n",
        "\n",
        "C = A/B\n",
        "\n",
        "![image.png](data:image/png;base64,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)"
      ],
      "metadata": {
        "id": "UjBStjoHbgTf"
      }
    },
    {
      "cell_type": "code",
      "source": [
        "# matrix division\n",
        "from numpy import array\n",
        "# First matrix A\n",
        "A = array([ [1, 2, 3], [4, 5, 6]])\n",
        "print(A)\n",
        "# Second matrix B\n",
        "B = array([[1, 2, 3], [4, 5, 6]])\n",
        "print(B)\n",
        "# divide matrices\n",
        "C = A / B\n",
        "print(C)"
      ],
      "metadata": {
        "colab": {
          "base_uri": "https://localhost:8080/"
        },
        "id": "0JjihGBIbQL0",
        "outputId": "0f2f7cc9-37a8-4a47-a285-26fdf1bb5030"
      },
      "execution_count": null,
      "outputs": [
        {
          "output_type": "stream",
          "name": "stdout",
          "text": [
            "[[1 2 3]\n",
            " [4 5 6]]\n",
            "[[1 2 3]\n",
            " [4 5 6]]\n",
            "[[1. 1. 1.]\n",
            " [1. 1. 1.]]\n"
          ]
        }
      ]
    },
    {
      "cell_type": "markdown",
      "source": [
        "**Matrix-Matrix Multiplication**\n",
        "\n",
        "\n",
        "Matrix multiplication, commonly known as the matrix dot product, is little different than the earlier operations and requires a rule since not all matrices can be multiplied together.\n",
        "\n",
        "C = AB\n",
        "\n",
        "The matrix multiplication rule is as follows:\n",
        "\n",
        "The number of columns(n) in matrix A must equal the number of rows(m) in matrix B.\n",
        "\n",
        "This rule applies to a chain of matrix multiplications in which the number of columns in one matrix must equal the number of rows in the matrix after it in the chain.\n",
        "\n",
        "C(m, k) = A(m, n) · B(n, k)\n",
        "\n",
        "![image.png](data:image/png;base64,iVBORw0KGgoAAAANSUhEUgAAAZwAAADUCAYAAACoPZWMAAAABHNCSVQICAgIfAhkiAAAABl0RVh0U29mdHdhcmUAZ25vbWUtc2NyZWVuc2hvdO8Dvz4AAAAxdEVYdENyZWF0aW9uIFRpbWUAVHVlc2RheSAxMSBKYW51YXJ5IDIwMjIgMTE6MDk6MjggQU3CulmHAAAgAElEQVR4nOzdZ3gUVdvA8f9uCiGhhJ4QehMIvUNCAogiopRQLBT1BZGqIA+IBSmioiLSpUhTEKlSBRJIKKF3QicEEtITAqRnd2fO+yEBMaRsyqae33XlQ3ZnZ+45U+6ZM2fO0QghBJIkSZJkYtr8DkCSJEkqHmTCkSRJkvKETDiSJElSnpAJR5IkScoTMuFIkiRJeUImHEmSJClPyIQjSZIk5QmZcCRJkqQ8IROOJEmSlCdkwpEkIPrqXD6bepyY/A6kgDConsx7fzFnYvM7EqkokQlHKvb0MduY4raDcn06UDq/gykgzLSdcKk/jy/d9hMmO7+ScolG9qUmFWcqgWx5pzp/lLrCtpVNKZHfARUgCqeZ3eoNAoZfZeXYKvLqVMoxmXCkYkwlcPurvNG/JfNjf6KLTX7HU/BEnx1Ol3axTLq/icE18zsaqbCTCUcqtnRJWxhVYyRmM++yfFR5eQWfBpUwtr5jx/yAXezwfpPKmvyOSCrM5DEmFUuCeC7MHsTp8Kl8/KFMNunRUoU+305FnJjKAndDfocjFXLyOJOKJX34UqZ/X46Oi0fhaJbf0RRsFnUm8MnA6+zptwo/Nb+jkQozWaUmFTsCHWenleDd2f9jddJPuFimNZXKo5tb2bg3AsvSJbF37kzZ29E06t2aCgXkMs0Qf4ndaw4RZFWG0uWc6VDRj9jGvWhdMfeXFX/u/2jd9jT93a8w+xWZoaXsKSCHjiTlHcWwg1+XwkvDh9MpzWSjEOAxiqFv36Pd6LF8MPJlIn9owMh+f3Mnr4NNhz5yG591/5w7zcczbvhwuiZN4U3Xz9l11TTLs2wznrebXufApB1EmmYRUjEgE45UzKgErZvN/ihXXp7cEPM0ptAFzmXkqzfpsu4z2liDFjtqVYCyTs60KABHjMJ1lg0agF/bRXzqbAloqVSvAja0p2VH0yzTnGa8+39V8PdZyvpbplmGVPQVgMNHkvKOwi02rfShPP3pW//F7wXxHJ0zlZDSw3i3WfJnKr6cPAYNenXEKmU61RBD8K2d/PLebPYnpbc0laT4YK54fMfESZ4k5tI6JB6fzRKvnrw6pV5KwlTwP7ITHFxwfvoikdARHXGZPb+M4OdN6T/sTwx2Z+3ixSz65Uu++mwb156kN6UZNd4ZQ0M88Vp4FyWX1kUqXmTCkYoVQ9gW9pyGemN6UTONvV/hPO57oNbQblRJaQJsSPDk+DknmrqVTZlKJfzSfrwfBnPx93MEpXP2VQnj0r6ThAWf4eTWEHKjjZdAx5XdG9HSja72T5cTgfehx9R2c6Xc0/V4dBavww8JurCK675pP+k3cIlV3/jSdvQ4xk2cRj+b4XzUcxfh6TzVNa/Sn9dbw82lm7kun/xK2SATjlSMKARvXsllHGk6oBZpPfoWhBLhb0utDv9+rz+yD39ccWqgcvWgF0FCi12bgfTr5IAN6Z95tdjTvn9/Otc0y8UDTSU8FMo6N6O29ulaHcV7/0s06VsDrrlzxB/MyjvRe6ATNUqmPyfBHa6s2sGhO6DBCscurxBz0hMffXrrUx/X7hDKdnaez7UVkooRmXCkYkMhgN3bArHFmY6d0t71NTSkQRsLzEs9/c1tNi/bR4kW7WisOcnx41oq5OPLjxosqO9YhRJWTyv3DNxfv5BTtMPRSeGcuw96O+PmZcFAluvc+bghgML9M15YNexEE4v0lm1Js+59seEy53/3l9VqUpbJhCMVG6rBA88jUKF+Nzql02maOY6MnD+Y0I3L2L3vT9bMP4H9mClUKnWdg6uOUbqn87PnOPnDjPrj1+JS4neW//MPG1f+ylGHyQxq+4TrHqs5adkTl2x0CJcQsJBZG97lywODnlUlpsXS9XU6aPX4rfckUlarSVmUViMdSSqSlNOeXMCMlq+0oUy6U2mp4PQLv7cOJuhhOWr0TK6TetU5hPD4ythXzP93UCysXmPmns6E3Yuh9OuvYwOIM90If2CgwhvlsnxQ6yO3MfcbGOO+kA7WcSRhk24nplqLTrRtCWfPe3My8QP6ZlBlJ0mpyTscqZgw4Oe9hQgqU7N9zTSf3zzPzKoqNRz+PZuaWdsblWyEGozPCV+Tj6ujwQa72nbYPPu/NFWqZ55sBDpCL5/GNzr5f8Njd1YtUum/aCJOleI4uGwNNzKoK9NSF8dmEMU5Lp3LjTWRihOZcKRiQeUxZ7xVrGhALaec3qWoRF78k5WL/uai5g4ec5ex0SMUAL3vIkY7jWDFFVCJ5MzWJSzedJOgmL0sXLQB7/s5XhWjGGJPsmXFArZf0nDZex7LfzsOgIIPq0Z0YMr0uyRxgu+792Di3A9oV7EUpW3K88WvlaibQfFosMCxWSUM+HL3cHTerIxUZMiubaRiQY8H/3N4lR3Bo1metJTX0uxhIHfovNexq8p7DEjjPZ+CwIAXu1bUpc/IGpne6aUlwcuNet12Uu/1o3jsdcKERSkVMfIORyoelDv4BYM1daljwieXKvc5cL40Leqabhk5oxC86xpal+wlGwCzBo2piUqU9y3kPY6UFTLhSMWCuH0Tfw1Y1ayGvQn3eo1iTft3+1GvgB5ZAgXrtoPp3TAHM3GohR2QEH2bm+m8syNJaSmgh4Uk5S69rw8PhJbSjR1MWgWkMatM5UoFd5QyDZZUtC+XowNfQ3WqVoY47nNfJhwpC2TCkYoBhaDbF4jHjPK1q8l3AXJISzUcqkMCIYQF5Xc0UmEiE45kciqBHP3zCMH51DxFYCAkMBoVLWXtKmf72YWUTIM9VSpDAqFE3JYjsknGkwlHMjGVkG1D+WjwBs7q8isGQVQEQElKVsjGa/jSf2iwoowtKDwkOlA2cpWMJxOOZFIG3V6W/3iYKMKISMifGARxREUBlKFkxYL7fKXwMKN0GdAQR1x4umMzSNILZMKRTEYQx/lFp6k1tj9mhBF5P7/ieEx0DJhRChsTDL9c/GgoYwsaVGIfReV3MFIhIhOOZDJJfivxVIYzqEVFbIngoX/+9C8siCUmBsyxpmRZucvnlAYtpUpr0CBIiJJv4kjGkw12JJNQuMv25ea8Nrs2FtHVqEwgT/xUyJdH9nEkxIEWC8zT6Xr/RSqPbm5l494ILEuXxN65M2VvR9Ood2sqFJCcZYi/xO41hwiyKkPpcs50qOhHbONetDb5XZwGixI2QBJ6fb49mJMKIZlwJBNQidi9hsiuX9HSAnQVqlEJHY+CIlCpmu5ttT7kKDs8H5CUaW9LGsypTce3O1HTqD1Yj96Q/Ctzo3o3VgjwGM2YyXWZceIzWlr7s/69Wkz+/UtWK62pYMwsTEwfuY2pvX+jyo87meJsTsDGPnR39ecdr1607mL65Vta2ACJKInyRRzJeDLhSLlO0Xnwl7czQ79PHjlGgwP2dnA9IBQDVdN98VKjAeMf6QuEkRMLDOh1yXc4Zkbs8brAuYx89SbdL62gjTUI7KhVAco6OdOiANzdKFxn2aAB+LW9ww/OyaVZqV4FbLCjZce8iECDubkVGkBJkAlHMp5MOFKuEiRyft5PHIlsR9iXRwBQzR5yzQxi/EPJ6K0NczsXBgw2RVTJSzXDAkvrjKcUxHN0zlRCSq/k3WZPf+3LyWPQwK3js8HXEoPd+Wv7bWL0IYSFtuKdL/rjWPbF5SbFh3Lr+FrW7O/A9z93y5XB2xKPz2aJV08++aNeygGs4H9kJzgsxDml1beq+nFk3R6uJegIv5tA8yGT6N/yxZU3bj1eZFmyJBoEsu9fKStkwpFylf7+SrzMlrN1Vd1nT2tUHvHH5ZXMdQ8lFtI/6YpEnjyKx2BElZpWa0PZciWMavWioSTla1hTKbgKZTLZ4xXO474Hag3t9mzkS0OCJ8fPOeG6PvlMbOASq77xpcvicTQ2S+TCLDs+6mnB9uO9qfzcXZdKGJf2nSQ69gwnt9bE8LMRwWZCoOPK7o1o+Ymu9k+XE4H3ocfUdnOlXEqE1xfP55bLQsa1gLibn/Jao7FoQtfgVuXfeRm7Hi/SYmFbl+rVErCtlr/jn0qFi0w4Uq5Ruc/2FRpemV73P00DNFhTpSrodCEEK5DeOGaJPiuYvsiHuEyXpMHS0Iahv46kgxHnO0ECUQHxhBLIw2jI6CGMIJQIf1tqdaj1bB30R/bhjytODVSuHjyCTfdHXFm1A+WTMTg2tMKxyyvETPfER9+bl5+rL9RiT/v+/Uk8/GcuNgdVCQ+Fss7NqJ0yU4WjeO9/iSaTa8A1d7xsnYi+uojDwZP4sEVNLBt2o0mZUZw8peDW59/CF9wxaj3SikEXeZ2AwEDsAhNzbc2kok8mHClXCOK5ungKNxqt4e1UL/NrMKOyA+gIIVSBZukkHKtmHzN/Ze7HpsESC0tQ0WMwZDZtQxq0sSCyVPL/CrfZvGwfJVp8RGPNSf46ruW97m4s17nxdIr7Z7ywariUJka3gMs+DRbUd6xCiaCnmdbA/fULOUU7ejopnFvqgzLmVfqsEPR5GmHgKW5EOzGy/X8L3oKBLNcNzNZ66A0qoMGshDyFSMYrAI9ApcIu4epCRvVtz+uT3XFfsoaTz92iKFxjy4zRzNhqQSTuzBvzNRtP5/X7OBZYWiQ3HjBk0tuBOY6MnD+Y0I3L2L3vT9bMP4H9mClUKnWdg6uOUbqn83+qBBMCFjJrw7t8eWDQsyo40zKj/vi1uJT4neX//MPGlb9y1GEyg9o+4brHak5a9sTluYSvcI3Vn3jRev0i3rZLf65ZWw+BPikGAWhlwpGyQkhSEacX58V0R4QNbcXsc8b9xpAQJPwD4//9Py5YBEcY/jONLmKrmDVinjgWLoQ+NlYkpjOvBC830bHGehGTzfjToopYEeIXImKf/R8tQgOihP65aRThL3ZPGyMWHngkDEqsiItPa07Gr8e/9OLaHK2wxEL0fP96jtdFKj7kHY5U5GkoRanSoJCILta435hZVaWGw78v7ZhZ22P/3MMnw2N3Vi1S6b9oIk6V4ji4bA03FBBqMD4nfInJ7ZVIRYMNdrXtsHn2f2mqVC/3rI5cJYQji9aT6Daf8a/akuSxmD+uJDc6CL18Gt/ojNcjIwKV2FgVAZQsW9pEaygVRTLhSEWehgqUswUDMcRG5bw7fQMn+L57DybO/YB2FUtR2qY8X/xaibpmoPddxGinEay4AiqRnNm6hMWbbhIUs5eFizbgfT/n65MZQSJnv2/FgMmzed+5HKVKWVP/tfOUbAIKPqwa0YEp0++SlMF6ZLaEuGgQaLEuY0QbaklKoRFCNqSXijZBPNvfteGtjRUYuTSMpaNN272Oznsdu6q8x4D6Jl1MthnwYteKuvQZWSNbHQ0JEtn1fkkGrLNl+JJIlo2RIwxJxpF3OFIxYEb5yqAhlrhI03anr3KfA+dL06KuSReTAwrBu66hdclesoHkBP4oErRUoLRDrgYnFXGyiYlU5Gkwx6F6GbQkEvswChVrk11paRRr2r/bj8oF9FJOoGDddjC97XMyj3DCI6AElalYW97dSMYroIeFJOUmM+yrNcIClSj/YDJ5FSdHNGaVqVyp4A7ypsGSivblcnTgC8KJCAcbalK9Xq6FJhUDMuFIxYJ5nYbYYeDJzQBkh/o5Iwgg0B9KUZc6smcbKQtkwpGKBW2jJtQGEm4+IDTnDdWKNTXclwcCSlrXpZ48g0hZIHcXqVjQlmpEvQqQiD/+pqxTKwaE7y0C0VDGqQ7yLRwpK2TCkYoFM1rQrDnEcJvbD/M7msJM5dGNC4RhRY32TciD7uOkIkQmHKlY0FCJZq0hjuv4Hpd1atkl0HPtwm3MaUjD1yvIE4iUJXJ/kYoFDZY06+RKSYK47x2c4UBwUvpUQrh2BWxpTfNW+R2NVNjI93CkYqOES09acoQHJy6TQLVn/ZClTeXRza1s3BuBZemS2Dt3puztaBr1bk2FAnKZZoi/xO41hwiyKkPpcs50qOhHbONetK5oumWqnOLcGShn3YH2GY6ZI0kvKiCHjiSZnrZ8D1ybw8OzR7igz2hKhQCPUQx9+x7tRo/lg5EvE/lDA0b2+5s7eRVsJvSR2/is++fcaT6eccOH0zVpCm+6fs6uq6ZdrnLBgzM6M2oNdaUAv24kFVAy4UjFhhmN6dELIvHiyOX0p9MFzmXkqzfpsu4z2liDFjtqVYCyTs60KABHjMJ1lg0agF/bRXzqbAloqVSvAja0p2VH0y45wOtvwmlNx5H1st01jlR8ySo1qdjQYEnzd8dQ7bvlXP4rCLWNwwtXXIJ4js6ZSkjplbzbLPkzFV9OHoMGbh2fDb6WFLiXjftiKF0+ijtnbeg+5T3alE+9RJWk+FBuHV/Lmv0d+P7nbuTGe5KJx2ezxKsnn/xRL+UAVvA/shMcFuJc4t+YD646zMMKpXnicxObrp8y2Ln0C+ubGOzOX9tvE6MPISy0Fe980R/HdDqAVniA+55HVKY3vZrnwopIxU4BuF6TpLxj7jiM/g0Vbq/zIDyNftIVzuO+B2oN7fZs5EtDgifHzznR1K1syjT+rB41kduV3HDrPwIX8T4TBxwmdbegKmFc2neSsOAznNwakitd6gh0XNm9ES3d6Gr/dDkReB96TG03V8qlfBK4cig/729A775v8f6bQSzsPBWPVF0sGLjEqm98aTt6HOMmTqOfzXA+6rkrzXIBUGJ3svcw1Bnaj8by9kbKBplwpGLFnNYMHGpBSOSfbL334veCUCL8banVodazKiP9kX3444pTA5WrB70IwZ5XJ3xDr5aWgEpCPFjbl32hikmLPe3796dzTbNcPNBUwkOhrHMzaqfMVOEo3vtfoknfGnDNnSP+Wir3+JpRIxtQEhDxcUB5yqaqzxDc4cqqHRy6AxqscOzyCjEnPfFJ8/mWSuT21VzEmW6TGsuqESlbZMKRihlzXho9l7YWHnj8cpfUg1tqaEiDNhaYl0r+X+E2m5fto0SLdjTWnOT4cS0VsaRu94E00nuyfeX/WPdgATMXtcyTk7AGC+o7VqGE1dPKOQP31y/kFO1wdFI45+6D3g6savSkd8coju5ayJfzLBjm+RkdUh3tFgxkuc6djxsmr+n9M15YNexEkzTe5lS4y+aVV3CoM4ZhzUy8klKRZTZjxowZ+R2EJOUlbclGlA+aw/pfK+A8zRX7507EWirR2DGELb/dw7LUHbz33qfq6y9x9VQMtiIAM6d3aOmgBTSYmVlhXb4kIUfWc1HzMi83f/EZCYDh/mbW7WjE0InNyHlLYi22rZvgv30jN2zN8Tvsjm+t16l2/RSR1eOIjO3GgI6VMAM0WnOsbMph9XAvu/eUp13/l7BNp2VZQsACJn1RnTF7/0dr2xe/19/9nk//F4br6iW4NZL1aVI2CUkqhhLvThXtqCkmbElM83tDQpDwD4z/9/+4YBEcYRBCCKGKR+LeRT/xJOW72AO9RCNGi31JaS8rwctNdKyxXsTkYvyqiBUhfiEi9tn/0SI0IErohRBCKOKx32Xh9zj5O53YIj6wqCQmbFLSnJcuYquYNWKeOBYuhD42VqQuEVU8EftGIRrzo/BJexaSZBRZpSYVSxZ1/seXw/3xGvUH/mk8JDezqkoNh5L//m9tj33F5Ct7XcgvfNByLBsfpHwnBAoGkgQINRifE77EmDh+DTbY1bZ79vKqhtJUqV4Oc5KrAZe/05wv54en9KggEIoeNVEg0BF6+TS+0cm/Mzx2Z9Uilf6LJuJUKY6Dy9ZwI1U9oy5yBfOX1aL75jE0kWcMKQfk7iMVS1oq8Nr3C6j2ZA4LdyRm6bcW9h8weWEXrM6d5MzpDUxf+Jgey7/mjRKg913EaKcRrLgCKpGc2bqExZtuEhSzl4WLNuB93zTr8zwz6vPWzHm0cTjLiYvH2PrFMiJ7rmTCEDMUfFg1ogNTpt8liRN8370HE+d+QLuKpShtU54vfq1E3edqzATReM+aTGSdWUwekHHfDJKUGY0QIp1GkJJU1Bm4tqgxgz/+kHWGyTTP0qMJhaiAC9y4b4FD46bUqvjvj3Xe69hV5T0G1M/1gLPEEH2XK5dD0do70qSe7bNGDQa82LWiLn1G1sj05c2Eu5/zar2zDLp0kPHy3Rsph2TCkYo1hSss7NKKM138WD8j8xNwZlTus3fBBRqNdyugg5MpBOz6lQsNxtG3YWZT3uG3no052OoGG7+tJ5tCSzkmE45U7CWFLObdlh70PLKTES/lbF5CCSciqhKVC2hHYwIdD0PiKG9fLpP6dAW/dc68P+tDVt35P+oXyOQpFTZyN5KKvRL2Y1iyvhrecw/n+GG/xqxygU02kNy9T8VMkw0YxCF+/9OZqd4y2Ui5R97hSJIkSXlCXrtIkiRJeUImHEmSJClPyIQjSZIk5QmZcCRJkqQ8IROOJEmSlCdkwpEkSZLyhEw4kiRJUp6QCUeSJEnKEzLhSJIkSXlCJhxJkiQpT8iEI0mSJOUJmXAk6Tn6yG18N3FzfoeRrxJvLWD6tFM8VPM7EqmokQlHklLoIv/ikzfXYzvELb9DyVeWLw2lu8WnjBp1lEjZta+Ui2TCkSRA0R1m9ptzKTP1d0a1fn6oMQOxD/3xu/cYJd+iS5shPpwHdwJ4lMuBaSlPp683MiD+Az6e7Yshd2cvFWMy4UjFnkoQOz8ayJWWa5jRp/Szg0IlksNLRtK/Yy0GvLyf6HyN8nkqkSd/YHz/1nRsMIndOR3EJw1m1GTAqsVU3jiMOUeScn8BUrEkx8ORijmVwL974ObmwpKkabS1TP1tECu6V+NQ80A2/exQgK7QVIJXNabHiLHsUsdT20RjvkUdG8LrLtX4MXYOLjamWYZUfBSc40eS8oFBv4dvx97FddeUF5INgMJRjh9yxLFvQUo2IIjnlNctqg52oboJBxi17fwD4/r9wNzJN9CZbjFSMVGQjiFJymMGbs7/kDMxUxnTq0SaUyjnDnCdzrTtkMehZcLAGY4eLk/jXk0xz3zybNPiwKDvPyXi189Zf8+EC5KKBVmlJhVbOt0GPqgwmYor77Hg7bQSjsL1OdYM2P4Tcz+x4EFCEvEx7Rg8oROVTXhXYQxdwOd0q3mL3h79KesXR1KEhlbDP8TZLveXpRLAml412VzhEnt/b27SBCcVbfIORyqmVEL/+J7zsUMY0D/tuxuVcLw9dYiwKMydRzNyxEia+7kxZU5YHsf6YmRRh3Zxm0ckRHdnxMiRDO96hJmu6wg0weWjlhq4jemB/x8L2P0o9+cvFR8y4UjFksJN/lp5jZqDh9LRIr1pDuPtUZ9+v03j1ZqgoQTVaunwWX44T2NNTRDPCc/rNHP7kaluVTADLGrVQX97N57xpllmqV4f4mT7O7t/Lzht9aTCRyYcqVgy+P/BttMNaDPMMd0qIuXcAa7SjU5dzAAQGLjn+whDXBKgkhQfzBWP75g4yZPE9BYkdERHXGbPLyP4eVPuvNGS/PzGlib9W/P03kz1vUEwOnR6UA0xBN/ayS/vzWZ/Oi2aBUncO7aSJUsWM/erKXy/9maGzb7NeYVebyhcXvAPkbmyFlJxJBOOVAyphO7dTAQv07lLeoeAgv/hHWhqu9DJ4ukn1zjlDXY9W6ISxqV9JwkLPsPJrSHpvhypPDqL1+GHBF1YxXXf3OkrRgR5cjGwGy1eexq7gVtHt6KhNS3KQPil/Xg/DObi7+cISuelUL3vfNYecuWjseOYOLs/ifNd+GzNI9KLUEMpOvdsy8N7u/AwwXs/UvEgE45U7KhE4LXPjzLVO6XZFBpAoBAW8oQqTs0ok/KZcm8zB6668tr/mqLFnvb9+9O5plmGB5FZeSd6D3SiRslcjD8kiESa0qxs8v8GrrF7GzSeNISWWrBrM5B+nRywIf0HOvq7p3Ff5sE9FbS0oFPHCK5vuYY+3V9oKdvlNRw4wYVDBa3PBamwkAlHKnYUznLqODi80pay6UyjwZyaDZuhFcn3Liqh7PtmA/aTFzG6Wd7FmhZtHUccUNFrkiOL3D+TQ0E/89XsupgZOQ+bHts5GTqW+lpQ8eXiOajbszHpPM4CQFO1HU3L+XN9t2+B6+ZHKhxkC0fJhBT89n/Dgj93sWWzH3Zd36dbEws0gKrEE3nbF22DiUz/6TVqGXumzAVq+AWuP7Khcas6GRwAWqr93wI6eS5lyd/9qHh3N9ca7mfdFEes8i7UNFmUH8mn3w1n3bxdRNTwwetgL+b7Dad5NgIT6Li9aiKnq+1h8bjyGd+t0YKmzeHsCR8SeIlS2V4DqbiSCUcyITPqvDaDOVY+/PNHVUatmc/I594T0cWuZkjVnoxPusHuJQ3zLCr10hn8eInurTO6ngczsy58vrEtYX5PKNWnJ4MLSH2AhjI4f76JlqH+PLF+kzcGZfelIIUHB6ax1n8mK/9uR8nYJCiVdhPx5OVWpFY9iD18A18FWuThRYJUNBSQQ0gqqgQ6rnpuxwJXXCr/9zuzUp1o0wge/H0hDyNSeXT/OgbsqFI/86k12GBXpyqljDxSBDpCL5/G1+Sth7XY2NWmahnjk41Qg/E54UvyM3+VEO8FbAsczsxZHSnLXtb/fCfDnqE1mFOztjkJ+HJH1qlJ2SATjmRSKgF4HwK7vq7USbW3KY/cOXJRS+132+dpRMFB97DEjkqlczKXSM5sXcLiTTcJitnLwkUb8L4PCj6sGtGBKdPvogCG2JNsWbGA7Zc0XPaex/LfjufWiqQf2cU/Wbnoby5q7uAxdxkbPUIB0PsuYrTTCFZcgfirn9Ov12S++qQVFUuVwtb8Pc7a1M+kykNLpSp1SCKMiCgTr4ZUNAlJMiGdfoXoRxkx5jfdfz9POC7m9ignXHpsEDeS8i4eVSSIPSMQtRgvPEy0XL3wFNuW+wuDaWafI0nH1oott7P/+7gdLqIybcSsM7kXk1R8yGc4kkkZju3jHDXoGrORtWtVBAlE3DrFhVvlcBp7kQNv1szwIbw+5Cg7PB+QlKr6ByMAACAASURBVGmXfxrMqU3HtztRM8O9WiUhBsywpqRJ+kNTCN51Da1LV6NbjOUVlfscOF+aFuOzPw+NjS3mRJD4WEVWkEhZJROOZDICHVcO/U1pfmH6x8OeVakJtS8nfx3G1AnLqdvqO153SH8eGg1k4SkFItOJBUlJoMUaaxOcLwUK1m0H09s+9+edUxrFmvbv9qNyDtZbY2mJOUno4mWfv1LWyYQjmYyKP96eYD/QhWrPneQ0WnvajZ1F54Wd+OadrrgefYX0xvYyt3NhwODcjEqPXg9aLLE0wR2OBksq2qfzNmk+05hVpnKlHM7E0hIzDCiGfO4uWyqUZMKRTEZNOsSxkxVovKY5L56CrbC0gvgbISRBugkHkciTR/EYjKhS02ptKFuuRCYVPZaUKAEqevTyIj3rdDoUSmCZ3y8jSYWSTDiSyei893EVZ3q/8eLTDP2NP9h1pSxNvu2ObQbzSPRZwfRFPsRlujQNloY2DP11JB0yORlaWiVX9yUZdZFuIPZhEOHRZalZ27ZAPZcxxIcTEpRIqTo1KJdHgYnEBPRYUcJGPr+Rsk4mHMkkBDqueOzCkrk4l//vd7EB6/jE7Resum5m9tSqGd6RWDX7mPkrczMyM2zLgYHHRBsgjVuvZ1QiObpkCt8vWEOEYSOH/N6mXG6Gkm0qkSd/Ytqsxeze34HvHm1hWEZZOzeX/DgSPaWwrpg3y5OKFplwpFym8vDsYn768zheGyDS7iS/fjY5eUdTonkY+YjHkRY0/fgyP33UjPJ5fKGswYwqVUFPFJGZvLyopSIuY7/h5t9rONS8c7r9ruU9LRU7TmbagDV473ehc54FphIVGYIFralUK6+WKRUlMuFIuUxLhbYfM6ftx/DLpvwOJg3m2Fdrgp4wIiKB6hlPrXCU44cccZzuUKAaAQviOeV1i6qDXaieR8/vBQaCgwIoQS+qFsx2EVIBV5COIUnKEzaN22DLA4KvZj4+jXLuANfpTNsOeRBYFiQPwlaexr2a5uFVo54APyhJAxrIS1UpG+RuIxU7GscW1GEdoZcToGe67eMABb+DG0lo+xOazb+yPCGJ+Jh2DJ7Qicr53CpYBHhwLsiV3pU2snxFHEkRGloN/xBnu8x/m10qd7l1E2y7NMVBXqpK2SB3G6nYMSvZjlYNBPdPXEGXwXQq4Xh76hBhUZg7j2bkiJE093NjypywPIs1vciiDu3iNo9IiO7OiJEjGd71CDNd1xFowqbeKhfxuQw1OjbNcNwcSUqPTDhSsWNGS5y6QMTu84RkcIJWOIy3R336/TaNV2uChhJUq6XDZ/nhvAo1TYJ4Tnhep5nbj0x1q4IZYFGrDvrbu/GMN91ylQtH8RGtcexXWZ44pGyRVWpSsaPBig6vOBG74jCHo8bxXoW0p1POHeAq3RjUJfklF4GBe76PMMQlIUji/rHf+edKEgkhAejr/R9j32/4bDjqZ4SO6MgbHF2/iFtVlzHprZwfcsnPb2xp8kNrno5eo/reIBgdOj0kBrvz1/bbxOhDCAttxTtf9McxVUs2o+P/tzTw99qGnpF0aZHjVZCKKXmhIhVLpft8QFvNQU7/nZjOFAr+h3egqe1CJ4unn1zjlDfY9WyJ3nc+aw+58tHYcUyc3Z/E+S58tuYRqZshKI/O4nX4IUEXVnHdN/NGCsYQQZ5cDOxGi9eeHr4Gbh3diobWNLH1YdU3vrQdPY5xE6fRz2Y4H/XcRXiqOzlj4/+3NB7gvucJVbq/TltZnyZlk0w4UrFkZtGX/v2fcH65O2mNlSZQCAt5QhWnZs+u+pV7mzlw1ZXX/tcU/d3TuC/z4J4KWlrQqWME17dcQ596OeWd6D3QiRolcy92NSSIRJrSLOWuxcA1dm+DxpOG0IJbXFm1g0N3ku/kHLu8QsxJT3xSBWZs/E8pj7ay53ADXKe45PsQ21LhJavUpGJJSwXe+PhtvnXZwO6HvRmcqlpNgzk1GzZDG5Y8BqZKKPu+2YD95H8Y3Qysmm3nZPK4Zij4cvEc1B3WOE8epmvrOOJANHpNcmSR+2dyKOhn5s6uixV1Wa4bwNPI7p/xwqrhUpqkCsymR1biV7i35kceMIGfuslrVCn7ZMKRii3rzp8zuFVztn//A2/PrZWqnzQt1f5vAZ08l7Lk735UvLubaw33s26K43+u8AU6bq+ayOlqe1g8rnyeVBlYlB/Jp98NZ928XUTU8MHrYC/m+w2neapbj4SAhcza8C5fHhhElXSacRsTv4FTrF0eQZs5w2lSkDqTkwodjRCZdsMrSUWUSvj+vrzSsw7zYufzchqv5AjiCPN7QqlaVSn1wtlYIeDAFyw53pfJs9pRMtaATakSacwjif0jrdhaM4lVX+bWK/oqcaH+PLGuRdUyL2YTfeQ25nweQNfvJtLBOg7FxoYXIzMmfpXQza689lZ3Vuqmy+c3Uo7I+2OpGNNS4bUFfPzGAhZ9cRtDGlNosMGuTlrJRiXEewHbAoczc1ZHyrKX9T/fQY+O0Mun8U3rwVAux25jVzvNZGN47M6qRSr9F03EqVIcB5et4YYCQg3G54QvMRnEn7oMDMKbX76+Tac1E2WykXIuv8e4lqT8lnj/e9GzRG+x8pbxv4nzmSLal9EKaxsbYWNjI6zNbMXwnxKFXpwTs9sg+k3wFQYhhD7mhNi0/Acxoq1GtH7te7FspbfJ1kMIIfTiuJjVGmFlnRyXjbWlaFn3LxEthEi6NVU44SrmXk4//uepIlGc/66qcG61VQSpJg1bKiZklZokoXB/62v839S3WXZrOA1y+JzCgBe7VtSlz8gaBWr8HACd9zp2VXmPAfUznzb68iT6uSTy6e0l9Kpi+tikok8mHElKoeDLthHv4f7SWn6bbMQZOQ0CHQ9D4ihvX67A1VcLJZyIqEpUrpRxR3BK0lG+7/ct6pjNfPVG2QK3HlLhJROOJD1HJYiz2/1p79Ypv0PJNzo/dzwjO/BquzIy2Ui5SiYcSZIkKU/ICxhJkiQpT8iEI0mSJOUJmXAkSZKkPCETjiRJkpQnZMKRJEmS8oRMOJIkSVKekAlHkiRJyhMy4UiSJEl5QiYcSZIkKU/IhCNJkiTlCZlwJEmSpDwhE44kSZKUJ2TCkSRJkvKETDiSJElSnih2CUcxnOLX4T9wODa/I5EkSSpcBLEc/XEUy44kZev3xSrhqITyz9g+HCjxOh1L5Xc0kiRJhYuGUrR5owxbe05gT0g2fl98BmBTCdzRE7d+nfk16StaW+Z3PLlATeJJZAjhsWWpU6ccZvkdT5GnkBQdQVhwEjb1a1JBFrjx5L6at0xY3oJELsyuwcfbFrPpwiCqZTxi+X8Umzsc/eN1TB7uT7e9k4tEslGJ5PDycbzTuTZvdXMnOr8DKvJUIk/OY9LgtnRs9D/+kQVuNLmv5i1Tl7cGK5p/uYF20R8ybVEYahZ+WywSjkok/3z6f/hVm83EniXyO5xcoaUiLqNn0Ls61BngTNl8icJAYoIhX5ac97RU7DiJL/raUAFXnG3zO57Co0Dsq0oiifr8WHDey4vyNte8zGc/t+XUJ1+wMywrsRUD8VdmMnNNe/quGkCVLNz+FXQKRzl+qAlN+jnky4bU8ReTemwlLh+WnR8E8ZzyukXVwa5UL0L7UV7I7301fvdbfDZflw9Lzh+mL28tFfv+xOCWq1k8/jSJRv+qiFPw5fdPF2PWaBLDW+d3NP9S1COs++4I4Wk+QVMJ9p7PX54Z3z0Yzh7gGs60bWeSEI2gRxen5NfCsyRXypvTHPMsT6NejpibJMqCKfb0UpbvjUqz6kQlmCO/rONUJufyfN9XDfHoC8kdTmEpb3OaM/IrV+5umc7q28b+pojTX5vP8kP16fmPG5XTuSo1xF3g7988CC5RltIVXehU0ZeYxr1pW9l0cWm1Tamr6ce4D2awaE3X5+68FIIOjWLsFw353COjzWPg3qGNJLb7EbFpMUtiE4mP7cDQSc7YFfCrb0EUl7etwSOgFLYW1Wj3ekmCA1vSw6Wcya6Acl7eoAYc5GyIK29W2MDSpTEkhmtp8+EoXBxMFHQa8mNfLdG8MRH9BjHdsJmZfco/20YqQez7dCAbLRazNMPnooV3X5XlnREt5d2+pl/Nl9k27SzDN7Ul0wcWoghTRJTY8T7iJWaLS4a0p9GFbxYTOvYQc44lCSEUEbDxTVGfpuJrL9PHp4qH4ti3ncXAYZ4iVBVCCIMI9BguerebK049yfi3iggSy15FNKw1Q3j4C6GKOHFofEUx9Ltg0weeIkmsFiNarRexWfiNIu6LHRNaibfHXRKxQghd1AoxrAai+9sXhN5UgabISXkLoYjgVY1FJbqKmTvChEEIEXNyqHi53hrhr5o48BT5ua/qErzErB4viy93PBSKEEIRgWL3hA5i8JTzIrOiKwj7atyW7mL0t0lZ+o0sb2PoxaVvEA68KzaGZz51kU44SQ/nidfMEf0m3hdp5RuDuCYWdkH0/fjOs5Nd/Jn3RAtGiL8T8ybGpyfB/u8dEOc9PhRvGnXyE0In/hRDqC++9FBSPjGIW3PLiVY1/zJpvM/LesIxiBu/NhIt+FlcS9kgOnFQfOJgLcavSeeKIJdlt7xVESO2DUZ0G3hWPD1tJQVNE670F+uiTRqyEKJg7KvJJ8FuYsouH7Hzk/ZGnfyEKBj7alYTjixv4yUFTRdOmIv+k/zTPM8+rwhXqSncX/c95wxd+GJUzTTboSee+IYlh3syYX29lLpFBf8jO8FhIc5P7w1FIlEh1zi6YRG3q/3GlHfSLjJVF0XAHS+2fHsVxzXTed3IxnAaytPpi62Ev1+F/q+MZmnUJNqXyfx3yXW0L/O2a/INt8DAvTuPMMQlASoJ0Q+4cXwdaw904sf53bFKayZGrhtAwsU5jJl9hifPPQNRzYO4EqBhiNs2/r1T11BScWH0xk9wtk4VM+4snH6DRtOH0jBlg4hALy4GvcJ7bzzdQsbFroq7eK3exdU4HeF3E2g+bAqDWlunMeV/Zbu8U57fNPu5FU9rM1Tf6wSjQ6dAYtB+/tx6iyf6EMJCWzFk2iCavNA8yMjtkoaCsK9aWHXhs79DGVmvKXMbebDzYCuMKLpc2VeNK9/kd0ROLRnGz54G1Of2VRF2jSux7+B27rkPNVoqO07m51ntsUm9vFwsb2NjT80U5S1I4v6Rtey+kkBCcACGuh8yfkSjF+ablePLrOrb9O0wk1U/b+b2j/+jUUb14iZJeQWAQdwSP3dCvMSP4rry4veqSBInPkM04idxI+V7RYSIla8h+o3/N1MbHnqLHZsPiWVDEP83O70rJEWEnN0sNh1fKobSR/wWl7VIH+wfJnq5fCMWf91VuA3xECGZVtEYxM2fyopWNf8UD1M+0YvzYkYTRI8hPkIRweLU1q3CfW0f0b7GehGT3lyMWrf0ZfUOJ+HSSOFIJ/GDz9NPFBG6tqlowjxx59k2MCZ2vbiyYJxYej75v9gbnwpn3hfbQo2JIjvlLURS4JfCBTex9mmBp1QlNGCGOCWuiMUfLRY+BiFUkSDOzSornDruFGGp5mvsdkmtoOyringgdoxtL/p9vUx83r2r+GJrpEjj0Eol5/uqXlw0qnwzkpU7nNws75zEboryTrozR0z7+qbQCyEM4pSY3ryCGLU6KtV8s3p8GcSNH62ELe3Et+cyjq7ItlIzRG5jzwlwGNCNummupUp4KNg6Nad2yvcKR/He/xJN+taAa+4c8Qez8k70HuhEjZIZLU2LXZuB9OvkgA1Z6bhBIdB9OGOntWT6nq8YM3MLExpMZ+ywg4RmMBuBQljIE6p0bvrsykS5t5kDV13p8VkTtNjTvn9/Otc0y/AhvHHrlotCA9HjSKOXkv8VJHDK0we7t1yppr3M0b2hYETsgiT8ri7myGZ/FMCyYVealPHg5KnMWsxlr7wB1JAgEmlK05QrUwPX2L0NHD8dSnNucWX1TjzvJL8U5+j6CjEnPfFJ1SrK2O2SxtLzfV9VCWTPxwPYWmYZ62Z+xMxd07BcPoBp2x5m+OJfbuyrgjtGlW/uyb3yzm7spipv/d3TeCw/yD0VtLSgY8eHXN9yDf1/5pHV48uMWq8MpQrnOL7kJhm19SyiCUclZOtqzlGNJv1akFaDDg0W1HesgmXJp/fHBu6vX8gp2uHopHDO3Qe9nSljVAj0+JBxX7Xgq0MTaFsaNFTAedouJrw0g7FD0j8JajCnZsNmaEXyplUJZd83G7CfspjRTUwZc85oG7agOpZYpayXLmQta/eUol6XpmguuHNdV9GoHVKDDX1WCP6ak1xVKgJPcSPamZbtM+rAI/vlDaCt44gDKnoNgErk/pkcejCPr76tgxUDWK5z5+OGycu5f8YLq8adaGJhZMEAgjhOLx3MqEmHX2i6nd/7qkogez8ZyJZSy1j6XQtKAxYlu/LFzq8psWIAX2VwEsyNfdWCgTku36zIzfLOTuymLG+bHts5GTqW+lpQ8eXiOajXszEW/5lH1o8vsxY9cCql4rdmH/cyyIhFMuGoPOLofl9s6ESbnukVkhn1x6/FpcTvLP/nHzau/JWjDpMZ1PYJ1z1Wc9KyJy4m7JTAwD7W/tqCL1NOfk9pqIDzV7uY2HQ163ald62gpdr/LaCTspQlf+9j49xZnGm4n3U/NDH6mUB+sKj5KZ9/5cf2RfvYs2k5q3c15L2PXyLqwV7W77aj4xtZf6SocI3Vn3jRZv1C3s7gJJCz8gaL8iP59LsbrJu3iz2bv+en7b2Yf38irVIVeELAQmatH8yX+wZl6SVjQTR3vf/k4LzV7H2Y+tv83VfjvebjUXbps5PfUxYlu/L5zunY/rUYr3Q7D87dfTW75Zs1pilvY2PPi/IW6Li9aiKna+xh1rjy6SYCY48vM1xxfRke4olXePrTFclnODrxjxhdKfn5zY1MKj1VEStC/EKePYdQRbQIDYj6TxNdVSSKfz7M/DmHTuwUo+idxWc42aeKWBFyN0jEpLOOCV5uomMmzwqMXbe0JIk14sM2G7LULFoIRcSG3BMhMc//HyiiUrWJNiZ2RfiL3dPGiIUHHgmDEivi4rMUSDYoIjbETwQ9SbsCXhexVcwaMU8cCxdCHxsr0mvMlNG6xW9fKv5Ip/Vqcd9XjS3ftMRtfUWM+T5r+3iulncOYs+OjMvbIPz3TxFTpp0QEcIgYmPSjiZrx5dBXP+xpLDCXoxdo0t3qiJ5hyMeHONcBJTt2JRamayhBhvsats9a6WioTRVqpfL9I1YgY7Qy6fxzceeCDXYYFenKqWysBWTIi5y/np8rizfnFcZv7RrFq9UtdjY1cKu1PP/O1AukwJPXd4qIRxZtJ5Et/mMf9WWJI/F/HEly6uQRVps7GpTtcyLl6eGx+6sWqTSf9FEnCrFcXDZGm4oWStvQSKXIqxonM5LhdneV9VgfE74EmNUFKaR1X019fZOr3yNVcJlDqPeyVodXG6Vd05jz470y1slxHsB2wKHM3NWR8qyl/U/30Gf4+PLjNrNulKaCG57Xk//OU5WsmZhEflnG1EKS+H2yQMjWnVkTB9zQmxa/oMY0VYjWr/2vVi20jv5c3FOzG6D6DfBVxiEIiIubBBLFr4v2msaibdm/ir+dA/J+YpkkyIixOkti8VPoxqLGuXeEd8uXC+O3UuO+uKcyqIZ88R1Jf11y0/pxf58eetFgjj1nZ0oX6KksLGxETY2JUVVBop1WbvVyjV6cVzMao2wsrZJjsfaUrSs+5eIFob/lHf62yVZwt1V4tc1gZm+y5BuHOlsz6RbU4UTrmLuZSFEIdlXn9/eiemWb/4yprzT3zfyR5zPFNG+jFZY2yTHY21mK4b/lJgrx1dS8HThBKJZxXUiMp1pilzCUUWiODwBUYLqYsKfOU03GdMLT7FteeYvOxUkqkgUx/7YJPxMWzQmUbTLWxFh166l9ICQ+5KOrRVbbptm3qZSGLf3U8WxvHXibzG8DKI2E4VnOrVqRa5KTRCL3x0oQXXsWphy9RSCd11D61KjUA0mZQjfxR1De2oUui1f1MtbS+XGjU3yIFzlPgfOl6ZF3dyft+kUzu0Nxbe8tdSnXn2I4Q63n6Q3TRGj4oufL5TEHrsapluOQMG67WB6NzTdMkyjM32Gpd3zQkEmyzv7NIo17d/tR71CdLQX3u1dfMtbiwPVqkMsfgRcSrttdCEqEuOo+HL3DpSkGtVM1E4fQIMlFe1N17uxqVhUtqN8YQsaWd45oTGrTOVKBbxb5lQK6/aG4lzeJbF3AIVAwq+m3SqiMG7PjAXfxl8FK6pRvQj3FCdJklSQaDCnas2SaEgg6n7aw4DmSsJJirrGcY/tbN60l5O34lPegjUQ6OufG7PPEiXoPqEasChXiUpFL53+l5rEk/D73PF7ROEYBq2wU0iKDiXgpj8PZYFnjdxX81a+lLcZdnb10CKIuheY5hQ5OiU/ubuer955naGfbuP6Y1scapci1Otbpn93nDsnP2HiJzdyMvts0UQE8wiwqFYmzS5tigqVSA4vH8c7nWvzVjd38vF1oGJCJfLkPCYNbkvHRv/jH1ngRpP7at7Kz/IuUbYCVijEBkak+X22Eo4gjivre/NqVw9qT9zE5rVf8+HAbji1c6XfqG8Y22QJfV5bR0mn9jkKPjviH4aRIMywqmBbpIcz1VIRl9Ez6F0d6gxwxojezk3AQGJCxsMyFx1aKnacxBd9baiAK862+R1P4VEg9lUlkcRCMsR0TuVneWvLVqCURpAU8Cid2LJIoOPW7z0YOLQ0nxxex/B2pVNNoaVC7760j26CY+9y2Yk5BxSiH0ehosGqYhkK12O7rFM4yvFDTWjSzyFfHsbp+ItJPbYSlw/Lzg+CeE553aLqYFeqF/WdK5fl974av/stPpuvy4cl5498K2/bCtgAhsjHaX6d5VgSb07j/ff96LJyMW/XSXsaDTWp082Fji9lde45JYiNDgI0WJW2KdAtIhT1COu+O/JCz8DJVIK95/OXZ8Z3D8kDLTnTtp1JQjSCHl1c4aiRz5XyThmErVEvxyJ995xa7OmlLN8blWYPxSrBHPllHacyOZfn+75qiEdfSO5wCnN5a0qXoZQAA2m/iJOl40bBnw2TfuSx+JaxH6TfhE5DZdp8OJB2JmyWnBaBSnwCCMDMysLoOxxD3AX+/s2D4BJlKV3RhU4VfYlp3Ju26fRplRu02qbU1fRj3AczWLSm63Mv/CkEHRrF2C8a8rlHRpvHwL1DG0ls9yNi02KWxCYSH9uBoZOcsSvgV9+CKC5vW4NHQClsLarR7vWSBAe2pIeL6ZrB5ry8QQ04yNkQV96ssIGlS2NIDNfS5sNRuDiYKOg05Me+WqJ5YyL6DWK6YTMz+/zbs7BKEPs+HchGi8UszfCBaeHdV2V5Z43GsgTmJNeEpSkrXRckhn0ruoDoM+5eDrub0Av/UxvF+vV/iD/+yORv/Xqx9dADoc98pkIVScJ7MsICi/+MzJcRXfhmMaFjDzHnWJIQQhEBG98U9WkqvvbK0QoaRRUPxbFvO4uBwzxTujQxiECP4aJ3u7niVCaDlysiSCx7FdGw1gzh4S+EKuLEofEVxdDv0ulq2ASyOuKnEEIo4r7YMaGVeHvcJRErhNBFrRDDaiC6v33BqG2cEzkpbyEUEbyqsahEVzFzR5gwCCFiTg4VL9dbI/xN1B1Navm5r+oSvMSsHi+LL3c8FIoQQhGBYveEDmLwlPMis6IrCPtqVkb8fEqWd9Ylhs8QziDqMCXN77N0hxPnsZVLvMRHr+e0uwkNZmbmmJuDyGzQQY0Gc62xaVlg0INAg5lF5nc4CtdZNmgQ99ve4Sfn5EuGinXLY0MVWnY0cpE5oKE8Tl/sgO/6MvYDPV8M2cqMLxvxpcck2mcyeLnCEbzd69PfYxrdawCUoFpNhWuLjsLnb5k++GxRuL2sJzPmj2CDoTk2gL5cHcop1pTt0czk1VQ5KW9BPCc9r9N04Dqm9qmMGWBZoxYG3z0cjn2fYakfZeay/N5XLay6MHUHzOk7kM+1C3A6NILNJZay9IdWZFJ0hXJfleWdPRpzSyxI/w4nC8e4QmTofSzpQK22GVV8KATf8adM/TqUSncaMxzaDOCtNsYv3VjJCUyDecnMG0UnnviGJYd7MmF9vZSCUPA/shMcFuKcMsCSKu7itXoXV+N0hN9NoPmwKQxqbf3CvFRdFAF3vNjy7VUc10zndSMHaNJQnk5fbCX8/Sr0f2U0S6MyP/nB0zral3nbNXlbCAzcu/MIQ1wSoJIQ/YAbx9ex9kAnfpzfPe0hBEQiUSHXOLphEber/caUd9LfHRIuzmHM7DM8ee4CQTUP4kqAhiFu255L7hpKKi6M3vgJzqmKyYA7C6ffoNH0oTRMuWIRgV5cDHqF994wS1mPJO4fWcvuKwkkBAdgqPsh40c0euEgM3a7pJbt8k55ftPs51bPmturvtcJRodOgcSg/fy59RZP9CGEhbZiyLRBNHmheZCR2yUNBWFftbDqwmd/hzKyXlPmNvJg58HMT36QO/uqceWbPMTDqSXD+NnTgPrcvirCrnEl9h3czj33oUZLZcfJ/Dyr/bMhCJ4tLxfL29jYUzNFeZv6+BIlrFISTjp3EsbfLCkibK2jqEpf8VsGoyTpxSHx68wTmQ4wpCQ+Eg8fRorIyEz+Hj4Uj+ONq7NQRZI4PqOGqFm1rhj1U8Y3nqpIEic+QzTip2eDtCkiRKx8jeeq4/TiyoJxYun55O9jb3wqnHlfbAt9YW1EyNnNYtPxpWIofbI4qJVBPNg/TPRy+UYs/rqrcBviIUIyXV2DuPlTWdGq5p/iYconenFezGiC6DHERygiWJzaulW4r+0j2mcwqJXhobfYsfmQWDYkuwOwZa1KLeHSSOFIJ/GDz9NPFBG6tqlowjxxJ2UbJN2ZI6Z9fVPohRAGcUpMb15BFuKiUgAAGJxJREFUjFodlWqYCWO3S1qyU95CJAV+KVxwE2ufFrjQi0vfIBowQ5wSV8TijxYLH4MQqkgQ52aVFU4dd4qwVPM1drukVlD2VUU8EDvGthf9vl4mPu/eVXyxNdKI4T9yvq/qxUWjyjcjWalSy83yzknspihvUx9fuqRVYkiNCqK59ddpfp+FZ7RabLv2oxY38DuZdsdsgjiurzhLlSEdyeiiSZDE+Q2fMXXqVKP+Zi+6QKJRMQp0jwMICn5AZFhcuuN+J1MJDwVbp+bUTikFhaN473+JJn1rwDV3vIKS8Lu6mCOb/VEAy4ZdaVLGg5OnUrfM0mLXZiD9Ojlgk15mT5NCoPtwxk5ryfQ9XzFm5hYmNJjO2GEHCc1gNgKFsJAnVOnc9NmViXJvMweuutLjsyZosad9//50rmmW4UN4s/JO9B7oRI2SWQg5J0ID0eNIo5TWi4IETnn6YPeWK9W0lzm6N5TEu6fxWH6QeypoaUHHjg+5vuUazzcwEhi7XVLLXnkDqCFBJNKUpilXpgausXsbOH46lObc4srq/2/vPAOaOt82fiWIK+5JxT0qgoO6qGJBa9VOrbO1jg5ra93V/m3dhbZq66hVRNE6eMW9Kmq1oFDUKlo3olUEAVmCUJWwkpxzvR8YRUhCEhJCML9v4YRz7lzP/Zxn3/dhBEUAElSFk/sApJ8PQliRXVG6louap5vdV0XE4ej0EdhfawN8PT6Hh/9CVPYZgYUHUrXWM2P4KhGhk77Gw3h6G2q7qfRWmrR+AaIiFYmxqXiSqSFcdMlt1n8ITOHRSWDPNtuL5fcQmc5r27/myj0PS530zFCe2TQwPbaETQMqhv/UmO6vheSNxpS8u92V7TGOu7NVDF21goFFhmk5D+bTHe9xh4Z8Vfql7VXxQcDHHNLjZ14slI1J5COe/s6Vwz7Q1vMWGL2xM98ac5VK5va+Dn3clMPmhDGr0LdMn2JavxFOTvQ89scUBuQ9KjvBi+/Wq8FJ6xXMvvwT1x98dtuAije5tDv4yZpUrT5VUrnk381wvcmc1OUcioUMFUhSYOLxoexbfxUvZxX9poq3l9dnT8c9GnPbqCsXkXKGrvuAn88KVtP7Na+vCnxA/+kvc+zcq88kDlNkBtFjYF/O1drzNp6v5lKyvurQb9OA8fXWx/ay0DvXGmPWr7zvpi1lP4Ct8ZXa63qt00rRAG943cTjmWMxusdFfPDVEHRvVxmpEZdx664tHAcvxqyXyqq7rB7bvKGVSlnSIS8btJu2DW4h/wef3+VoGB+JzLb/w6geW3ArcAsSK7+ByYWGaQLCsWVGMLr7HcL7dqW3U4Xj2LbeGfNPTUePQgvOEtRHnwX+kCybCl//vvh6iLoikqLpJ7+gd5A31h0aigaRRxDucAK+c5z0TPdctti2mIW5C8Zh/9rjyGkaiwePHfDh9PbY9eAY/B7aode8/34rocDdzV/iQvOj8JpaT2PvV9dyKZ3egG29zzBryQT4rvJHSvMwBJ98C6ujJ6BLEcGzYtfA028M5h8fpVduG+IpIs/uxMldNnCZ2xcfNyh81by+mhm8GoG1veHt6YzCeyNsq/XD3MMS/DzOC8FvL0Z/tdMaxvVVQ/XVD9PoravtZaG3setXwX2V2VAAkEDDmZiS2yz1yB/d5LnjO7lrdxCvRcrLSVY+Ja95gpVhyzc/+Ucnm0TKmRiVWNBLF/mUSbFpz2zRFRjDIwsnc80f/1IlyJmRqf5e+o1wSo9IORMj45muoXti+hHOVk7svkOvbdGkQHnifSamF/4cx7RnBjcqxpyYwzkLzzGFKsrT1a8I6louxkOgPDGK8U/Ud08VKfvp+ekqnkkmlXK5xnVMbeWSedCb2zXsXn3efVVXfdWRsX8AJy/Vz8eNqncpbDcE7Xqbrn5lx3zD7gDbwVPtdYPP2cnqO6HX66Px/nv90KW1rJwk9JKgRs2GAABldpZOM9QSyGDXyq5gl4oENdG4Wd2C7XsiEhGy1g/Zw1Zj2sA6yAn0wvYbuT2EpOsXcM+MkQglkMGudRPU0KMUc1Ku4vKtTKM8vxIGYpp3Pz17qlLI7FrCrkbhz/aoWzCwEJF49hcciJsAD89eqI1j8FsZAWURvTWVi2mRQmbXCk1qFe+eqh4HYPNaEcPXfgnXhhk4uWErbgv66U1k41pKVThqOFRosK+KCQg7dw/p+v9go6GvrxatX5r01ZUqbsswabR+J9GNpXdpbTcEzXqbtn4xPR1ZACpp2k+ne5tpGaT6OrEqbOhaMP9qOCKzGLrEjvWqVKNMJqNMVo1NMJK+clLJS/y+Ozh05j2qKDDlyg6uW/MRXSQd+J7Heu4M0GHC00QITOGFfV5cPsmRzeuO5g9r/HjmPkkqeXVZI3bGKt4SSGX6Oe7x+ZGf9pCw2+tLuWHTWbPZnE9G2By61JKyukxGmUzG6jZ1OGF59jN6K7WUizlQ8i96dgOrVs+1WVa9Ml9qs5tPqXpGb83lkktW5Gau3xpn0GyBNl/NufMNXeHOFddJWoivFi7vbI36mg9d9dbsG+bB1PUrK3QMW0rAjrU2q71e4RqcjCP9WAcSdnM+XGyRzNgoGcQDPrpFNCgviMzmme17im36sAQqtt4CH4aH67UQrg85Z7Zx313T3NtUWGJ55/O86p114k02lEjYreMhtdfLc3xLg5A2tEddCaGIe6zjVmpDEZDgHw6pW2mjLpQtqmR/RKhc0NziSr6i6y1FI0dHkyyEi4jGH5drwrmN8e9tOiyzvIHnW++sRwmQU4rqzRqovV7hgt5Km7ZEYwJPHj1GGoE6JtrJQgio3mMMBr9gmvubjlcwZLydxVViq96GIxGqw+WDoWhkQZ0Myy3v51lvAY+S4yBAijot1d/IgiTREfsWeAFADuIQb8LcYBJURoMXTBfd2FTYNrJDPUszGla9S4PEphEaNSznYZmLYKnlDTy/ehMCHj18BKA6Gjs0U/sdSyxPrUjQCs3tgUw8wIPnJRmlFStWrJgdJeKjARs0Q5PO6mNZVrgGxwYOaNcOyEQ8EmLNbY2JEXPwJDkaEVH/wjLSoFk6AnKeJiH2nxikWgXXD6uvli1m0FtEPKJjABla4IWO6r9T4RocCRqgrQOgQAIe3tEeTc2SEfEIf/pMxehXWuG9VwNgxuNAzwkiHp1fhdljeqBXh6/wu1VwnbH6atliLr1F3Ed0FCBDS7TWcAynAjY4tujctQ2ABMRfelxCAE/LRYoGcPviWwxuBrQe0Qc6RDu3UiqkaNBrNua9K0N9uKNPHXPbYzlYfbVsMZfeYuZt3EsGalZ2RicNZ2wrXIMDSFG3mzuaS7IQey4MFpLG3CAEnMZfpzqi41B7sxSkAn6Y4rYbGWZ4tjkgMhEafAdNxrijmWWtCZsdc/tq5m9DMGN5SfEVKw7m0JvXLuAf2MB+1MvQtGeiAjY4gM1LbnC2AdJOXUO8PtkCyhBBDIHvkhAkq7VPRMLZ1dgdpH3XQ26ipT7o0dMkJuqAEooMy5iRN4reeUnYOrzlVPHOE2hBfsEbPsfS1M4WiEhAyM++CC3hXW52X1VlQmkhvU/L1FtE8rXzSEYjtOvfQWP9qJD1Ripxh2tv4Nzp67iqBFqXkPxTlXEFh34NREKV2qjZwA29G9xDuuNg9NAQ08ooNko7oY1kKKZ+/C3Wbu1X6MCfgPhTkzBlngPmBmorHhXun9qF7J4/gXu8sE6ejUz5yxg3uw/synnvm0jD9QNbERhbA3Vsm6Lnm9WQEPcSBrmZbhts6fUGxNiT+DvRHe/U3wFv73RkJ0vRfeIkuNmbyGg1mMNXq3RxRMrQUVis2guPIf9FFhYRj+OzRmKXrRe8tdYxy/VVq966QWThSmgMZHgTToO0nDorRRSDcoyS178Da6AD5wZojymiSN7Lmb0GcdmZHJICY3e9w3boxEXBprdSZCrP/PAKR44PygtpomJc4AQO7rmCodoTllJgPDcMBB1afsvAGFJkBk9Na8BxSzSEGjYB+ubDIUmB0fxtZle+P/Ua5SQVaRs5vjn42vtXqCzxv0tHafQmBSZsdmRD9KPHbw+pIpl+fhz7t93KGBOFoymKOX1VkRVMz0H9Of+33NwpAuN4ZObLHDPnMkuSrjz4qn75cHKx6q07Sv7J2S3B9ljGm1peuRW0wSGzrn1OB0i0pilQMZxr+oLvTo8oeNllXvyQzviUh0wdPzyP/Jfg8A//4OXAiXxHp5cfqeBOjkU7zg/ML10V76yoy64tdpvU3sLo3+CoeHt9BzpjJcPzCkXBk5xhX53TtpZNxCxD9RaZzgNjwFdH/s3811ZO/EK6Yzh9yyASY3nw1dyX4Kuc4x/GwzNcdHr5keXDV/VtcKx660d2wiL2BkpMC1Mhp9QAoFKXsRjS2gdHt5xE3K/t0ULNUDL73HdY9+cbmOnXNm9uUUBMyGHAfg365CU3EhGBgE3BSK0nw7837qDGq19hvHutYlM/oiINsRHB2PfDTThtXYw3teXYLoQE9dB73n4kf9QYwwd8Ae+02XDRsKWwMLlztP3xvnuuJYQK9yP+hSojB4CIrKcPcPsvX2z7ozd+Wv2a+hQCzEZaYjhO71iLu01/xZzRmt0h6+oyTP7+Ip4UWgMRK8XjRqwEY4cdwH/ySlBNcMMXu2agT/UiNiMAaxbfRofF4+CQN+pmXDCuxg/Ah2/b5P0OBaICtiI4pT6qPrmBaMUQTJ7erdhpfZGRCN7ij5sZCiRHZqHL+DkY1a3IA9VgsN556zedV3ZF/myGeO8WEqCAQgCy409g5/47eKJMxMOkrhi7cBQ6FtsepGO5qKE8+Kpt1b74+lASPmvbCSs6BOLwya6agtA/gzF8VTd9c1M8hK4bj5VBKoiFfJUPw3FDPhrDLhX6o0SKRk7/w0pPl4IUBAXPM6LeutpeFFPoTeQgOmQbjtzIQlZCLFRtJmLapx2K3Ve/+iXi4dE9+AfdMXNSe+1hnEzW5JkdJf9eBDbGEP6qJvq6yBye+xrsgOW8ndcREJjITa+DQ6flR0wVGLPxZQ4cFkI5yayrE9kdX/B4sY6SwMS/93LPX94chyF6JrVS8cGJ8XzL7Tt6LerHYWO1pzrO/59/ltdm1xY7mVrway/z247goLFhFJjA0P37GbBtCF20JLVSpZ7lb3tPccPYskkxnXXtMzqhN38My/+LwKRtndgRqxiRVwY5aSs4ErMYmEEqGcKvWtTjzD1Fx+hK3vhlKr0v536S357FPviIB5J0scIQvcmcuPl0wzBuyxecSl77DnwR3zKUN+j1uRfDVLlh6y951qZrr8PFUkXrWi5FKS++KvABf5viwqGLNnDua/04T2uq43xK76tKXtVJX23oM8Ixpt6lsd0UeudELOPCRf9QSVLFUC7uUp+TtqQVua9+9UtgPDe+DraDB6+UMFFRIXep5VIJncbPRlOcQOC6RDU7PkQkJwF1XLugVZ4KAk7j7In26PhucyA8ACExUjQa9C0mf9Ee1QAwSw6gPuoUGwhIYdd9JIb2todMp7Rv+QiIC5iAKQtfwuKjCzDZYx9mvrgYU8afRJKW2xACHiY+QeNXOhX0TIT7e/HHTXcM+rojpHgBLsOH45UWNloX4W3quWLwSFc0L6us4ElxUMIJHdrnfiSyEBoUBrv33NFUeh2njyVBWmcwJu8YBsdquduQszLsULtIFEQiB1E3vRCyNwYCgMoO/dCxViDOh5a0Y84wvQFATIxHNjqhU17PVIVwHDkAOM0ahy64gxtbDiMoApCgKpzcByD9fBDCiuyK0rVc1Dzd7L4qIg5Hp4/A/lob4OvxOTz8F6KyzwgsPJCq9aybMXyViNBJX+NhPL0Ntd1UeisjLyDQ5yTui4AUzujVKxW39oU/c3xE3/qlkh/CkQDAYfJodC4hSm0FbnCASm2m4tOBObjx/W7cLVJKEtiinVNjVK6WP5+gQrTfGoSiJ5xcBVwKCIPSDqjafBDedklB8KGfMW95ZYwP+hovG0U1AXGBEzF1gTMWnJqJHjUBCeqjz0J/zGz/LaaM1fwSlKASWjh0hpS523hFJOH4dzvwwhwvfKEhpER5QOrgjGaojKp5v0uRuA3bjtZA276dILkSgFuKBqgkaQf3Dxzw+PRurJ+1EcLkbZjR99n7SCDDkI3E7mUtYAOAcaG4/bQPXnLR5u2G6w0A0tZOsIcIpQQARDw64YFTD1ZhwQ+tURUj4KMIwHSH3OdEXwxGVcfe6KhHgkkiAxe8x2DS7D+Lbd02t6+KiMOxGSOxr8YGeC9xRk0AttX6Yd7hRaiycQQWaHkJGsNXbTGy1PrqgzH1NsR2U+otG3QQ55OmoJ0UEHEPVy8Bbd9whO0z99CnfgmI2/4zrojDMWxBuxKjolfoBscGLfH+18OQjR3Y93fxq+2mbYNblf+Dz++/Y9em9Tht/z+M6vEEtwK34HzlN+CW52/SavZw7PYq+vdMxZkNQYgxQvgCFY5j23pnzM97+eUjQX30WeCPLzttga+/pnMhUjT95Bf0Fryx7tBx7FrhiYsOJ+D7Y0c90z2XLbYtZmHugigcXHscR/f4YIu/Az6c3h5pD47B74gder2d3z2siSYdesLtTSc8PbUDIZGa7ykgHFtmBKO73xq8b6f5e6XTG7Ct9xlmLbkN31X+OLp3KZYffAuro79E1yKCZ8WugaffGMw/Pkqv3DbEU0Se3YmTq7bgWGrRq+b11czg1Qis7V3w8svHtlo/zD28GHV2eyE4R9N/G9dXDdVXP0yjt662l4XehAJ3N3+JC82PwnNqPY0NQUn1S4Wb2LkxEq0HTMMIXVIblDglaOEoeZkezuArA0PUzg+LlDMxKrFgHULkUybFpuXtTBH4OOo6ox7nXlNwHz+2bahmTSH/+mFOwmA913AMR6SciZHxTNcwsZsVPIy9SlgrEJnN3ycauoazlRO779BrWzQpUJ54n4nphT/HMS1vK5BKHsHwO+l5tmXw8Eega98gtenCBcbwyMLJXPPHv1QJcmZk6v0T9ESgPDGK8U/UT8ArUvbT89NVPJNMKuVyjSnOtZVL5kFvbtewe/V591Vd9VVHxv4BnLxUPx83qt6lsN0QtOutYsyJOZyz8BxTqKI8Xb01utSvJ3+N5ot4mUv+1s2uCj3CAYBKcMbkpW8jKWAFdt8vfl0CGexa2RXsUpGgJho3q4tKAATchc/oLljwS3LeEJagoISYTRAKJF2/gHtmjEQogQx2rZughh6lmJNyFZdvZRrl+ZUwENO8++nZU5VCZtcSdjUKf7ZH3UoAICDKpw/G9N6bFyFCChIQBAXEInqLSETIWj9kD1uNaQPrICfQC9tvGOVnlWB7KzSpVbx7qnocgM1rRQxf+yVcG2bg5IatuC3opzeRjWspVeGo4VChwb4qJiDs3D2kG/CLjYW+vlq0fmnSV1equC3DpNH6zcEZS+/S2m4ImvUWkXj2FxyImwAPz16ojWPwWxkBpQH1S0A0dnvsQsO+HpjUXUfDdG4yLRgV79D7NbDvW2d03hmU/5/RJ1Zx5aajPHPlNHfOfZVvv7WPUQKp5CV+3x0cOvMeVRSYcmUH1635iC6SDnzPYz13BqjZGldGCEzhhX1eXD7Jkc3rjuYPa/x45j5JKnl1WSN2xireEkhl+jnu8fmRn/aQsNvrS7lh01mz2ZyPIuk3rluylf5nLvHPgzP4bufPuefus3ormcXQJXasV6UaZTIZZbJqbIKR9NVvqGU0lPyLnt3AqtVlufZUr8yX2uzmU6qe0VtzueSSFbmZ67fGGZhTXrOv5tz5hq5w54rrJC3EVwuXd7ZGfc2Jbnpr9g3zkBE2hy61pKwuy7Wnuk0dTliebVD9enLhY3bGO9wUqfvzn4sGhyQzoxaxL9y44or+/6t8co+XT5/l1Yh/nzkNr2QQD/jEGPiCMA8is3lm+x5Glby/0myITGXU5RD+dfF+wVQbWdH1FvgwPDwvAoLhaPLVnDPbuO9u6e5d1lhCeT+veit5jctcwHe/+kevCCEVfkotn6qt5uGXlXHYN3QL7uu5kFqpVht0fcUVzm3rFAo+JyDBPxxSt+ZmzVevL6pkf0SoXNC8HJe8BPXQqqsbevdomTfVBlR8vaVo5OhY6oVwdb4qIhp/XK4J5zalu3fZYhnl/XzqLeDB9i9w8NLP8FzWXq+AnBKS5TSesvERcAub3hiA869dxJbZ9qVyZEKB1MQM1LOwvOvK5CSkN7ArdnK/vGPV23AoJCMlrSEaaYoZXw6x1PIGKr7eikfeGON0BP0DjmNSF/2e81w1OACgfLwX3wy5jjeO/YDXapT8fStWrFixkgshx58Lh+PEi35YOq6h3p2B567BsWLFihUr5sHSRqtWrFixYsVCsTY4VqxYsWKlTLA2OFasWLFipUywNjhWrFixYqVM+H9mrbhtbGEaZAAAAABJRU5ErkJggg==)"
      ],
      "metadata": {
        "id": "g_Mr98JuneF4"
      }
    },
    {
      "cell_type": "code",
      "source": [
        "# Matrix - matrix Multiplication\n",
        "from numpy import array\n",
        "# First matrix A\n",
        "A = array([[1, 2],[3, 4],[5, 6]])\n",
        "print(A)\n",
        "# Second matrix B\n",
        "B = array([[1, 2], [3, 4]])\n",
        "print(B)\n",
        "# multiply matrices\n",
        "C = A.dot(B)\n",
        "print(C)\n",
        "# Alternatively multiply matrices with @ operator\n",
        "D = A @ B\n",
        "print(D)"
      ],
      "metadata": {
        "id": "Hnd9lZ6Dnjia"
      },
      "execution_count": null,
      "outputs": []
    },
    {
      "cell_type": "markdown",
      "source": [
        "The intuition behind matrix multiplication is that we are computing the dot product of each row in matrix A and each column in matrix B."
      ],
      "metadata": {
        "id": "QIwTEJvCvnq3"
      }
    },
    {
      "cell_type": "markdown",
      "source": [
        "**Matrix-Vector Multiplication**\n",
        "\n",
        "c = A · v\n",
        "\n",
        "![image.png](data:image/png;base64,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)\n",
        "\n",
        "\n"
      ],
      "metadata": {
        "id": "fTGzPDh3uWja"
      }
    },
    {
      "cell_type": "code",
      "source": [
        "# matrix-vector multiplication\n",
        "from numpy import array\n",
        "# Matrix A\n",
        "A = array([\n",
        "[1, 2],\n",
        "[3, 4],\n",
        "[5, 6]])\n",
        "print(A)\n",
        "# Vector B\n",
        "B = array([0.5, 0.5])\n",
        "print(B)\n",
        "# multiply\n",
        "C = A.dot(B)\n",
        "print(C)"
      ],
      "metadata": {
        "colab": {
          "base_uri": "https://localhost:8080/"
        },
        "id": "PZ4ZpCplulHk",
        "outputId": "051ab44b-e233-4714-b41c-f560515b6707"
      },
      "execution_count": null,
      "outputs": [
        {
          "output_type": "stream",
          "name": "stdout",
          "text": [
            "[[1 2]\n",
            " [3 4]\n",
            " [5 6]]\n",
            "[0.5 0.5]\n",
            "[1.5 3.5 5.5]\n"
          ]
        }
      ]
    },
    {
      "cell_type": "markdown",
      "source": [
        "**Types of Matrices**\n",
        "\n",
        "1. Square Matrix\n",
        "2. Symmetric Matrix\n",
        "3. Triangular Matrix\n",
        "4. Diagonal Matrix\n",
        "5. Identity Matrix\n",
        "6. Orthogonal Matrix\n"
      ],
      "metadata": {
        "id": "9O3VOnCCwkdd"
      }
    },
    {
      "cell_type": "markdown",
      "source": [
        "**Square Matrix**\n",
        "\n",
        "A square matrix is one in which the number of rows (n) equals the number of columns (m)."
      ],
      "metadata": {
        "id": "byEI0-x3xmzE"
      }
    },
    {
      "cell_type": "code",
      "source": [
        "# Square Matrix A\n",
        "A = array([\n",
        "[1, 2],\n",
        "[3, 4]])\n",
        "print(A) #2x2"
      ],
      "metadata": {
        "colab": {
          "base_uri": "https://localhost:8080/"
        },
        "id": "8ZZvOs7Dw19V",
        "outputId": "40b95727-91e5-43ce-b443-59f8ee4b8fde"
      },
      "execution_count": null,
      "outputs": [
        {
          "output_type": "stream",
          "name": "stdout",
          "text": [
            "[[1 2]\n",
            " [3 4]]\n"
          ]
        }
      ]
    },
    {
      "cell_type": "markdown",
      "source": [
        "**Symmetric** **Matrix**\n",
        "\n",
        "A symmetric matrix is a kind of square matrix in which the top-right triangle and bottom-left triangle are the same."
      ],
      "metadata": {
        "id": "KGT7t9Hvxe9L"
      }
    },
    {
      "cell_type": "code",
      "source": [
        "# Symmetric Matrix A\n",
        "A = [[1, 2, 3, 4, 5],\n",
        "     [2, 1, 2, 3, 4],\n",
        "     [3, 2, 1, 2, 3],\n",
        "     [4, 3, 2, 1, 2],\n",
        "     [5, 4, 3, 2, 1]]\n",
        "print(A) #5x5"
      ],
      "metadata": {
        "colab": {
          "base_uri": "https://localhost:8080/"
        },
        "id": "zAqreobExKMf",
        "outputId": "64a74c74-2bcb-4505-8a0b-02d51b8d925d"
      },
      "execution_count": null,
      "outputs": [
        {
          "output_type": "execute_result",
          "data": {
            "text/plain": [
              "[[1, 2, 3, 4, 5],\n",
              " [2, 1, 2, 3, 4],\n",
              " [3, 2, 1, 2, 3],\n",
              " [4, 3, 2, 1, 2],\n",
              " [5, 4, 3, 2, 1]]"
            ]
          },
          "metadata": {},
          "execution_count": 7
        }
      ]
    },
    {
      "cell_type": "markdown",
      "source": [
        "A square symmetric matrix is always equal to its own transpose. The transpose procedure reverses the number of rows and columns.\n",
        "\n",
        "A = Transpose of A"
      ],
      "metadata": {
        "id": "vvKRTuUGyclE"
      }
    },
    {
      "cell_type": "markdown",
      "source": [
        "**Triangular Matrix**\n",
        "\n",
        "A triangular matrix is a kind of square matrix in which all values are located in the upper-right or lower-left corner of the matrix, with the remaining components filled with zero values. An upper triangular matrix is a triangular matrix with values only above the main diagonal. A lower triangular matrix, on the other hand, is a triangular matrix with values only below the main diagonal."
      ],
      "metadata": {
        "id": "z6hvJO-iyzDZ"
      }
    },
    {
      "cell_type": "code",
      "source": [
        "# 3 × 3 upper triangular matrix A\n",
        "A = array([\n",
        "[1, 2, 3],\n",
        "[0, 2, 3],\n",
        "[0, 0, 3]])\n",
        "print(A) #3x3"
      ],
      "metadata": {
        "colab": {
          "base_uri": "https://localhost:8080/"
        },
        "id": "NryeMDOAzbJr",
        "outputId": "9c93b437-a96f-4c01-9fda-d02efa95a2e4"
      },
      "execution_count": null,
      "outputs": [
        {
          "output_type": "stream",
          "name": "stdout",
          "text": [
            "[[1 2 3]\n",
            " [0 2 3]\n",
            " [0 0 3]]\n"
          ]
        }
      ]
    },
    {
      "cell_type": "code",
      "source": [
        "# 3 × 3 lower triangular matrix A\n",
        "A = array([\n",
        "[1, 0, 0],\n",
        "[1, 2, 0],\n",
        "[1, 2, 3]])\n",
        "print(A) #3x3"
      ],
      "metadata": {
        "id": "5OeXeqJn0NTr"
      },
      "execution_count": null,
      "outputs": []
    },
    {
      "cell_type": "markdown",
      "source": [
        "NumPy has functions for generating a triangular matrix from a square matrix.\n",
        "\n",
        "The **tril()** function is used to compute the lower triangular matrix from a given matrix, while the **triu()** function is used to compute the upper triangular matrix from a given matrix."
      ],
      "metadata": {
        "id": "L1RPesz10kIY"
      }
    },
    {
      "cell_type": "code",
      "source": [
        "# Triangular matrices\n",
        "from numpy import array\n",
        "from numpy import tril\n",
        "from numpy import triu\n",
        "# Square matrix A\n",
        "A = array([\n",
        "[1, 2, 3],\n",
        "[1, 2, 3],\n",
        "[1, 2, 3]])\n",
        "print(A)\n",
        "# lower triangular matrix\n",
        "lower = tril(A)\n",
        "print(lower)\n",
        "# upper triangular matrix\n",
        "upper = triu(A)\n",
        "print(upper)"
      ],
      "metadata": {
        "colab": {
          "base_uri": "https://localhost:8080/"
        },
        "id": "sw3RBMj00nsx",
        "outputId": "6cb34679-06b2-4528-dc39-b901a5389d79"
      },
      "execution_count": null,
      "outputs": [
        {
          "output_type": "stream",
          "name": "stdout",
          "text": [
            "[[1 2 3]\n",
            " [1 2 3]\n",
            " [1 2 3]]\n",
            "[[1 0 0]\n",
            " [1 2 0]\n",
            " [1 2 3]]\n",
            "[[1 2 3]\n",
            " [0 2 3]\n",
            " [0 0 3]]\n"
          ]
        }
      ]
    },
    {
      "cell_type": "markdown",
      "source": [
        "**Diagonal matrices**\n",
        "\n",
        "Diagonal matrices are mainly comprised of zeros, with non-zero entries appearing only along the main diagonal."
      ],
      "metadata": {
        "id": "VmBQDk5M4VKd"
      }
    },
    {
      "cell_type": "code",
      "source": [
        "# Diagonal matrices\n",
        "A = array([\n",
        "[1, 0, 0],\n",
        "[0, 2, 0],\n",
        "[0, 0, 3]])\n",
        "print(A)"
      ],
      "metadata": {
        "id": "xf3nji9H4fjT"
      },
      "execution_count": null,
      "outputs": []
    },
    {
      "cell_type": "code",
      "source": [
        "# diagonal matrix\n",
        "from numpy import array\n",
        "from numpy import diag\n",
        "# Square matrix A\n",
        "M = array([\n",
        "[1, 2, 3],\n",
        "[1, 2, 3],\n",
        "[1, 2, 3]])\n",
        "print(M)\n",
        "# extract diagonal vector\n",
        "d = diag(M)\n",
        "print(d)\n",
        "# create diagonal matrix from vector d\n",
        "D = diag(d)\n",
        "print(D)"
      ],
      "metadata": {
        "colab": {
          "base_uri": "https://localhost:8080/"
        },
        "id": "qtdYJPwl4zla",
        "outputId": "484c5771-6577-48ff-df2d-08313ce66d32"
      },
      "execution_count": null,
      "outputs": [
        {
          "output_type": "stream",
          "name": "stdout",
          "text": [
            "[[1 2 3]\n",
            " [1 2 3]\n",
            " [1 2 3]]\n",
            "[1 2 3]\n",
            "[[1 0 0]\n",
            " [0 2 0]\n",
            " [0 0 3]]\n"
          ]
        }
      ]
    },
    {
      "cell_type": "markdown",
      "source": [
        "**Identity matrix**\n",
        "\n",
        "An identity matrix is one that does not affect any vector when we multiply it by itself."
      ],
      "metadata": {
        "id": "Wc604oFe4mj2"
      }
    },
    {
      "cell_type": "code",
      "source": [
        "I = array([\n",
        "[1, 0, 0],\n",
        "[0, 1, 0],\n",
        "[0, 0, 1]])\n",
        "print(I)"
      ],
      "metadata": {
        "colab": {
          "base_uri": "https://localhost:8080/"
        },
        "id": "cGqgGCr24nDr",
        "outputId": "558a5188-ffcf-45c9-fcd1-900346b53396"
      },
      "execution_count": null,
      "outputs": [
        {
          "output_type": "stream",
          "name": "stdout",
          "text": [
            "[[1 0 0]\n",
            " [0 1 0]\n",
            " [0 0 1]]\n"
          ]
        }
      ]
    },
    {
      "cell_type": "markdown",
      "source": [
        "An identity matrix is frequently represented by the notation I or the dimensions I n, where n is a subscript indicating the dimensionality of the square identity matrix. To respect the one value it contains, the identity may be referred to as the unit matrix, or U, in various notations (this is different from a Unitary matrix)."
      ],
      "metadata": {
        "id": "VlAdHFJt7FQi"
      }
    },
    {
      "cell_type": "code",
      "source": [
        "from numpy import identity\n",
        "I = identity(3)\n",
        "print(I)"
      ],
      "metadata": {
        "colab": {
          "base_uri": "https://localhost:8080/"
        },
        "id": "5Cz6bUWw5gPu",
        "outputId": "78661eb6-a3e0-4642-8e87-50eda572e3c9"
      },
      "execution_count": null,
      "outputs": [
        {
          "output_type": "stream",
          "name": "stdout",
          "text": [
            "[[1. 0. 0.]\n",
            " [0. 1. 0.]\n",
            " [0. 0. 1.]]\n"
          ]
        }
      ]
    },
    {
      "cell_type": "markdown",
      "source": [
        "**Orthogonal Matrix**\n",
        "\n",
        "When the dot product of two vectors equals zero, they are orthogonal. When the length of each vector is one, the vectors are referred to as orthonormal since they are both orthogonal and normalised.\n",
        "\n",
        "v · w = 0  (or) v · Transpose of w = 0\n",
        "\n",
        "\n",
        "Q · Transpose of Q = I\n",
        "\n",
        "Where Q is the orthogonal matrix, QT the transpose of Q, and I the identity matrix.\n",
        "\n",
        "![image.png](data:image/png;base64,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)"
      ],
      "metadata": {
        "id": "XpbbfPH06x0y"
      }
    },
    {
      "cell_type": "code",
      "source": [
        "# Orthogonal matrix\n",
        "from numpy import array\n",
        "from numpy.linalg import inv\n",
        "# An orthogonal matrix Q\n",
        "Q = array([\n",
        "[1, 0],\n",
        "[0, -1]])\n",
        "print(Q)\n",
        "# inverse equivalence\n",
        "V = inv(Q)\n",
        "print(Q.T)\n",
        "print(V)\n",
        "# identity equivalence\n",
        "I = Q.dot(Q.T)\n",
        "print(I)"
      ],
      "metadata": {
        "colab": {
          "base_uri": "https://localhost:8080/"
        },
        "id": "TCtQ28P27a_G",
        "outputId": "71649b1d-f04f-41b8-d451-ba19735ccafc"
      },
      "execution_count": null,
      "outputs": [
        {
          "output_type": "stream",
          "name": "stdout",
          "text": [
            "[[ 1  0]\n",
            " [ 0 -1]]\n",
            "[[ 1  0]\n",
            " [ 0 -1]]\n",
            "[[ 1.  0.]\n",
            " [-0. -1.]]\n",
            "[[1 0]\n",
            " [0 1]]\n"
          ]
        }
      ]
    },
    {
      "cell_type": "markdown",
      "source": [
        "**Matrix Operations**\n",
        "\n",
        "Many machine learning techniques employ matrix operations in their description. Some operations can be used directly to solve crucial equations, while others serve as useful shorthand or basis for the description and usage of more complicated matrix operations. This lesson will teach you about key linear algebra matrix operations that are utilised in the description of machine learning algorithms."
      ],
      "metadata": {
        "id": "ZLwQHDEN8vSD"
      }
    },
    {
      "cell_type": "markdown",
      "source": [
        "1. Transpose\n",
        "2. Inverse\n",
        "3. Trace\n",
        "4. Determinant\n",
        "5. Rank"
      ],
      "metadata": {
        "id": "Q-SXrv879HiV"
      }
    },
    {
      "cell_type": "markdown",
      "source": [
        "**Transpose of a Matrix**\n",
        "\n",
        "Transposing a specified matrix results in a new matrix with the number of columns and rows inverted.\n",
        "\n",
        "The superscript T next to the matrix AT denotes this.\n",
        "\n",
        "![image.png](data:image/png;base64,iVBORw0KGgoAAAANSUhEUgAAAEgAAAAeCAYAAACPOlitAAAABHNCSVQICAgIfAhkiAAAABl0RVh0U29mdHdhcmUAZ25vbWUtc2NyZWVuc2hvdO8Dvz4AAAAxdEVYdENyZWF0aW9uIFRpbWUAVHVlc2RheSAxMSBKYW51YXJ5IDIwMjIgMTI6Mzc6MDIgUE2xmQ4uAAAEYElEQVRoge2Yf0yUZRzAP3cSdwIh/piChBJKcZKODCSI5SidzZbows2fZc4yhkycbdYs52BTrLlqICl/NFJAUTFHiz+SphgaYctAcKSiIXVK6SkgwuG99+0PlgPkvfcOjtmP+/z17n2+93y/z+d9nnue99WJiOBBFf3DLuCfjkeQBh5BGngEaeD1sAsYTuxYKE2bT6F+IQlP+tN97nPyv49h9dooDN2NVOa0k1z7Gckj1fv4TwuydZZxaWQu+R/OxAcr36amcnzGF6xPiWQEVqbf24Vew4DLS8xqqefUsSMcLP6aqgudf5eC+dLVQQzBndgxVxRzsrnXrTp/pqfNxBdQqOO7E2OJSDLdnxUG03RM7hLU2ljA5iXzWL7+IDU3fZkQYqT5WAbvZ52m8YeNbEivd3lI7qS7LZ/0BamUHFfu3/OOWcC8kJ5ru6Wc6vMv8MycniHrMPDsy3MZp9PoWDSwyx2p2feKRActkz2VraL0aVXEfHSpRAb4yopMi1ZXw4YiN6UsY6oEYZDXMu4MGGM5nCBR7JImu2t9O5xBQje/7J1H8kof0isKees5/35TTs+4pCSib0cSmTTa9cfuJu6e3c3pKRtJ1Fux/GZG6dcudFFdXknQytlM1Jox/XAoqKthC6tWXWb27lyWhg8coyOUKYnPExfhWmJ3oVDL/oJAliybQfAkaG1uwfZATA2VJ8ZgWmByeVdSFaTQRNE7O7glqaxbM0Y1UMd4ot9cTOwjLmZ2CwrNhUUoi1cRwQSCguHO5Wv3BQlt1JTmkL0ji6MNQVxryONQhQW7Cxl0IgO/rFr/3MZL4zfjv66RI9lhjBjkEOw0UXXoJFesOrTeivVi4PG4V4mb6tzeca+9mE+2h/D2tnj86KA42Y/MkmzK7OuY7OJSUq1JraHjmxLO8gSm+aGDltODDlwo1tlvC3ZuUZlzgWkb43kUAC8CH4NuzFzrv8aGgMqSVLhx/QoGYpkc4+hpKpgvNuEfHoafSoSeScQnryR+qJX2o+vcR+RWWJjS9h6VAAiW+lFYuY7ZjR9wVATpCBg7ES+MeBvVf2yjgtL9Rt7YEuYghZ2u1tvctYnmEtPhhc/oURg1VphCHQf2TSWzbDURvWJvFx2jtPw6f7QB4zSSOYmKID0BLy4klBIuV9lhzoMVCx2cz6tm/Ip3MThIYKOavR/k8WPnCCf+g3yIWb6TNYmO9hqF3w8U0b0os48cAGNwKEaucuNX3CZI9aCoSIt8tRaZFV4gV/qeDsUu7fLzvk2ys7il38Fx+Gm/uF1SXi+TWwO0WRs2SBQhsuGw+6pyeJJWbHVSkBolsdFp8mlRuZw6c1JKiz6WrK05UvrTXbcV4Qw2qZI9a+fK08HeMnFCsuSUd/VqvSfnv9wkKYvCZbS3j0xLSJGtuXVidUNe1W2+Nx0366k9U0tTayCmmFk8FeY7xJ3t34NTgv7PeL4oauARpIFHkAYeQRp4BGngEaSBR5AGHkEa/AVpcUiwFqCBywAAAABJRU5ErkJggg==)\n",
        "\n",
        "We can transpose a matrix in NumPy by calling the T attribute."
      ],
      "metadata": {
        "id": "iZAXYBqx9ZcO"
      }
    },
    {
      "cell_type": "code",
      "source": [
        "# Transpose of amatrix\n",
        "from numpy import array\n",
        "# First Matrix A\n",
        "A = array([\n",
        "[1, 2],\n",
        "[3, 4],\n",
        "[5, 6]])\n",
        "print(A)\n",
        "# calculate transpose of A\n",
        "C = A.T # T is an attribute from numpy\n",
        "print(C)"
      ],
      "metadata": {
        "colab": {
          "base_uri": "https://localhost:8080/"
        },
        "id": "TRBBP3UG88nh",
        "outputId": "0bb5db9f-f3b5-4c92-d899-2b9cb4e32d34"
      },
      "execution_count": null,
      "outputs": [
        {
          "output_type": "stream",
          "name": "stdout",
          "text": [
            "[[1 2]\n",
            " [3 4]\n",
            " [5 6]]\n",
            "[[1 3 5]\n",
            " [2 4 6]]\n"
          ]
        }
      ]
    },
    {
      "cell_type": "markdown",
      "source": [
        "**Inverse of a Matrix**\n",
        "\n",
        "Matrix inversion is the method of finding another matrix that, when multiplied with the matrix, yields the identity matrix.\n",
        "\n",
        "Given a matrix A, Find matrix B such that-\n",
        "\n",
        "![image.png](data:image/png;base64,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)\n",
        "\n",
        "![image.png](data:image/png;base64,iVBORw0KGgoAAAANSUhEUgAAAFAAAAAxCAYAAABNuS5SAAAABHNCSVQICAgIfAhkiAAAABl0RVh0U29mdHdhcmUAZ25vbWUtc2NyZWVuc2hvdO8Dvz4AAAAxdEVYdENyZWF0aW9uIFRpbWUAVHVlc2RheSAxMSBKYW51YXJ5IDIwMjIgMTI6NDE6NTYgUE2fDioqAAAEhUlEQVRoge2aW0xURxiAv7O7XLS2DahVQBRM0RjTik2Vbmi8PNT0oW28QaoG0xo1vVjtQ5W0BolNE6sIvZCYFJY21cZKuOhD20RsRURrJWLFisQ2VRRwQVhWVK6750wfxIpcDztsTc18jzNn5vz7zf/PTHZXE0IIFD5jedgB/N9RAiVRAiVRAiVRAiVRAiVRAiVRAiVRAiVRAiVRAiVRAiVRAiVRAiVRAiVRAiVRAiVRAnsiOmi+Xs6htDfY9b3X1BAlsAe6u5zSky00nP+WS5cNU2MeOYEGtZR8V0ydD7/0WEPjeS0hnsmjzI+xmX3Q4ywgLf0Ah/bmcy1wKYmvTyVIAwwvd5qquNZg5+3MbbwSow0/8hHDwFmQxFtJMXyasJCIIP+/0bTAgLBlbN5to9qRz7T3svk8JfTf9DWoJzchjC3Tgon0JjPL6qdoh8Db9RNZacdo5nFutAPdAgWt1F6oxNkq6JOYmoUxE55h5pRgn95pWiCAXnmEshY7K5eEPlD7FsbzvD0Ed/5pznbArMd8ikUKQSvlmWVM3bAc6+kaXNVA7L2+Fq5fqqTqdj/VISyEdEYxY0qwT/vZMATqOH8ppI0k7NN799RSXORmLPN5YRj7x0jSedlBsVjDxmd3sJMzNF3VIfZuKVgIJ27Zm8T54b2mpRu4KT3qJGTufJ4LuN8uaKYsI4E9Zev46I8NzHgIx5LO3xRk2Xh5UxTWiEieoo4Wk6doT7x3TpGX9QWF5zQqTmTwlePkkGNMZ6DOCUqLQcz/i/0OB5pm0Oaq4uwpJ+Pm7OKgcwHRg2zaBlf5Le84Vzq1vvtQLywiiGj7MuxPm1kNg8YfvqF5QQqxAdA1dhLj8XCzphGD8GGVpW2MncT1dhLXbzE/xuyD+oUiym7NY3X6JtbF3G0TdOH8PYONq1PIiS7k4xXjBwnYitVmw6abEWjDYvKT611HOFD6Ikk77q6eRgRhE+FibT1ewgk0N43PmBSoU/dzPu2sJT7qfqtGIOGzPyB5yYcsX7mVuMVZvDrAHmhhEnFLVozoPiTooDwjjZKmuTRsLQHAsLqotMLtq/UMv4iHjymBBi5OHG0kNH4esQF9+4MCoYsbNLQDAx4iBh0tN2nz9nOV6IWGjdEhTxI8RBZ6qh0UW7PJz4nm3s3JwM2+imx2F9VzB/DtcmIeUwJ1Sjl+FKZvtfcJyMsZCnJh4qTFLAoZeA4vZexNyeJMu9VECY9mzqp01i4cODyDag46LCxKvS8PQGM0EyLA0+Xkug7j/H0nFSZoP7dezCRe7Lz4YLvuuSj2r31CRLNGHPjTzEwjgyFaRUVmgkjd29ZPr0eUb0dE8a443On/WAbNQE9bCV9/ksux4n1cYSq/Ziez2WqA5uG2qwm36xajJu+hoGkVs8f6eaW7aT//Je9vy+bHwzVEzsrhpaUbiO++uOtUUrj9M/blBdBEERnvbMO1LpUVcf5LQ00I9QdLGR65b2P+a5RASZRASZRASZRASZRASZRASZRASZRASZRASZRASZRASZRASZRASZRASf4B1oqMbCvGVj8AAAAASUVORK5CYII=)\n",
        "\n",
        "The inv() method in NumPy can be used to invert a matrix."
      ],
      "metadata": {
        "id": "QMNHex9t-Lkj"
      }
    },
    {
      "cell_type": "code",
      "source": [
        "# Matrix Inversion\n",
        "from numpy import array\n",
        "from numpy.linalg import inv\n",
        "# Matrix A\n",
        "A = array([\n",
        "[1.0, 2.0],\n",
        "[3.0, 4.0]])\n",
        "print(A)\n",
        "# Matrix Inversion\n",
        "B = inv(A)\n",
        "print(B)\n",
        "# multiply A and B to get Identity matrix\n",
        "I = A.dot(B)\n",
        "print(I)"
      ],
      "metadata": {
        "colab": {
          "base_uri": "https://localhost:8080/"
        },
        "id": "EXZ7WruG-1oU",
        "outputId": "37b28748-01da-4aa4-8dd1-304ca077d876"
      },
      "execution_count": null,
      "outputs": [
        {
          "output_type": "stream",
          "name": "stdout",
          "text": [
            "[[1. 2.]\n",
            " [3. 4.]]\n",
            "[[-2.   1. ]\n",
            " [ 1.5 -0.5]]\n",
            "[[1.0000000e+00 0.0000000e+00]\n",
            " [8.8817842e-16 1.0000000e+00]]\n"
          ]
        }
      ]
    },
    {
      "cell_type": "markdown",
      "source": [
        "Please keep in mind that your individual results may change due to variances in floating point precision on different hardware and software versions. Matrix inversion is used to solve systems of equations that are structured as matrix equations and in which we are interested in obtaining vectors of unknowns.\n",
        "Finding the vector of coefficient values in linear regression is a good illustration."
      ],
      "metadata": {
        "id": "9Y5AkLb4_t8h"
      }
    },
    {
      "cell_type": "markdown",
      "source": [
        "**Trace of a square matrix**\n",
        "\n",
        "A trace of a square matrix is the sum of the values on the matrix's main diagonal (top-left to bottom-right).\n",
        "\n",
        "\n",
        "![image.png](data:image/png;base64,iVBORw0KGgoAAAANSUhEUgAAAMkAAAAuCAYAAACChz0/AAAABHNCSVQICAgIfAhkiAAAABl0RVh0U29mdHdhcmUAZ25vbWUtc2NyZWVuc2hvdO8Dvz4AAAAxdEVYdENyZWF0aW9uIFRpbWUAVHVlc2RheSAxMSBKYW51YXJ5IDIwMjIgMDE6MTg6MDcgUE0Yk+1LAAAMwElEQVR4nO2deViV1fbHPwfEGB1AEBwK05/ijEM5gGOZXVMzvdk1M00rceia+VMrvVrW9ZqaT1evBc63HNO8apqGI4NTqWioOSACIQeZVGbOtO4fOAAC7zk4oPfZn+fxj/Oetddee533u/de+30f1ImIoFAoysSusgNQKB51lEgUCg2USBQKDZRIFAoNlEgUCg2USBQKDZRIFAoNlEgUCg2USBQKDZRIFAoNlEgUCg2USBQKDZRIFAoNlEgUCg2USBQKDSpHJLnZ5FSwqZBPXu59jUahKJeHLhJjyibmzdpPqkXb1kIi4WvDSJKi1/Tsmj2TLZceXIwKRVEeqkjMcpiF75+hw8f98NXs2YL+h2GMHrqGXw13rtrTgL7TniFq6nx+zX+Q0SoUhdgsEgvJbHyrER+sNNnY0sTZL2ei7/0BXatZYW3YQcjcA2RwldS84t85OPVh/BtHWPzReWyN4n8BU37+YzvuxzF2m0Vilj38Z5UrNZpWsamdybyF4GXPMmiYm6atkMPxRUfxHTcIe66SFlfSwo6aA97DZ/dctmXZFMZjj5DLlpEjWZunbfuo8bjGbrtIfvmZc3SlU1vb2mVtDSah1cu0s6LHgtil7DOPYrB/LWqQSnq8+S4bezrRr+9udq3ItC2Q/wFM+QWYdJUdRcV4HGO3cjkwE7d7Lsv23+D6yZ/4w70LO2dO43SLd3hvqBfntq8k8mIe1Z4Noo/nfnaeuEFmbAp1Bk2kXxMdQj6Hdu6lfk9/qmr2dInNIVV48fMGOGTWw4tEbsRaAPtidjqq0jqwGZfmHyV/Qi8cKzR82zHlnuTHlXu54lgNt5qBdKwVS3azl2hX6yEFUGEsXDu3iXU7Uqnq5oRPYBeqX8ikaf92eDziDwKEa0Rv/Za9Ca5Ur1KH9i86kZzkz/MBNR5KUW2lSOzx7fURn/aK55vuX/Dc6CXMn+2FHWC4uoSIuMG82WwELV4N58KHf2fCX68wrdYw9mYO4aU5PgixnD7ZDO+RDhr9WEj9cSVpPabTxgEMHvXwxMC1K6lYqHNXQqo0a4kuLIo4Sy/8Ss2WiYSjm4iIMaH5h5N0Opx8uvFyz3qlJsVCAjsmDWSdaTlL/zmJqhlLGNWmOas7H2fnOg3flY6ZhN1jGDu5IZ8cmkob53hWD/dl8rfTWGFuh0dlh1cOxfPe+mbeg9B3Pk7PgDaPkkgKsVgOEBnmT/N5XjeDM6PfnoXHEE/S15/BRT+eweNbUoMGTNn7O64tfLADjPzBld888PUq37/ZsJv1kYEM+0fhuqCjLj7ecDYhGRN17l6FfOrixiUSTeBX6hKlQ4cNa3s5SroQ3IeZC0ay2tQaF8Do3hB3sxM1ereyLYmVgCFxPu++cI7nTy6hvTMI3vh6QPWAQPwf6VXE/Ejk3aZ+zEd2cY4uvN361hV76g4dxwDH6/wnLB7fUf1pYgc6XPFt7VekZTZ5BjfcypmyhHyOL5hHWNqzXJ0WBoDFPp0z9pAVn0xpj1V0Ts44kEN2mfe2PfU7vMbQDraMsnQWzTyD39+G4Xdz1yeJ+4m60ovhfYtsA8VAZtrvhK9exPk6wUx6rfT0WkxZJF/ax4bZ0TRdMp0Xnyi9TxMHWTxiLuGZ9twZoqD/9Rim1wexvchVO6lO9zEhjH+h+Gwh5BI+50P0bkt5vdXN/onhcAQ0Htjp9jY1PymU9ZsvkGXUczW5LUM+HkTz6pTwVUBcxLf89FsBefoEjI1GMm6EH6UdVt6P2E2EauZdMHB5z785kFoL56xoLhv6ETS2DTVLiN9CDHuWHyDdw40b0edw6fEBQwPdrFuJxGqMcnIW0t5vo9wo8Y1BtsuY6vXl/7eaS21pkG0SRG/5OrVs7wWXF8qcuTFiKnLNLBmyqi/SoupyKa1pftY86csY2VVQtl9z/jVJT0+TtDSNf+npcj3XUqoPixRIczrLF9F3Ikte1VJasEAuFhmyKT1Stny/V4LfQEZ+XlZQZtH/+r1sOPi1DONlWZZTduylx5Ij614ZKMvzrLM3SrhMfgrpP/bS7dzm5y6UvgTIvHO3bKLkX0GL5bRJxCJ5cuzT6hLQaatcLZGOgotzZMbM82IUEZMckRmtPSVoRYaU/qvfe+x5J9/VzHtBxnx5lUmyO0fEKGEy+UkPmbixZERmiV/SUV74c5hki0he1DvSnrHl3jdFsXolsZBE5F54un8XXAFT2m4OxjxHt452yLk9nLgRyPs9Steljjp4/18GN/RAKQWuhTg2L9HRa2bDYuW5Dmdq1wGDQU+SGWoVr93RZaSTT228Sly/PQFQwPE1U1l6xGJVTVKj0Wg+m9KulEMAC0aa49fklt88juyLxvu1btSzO0X4jtoEvuSNvXsA/V8tYNdu+KXMjuzwbv8qr7CN/Tz4vzArJJMaXwPfjr63c2sM20k83QhobOH0njBcnr/Gb8u3YJ4wluZ+jjTv3ousmfuINvbnuSKTu/HSUUKDXXljRmMa2fnTuVMqszeewfhWIGUshvdGcqJm3jv36UfQdyk0cSpcNfNyauNRq+R9aIdX7xkE+TbGCSjIzQGeprqVd7/VIjFziujDfvh9Uhsd6USuOo/9mF6AheR9W8mzm0oX19Lb2tOQJv5nOBJtgZbFByDkcvpfU/i96Ur+UiLTOuzxqgsG9CSboVUJMVjiYjH6/ZmGZYhExxM8MzKEZ0ZaO8qy/DhQn6o43bynDfpVrNruSqO/t0R34ivOGibS9d66eGDo8KNxewfSbv42Zi7wffBOnvAfTTPdYdYftGP48wMJMQzklkXcL/tx9PuaFiXOWVx6b+Zw8i2rGKKOQcM3m6F1HFNR7Pz8qc+N8vOu86bHG7U4H7mJLZvXYRq3ignd7/bl+OSf6O9+lvBt37PtWwfe3DeVjlbWY1aXbfa047khjiRGh7J12Qau93yHLi6FtcSJI5fxDeqJdxk1so5qdOr+FAn7L1H0iUfe6YUEDehAn8mhhC5eyeEibz2aOcPGT8bwySYH0ghlwdgZrDtatLWZ+KNR1BvQlTK0eR+x56PpsWxetJPtG0JYsc2P4X9tQsYfO1j9ozed+j66pXsVmvPuV0NJXhfMjzvXsvKrQ/iMnYKn61n2LI/A7U+BxVbOvISFzFrzOtN+HkztMn5PwcCF5RM5Wm87n413f2AnTA5PfWBl3l3xbtyWgD7NyNy7hrAy3uuzc/ShiX83erZPJyJ4H/FWvD8I2FKTiFgkW/SXkiSrxJavICVJ0o3lty1Iny+Dn1wg563dwGpgkouysFdf+Sb2/vjTxizZ+suizyr6OVEySozbIvny0zvl1SSFGGSrBNG/QjXJ+oGDZEWube1MeVckPvFOI1NOkiSlmorZGFI3yay3F0hEiogxO1vyS/ck8bumyJS/HZJUMUl2VulW9y/28vNuyr4oZ85n3fa/dQQS0H1fidjNcj32lMRevzlO2ShvOXjK+xusuxltmgR0uOD9tA+uJVpV9fTBXWMyreL+FsN7/8B3oXc/Pa8IhotLOFZ1PH9pcF/cWYEdLt6+eLsW/VyXmlYsIoKB5FNHibkPLwfocKTb9Om8YGMRYO9YhyfrOt357OyDT5Eiz3Q9lOWLLAxaNJEAzxz2BK/kdzOIJYnoQzEUvv1jQR/5T35IHMWnszpRnR2s/vKi1e9iVSz28vJuJjYkkKEdNnBFCr8TAbPZgAAFqVEcP5uLmQuEDGnNtK9Sbp6SCmI2Ysm3sia0RdP3iuHaKpnYf5mcN2nblodJYuTfI8bI+oT7E9f9wph1SDaEfCFvP6OTdi/+Q4KXRhZel2PyeXvklfdjxCRmST2xRhYvHCEddE3ltU+/kbWh+sqNWw7KrHaIo7OLuLi4iItzVWnTcL1kikjB+Q8lgG4y/5RITvQU6VDNTpxdCu2c7WvIqHnWryQPAkPyFlk8e6VsizgmBzZPkAGtRsuGC4WjiprjJa1YIGctFonbtUC+XLpdIk6Ey9qPekrflzZKrJW7mocqEhGzpB38WKbMOCHZFfRgkRw5tWKSLNyeafXR46OAUfbJDyHxco/zQ6VQELFKNl6o7CjKxiLpEns8TA7+crnY9tci+RLx3YbbYjDeiJHj4ZESdfGaaFQHxXjIFacdHp0/40PXU6SYoUEZp1LlIaTi0Hoa49pa+SDokcBM0rYz2HXtQQWGXKlYiOPn4274v1fZkZSNDncatO1KyZ23KWUbF00d6HTzRqlSrSFtuzS03b+I+u/gHjSCgXR9Du4+NR8jYRci5hRSMzzx8nzMXt0FjCnJZNXyxv0ek65EolBo8LhNbArFQ0eJRKHQQIlEodBAiUSh0ECJRKHQQIlEodBAiUSh0ECJRKHQQIlEodDgvw8wZ+MiWdjMAAAAAElFTkSuQmCC)\n",
        "\n",
        "We can calculate the trace of a matrix in NumPy using the **trace()** function."
      ],
      "metadata": {
        "id": "jKmykroZ_utH"
      }
    },
    {
      "cell_type": "code",
      "source": [
        "# matrix trace\n",
        "from numpy import array\n",
        "from numpy import trace\n",
        "# define matrix\n",
        "A = array([\n",
        "[1, 2, 3],\n",
        "[4, 5, 6],\n",
        "[7, 8, 9]])\n",
        "print(A)\n",
        "# calculate trace\n",
        "B = trace(A)\n",
        "print(B)"
      ],
      "metadata": {
        "id": "2A_ZdmYxEye8"
      },
      "execution_count": null,
      "outputs": []
    },
    {
      "cell_type": "markdown",
      "source": [
        "**Determinant**\n",
        "\n",
        "A square matrix's determinant is a scalar representation of the matrix's volume.\n",
        "\n",
        "The determinant is indicated by the **det(A)** notation or **|A|**, where A is the matrix on which the determinant is calculated.\n",
        "\n",
        "The **det()** function in NumPy can be used to calculate the determinant of a matrix."
      ],
      "metadata": {
        "id": "1o6LX14nH4Lp"
      }
    },
    {
      "cell_type": "code",
      "source": [
        "# matrix determinant\n",
        "from numpy import array\n",
        "from numpy.linalg import det\n",
        "# Matrix A\n",
        "A = array([\n",
        "[1, 2, 3],\n",
        "[4, 5, 6],\n",
        "[7, 8, 9]])\n",
        "print(A)\n",
        "# Determinant calculation\n",
        "B = det(A)\n",
        "print(B)"
      ],
      "metadata": {
        "colab": {
          "base_uri": "https://localhost:8080/"
        },
        "id": "bJi9BWJ1Q33c",
        "outputId": "65a67eee-7570-4908-b07d-20e4e1186dc8"
      },
      "execution_count": null,
      "outputs": [
        {
          "output_type": "stream",
          "name": "stdout",
          "text": [
            "[[1 2 3]\n",
            " [4 5 6]\n",
            " [7 8 9]]\n",
            "0.0\n"
          ]
        }
      ]
    },
    {
      "cell_type": "markdown",
      "source": [
        "**Rank**\n",
        "\n",
        "The number of linearly independent rows or columns in a matrix is estimated by a matrix's rank.\n",
        "\n",
        "NumPy provides the matrix **rank()** function for calculating the rank of an array. It uses the SVD method to estimate the rank.\n",
        "\n",
        "Calculating the rank of a matrix with scalar values and another vector with all zero values is demonstrated in the example below.\n"
      ],
      "metadata": {
        "id": "Lv2agpa2H9fp"
      }
    },
    {
      "cell_type": "code",
      "source": [
        "# vector rank\n",
        "from numpy import array\n",
        "from numpy.linalg import matrix_rank\n",
        "# rank\n",
        "v1 = array([1,2,3])\n",
        "print(v1)\n",
        "vr1 = matrix_rank(v1)\n",
        "print(vr1)\n",
        "# zero rank\n",
        "v2 = array([0,0,0,0,0])\n",
        "print(v2)\n",
        "vr2 = matrix_rank(v2)\n",
        "print(vr2)"
      ],
      "metadata": {
        "colab": {
          "base_uri": "https://localhost:8080/"
        },
        "id": "FqI9KuUfVjFD",
        "outputId": "4e9c7512-1442-4722-9d5a-acbd16608b7f"
      },
      "execution_count": null,
      "outputs": [
        {
          "output_type": "stream",
          "name": "stdout",
          "text": [
            "[1 2 3]\n",
            "1\n",
            "[0 0 0 0 0]\n",
            "0\n"
          ]
        }
      ]
    },
    {
      "cell_type": "markdown",
      "source": [
        "The next example demonstrates that the rank is the number of linearly independent directions, not the number of dimensions of the matrix. There are three examples of a 2*2 matrix, exhibiting matrices with rank 0, 1, and 2."
      ],
      "metadata": {
        "id": "tZMuAJzoVoUi"
      }
    },
    {
      "cell_type": "code",
      "source": [
        "# matrix rank\n",
        "from numpy import array\n",
        "from numpy.linalg import matrix_rank\n",
        "# rank 0\n",
        "M0 = array([\n",
        "[0,0],\n",
        "[0,0]])\n",
        "print(M0)\n",
        "mr0 = matrix_rank(M0)\n",
        "print(mr0)\n",
        "# rank 1\n",
        "M1 = array([\n",
        "[1,2],\n",
        "[1,2]])\n",
        "print(M1)\n",
        "mr1 = matrix_rank(M1)\n",
        "print(mr1)\n",
        "# rank 2\n",
        "M2 = array([\n",
        "[1,2],\n",
        "[3,4]])\n",
        "print(M2)\n",
        "mr2 = matrix_rank(M2)\n",
        "print(mr2)\n"
      ],
      "metadata": {
        "colab": {
          "base_uri": "https://localhost:8080/"
        },
        "id": "gjoLCrWVWYuK",
        "outputId": "2b1dde73-2db1-4c74-fdc6-bedd72f1c58d"
      },
      "execution_count": null,
      "outputs": [
        {
          "output_type": "stream",
          "name": "stdout",
          "text": [
            "[[0 0]\n",
            " [0 0]]\n",
            "0\n",
            "[[1 2]\n",
            " [1 2]]\n",
            "1\n",
            "[[1 2]\n",
            " [3 4]]\n",
            "2\n"
          ]
        }
      ]
    },
    {
      "cell_type": "markdown",
      "source": [
        "**Sparse Matrices**\n",
        "\n",
        "A sparse matrix is one with a large number of zero values. Sparse matrices are distinguished from dense matrices, which have a large number of non-zero values.\n",
        "\n",
        "**sparsity =\n",
        "(count of non-zero elements /\n",
        "total elements)**\n",
        "\n",
        "For example, Below is a small 3 × 6 sparse matrix.\n",
        "\n",
        "![image.png](data:image/png;base64,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)\n",
        "\n",
        "The example has 13 zero values of the 18 elements in the matrix, giving this matrix a sparsity\n",
        "score of 0.722 or about 72%.\n"
      ],
      "metadata": {
        "id": "6jf-uqbjH3B6"
      }
    },
    {
      "cell_type": "markdown",
      "source": [
        "**Sparse Matrices in Python:**\n",
        "\n",
        "The csr **matrix()** method can be used to transform a dense matrix stored in a NumPy array into a sparse matrix using the CSR representation. In the following example, we define a 36 sparse matrix as a dense array (e.g., an ndarray), convert it to a CSR sparse representation, and then utilise the **todense()** function to convert it back to a dense array."
      ],
      "metadata": {
        "id": "_QVBFgOPIY33"
      }
    },
    {
      "cell_type": "code",
      "source": [
        "# sparse matrix\n",
        "from numpy import array\n",
        "from scipy.sparse import csr_matrix\n",
        "# create a dense matrix\n",
        "A = array([\n",
        "[1, 0, 0, 1, 0, 0],\n",
        "[0, 0, 2, 0, 0, 1],\n",
        "[0, 0, 0, 2, 0, 0]])\n",
        "print(A)\n",
        "# convert to sparse matrix (CSR method)\n",
        "S = csr_matrix(A)\n",
        "print(S)\n",
        "# reconstruct dense matrix\n",
        "B = S.todense()\n",
        "print(B)\n"
      ],
      "metadata": {
        "colab": {
          "base_uri": "https://localhost:8080/"
        },
        "id": "rgKUvzcOXef6",
        "outputId": "f640e9dc-a7e6-4893-9f26-deeed0048942"
      },
      "execution_count": null,
      "outputs": [
        {
          "output_type": "stream",
          "name": "stdout",
          "text": [
            "[[1 0 0 1 0 0]\n",
            " [0 0 2 0 0 1]\n",
            " [0 0 0 2 0 0]]\n",
            "  (0, 0)\t1\n",
            "  (0, 3)\t1\n",
            "  (1, 2)\t2\n",
            "  (1, 5)\t1\n",
            "  (2, 3)\t2\n",
            "[[1 0 0 1 0 0]\n",
            " [0 0 2 0 0 1]\n",
            " [0 0 0 2 0 0]]\n"
          ]
        }
      ]
    },
    {
      "cell_type": "markdown",
      "source": [
        "The example below demonstrates how to calculate the sparsity of an array."
      ],
      "metadata": {
        "id": "RYmjlTNjXuIK"
      }
    },
    {
      "cell_type": "code",
      "source": [
        "# sparsity calculation\n",
        "from numpy import array\n",
        "from numpy import count_nonzero\n",
        "# create dense matrix\n",
        "A = array([\n",
        "[1, 0, 0, 1, 0, 0],\n",
        "[0, 0, 2, 0, 0, 1],\n",
        "[0, 0, 0, 2, 0, 0]])\n",
        "print(A)\n",
        "# calculate sparsity\n",
        "sparsity = 1.0 - count_nonzero(A) / A.size\n",
        "print(sparsity)\n"
      ],
      "metadata": {
        "colab": {
          "base_uri": "https://localhost:8080/"
        },
        "id": "TfoVjx4OX4Gq",
        "outputId": "ad6e1c9f-1323-4ad4-98f7-f4e1aaf3387f"
      },
      "execution_count": null,
      "outputs": [
        {
          "output_type": "stream",
          "name": "stdout",
          "text": [
            "[[1 0 0 1 0 0]\n",
            " [0 0 2 0 0 1]\n",
            " [0 0 0 2 0 0]]\n",
            "0.7222222222222222\n"
          ]
        }
      ]
    },
    {
      "cell_type": "markdown",
      "source": [
        "####**Tensors and Tensor Arithmetic**"
      ],
      "metadata": {
        "id": "vEYR3h-wIjoF"
      }
    },
    {
      "cell_type": "markdown",
      "source": [
        "**Tensors**\n",
        "\n",
        "Tensors, like vectors and matrices, are represented in Python by an N-dimensional array (ndarray).\n",
        "\n",
        "A tensor can be defined in-line to the constructor of array() as a list of lists.\n",
        "\n",
        " A 3x3x3 tensor is defined as a NumPy ndarray in the example below.\n",
        "\n",
        "It's easier to comprehend three dimensions than two."
      ],
      "metadata": {
        "id": "q6r75xHeJFwI"
      }
    },
    {
      "cell_type": "code",
      "source": [
        "# create tensor\n",
        "from numpy import array\n",
        "T = array([\n",
        "[[1,2,3], [4,5,6], [7,8,9]],\n",
        "[[11,12,13], [14,15,16], [17,18,19]],\n",
        "[[21,22,23], [24,25,26], [27,28,29]]])\n",
        "print(T.shape)\n",
        "print(T)"
      ],
      "metadata": {
        "colab": {
          "base_uri": "https://localhost:8080/"
        },
        "id": "Q7roGelMYsxJ",
        "outputId": "dae92106-c0dd-4517-b9ca-e471381cb3bc"
      },
      "execution_count": null,
      "outputs": [
        {
          "output_type": "stream",
          "name": "stdout",
          "text": [
            "(3, 3, 3)\n",
            "[[[ 1  2  3]\n",
            "  [ 4  5  6]\n",
            "  [ 7  8  9]]\n",
            "\n",
            " [[11 12 13]\n",
            "  [14 15 16]\n",
            "  [17 18 19]]\n",
            "\n",
            " [[21 22 23]\n",
            "  [24 25 26]\n",
            "  [27 28 29]]]\n"
          ]
        }
      ]
    },
    {
      "cell_type": "markdown",
      "source": [
        " **Tensor Arithmetic**\n",
        "\n",
        " We can do element-wise arithmetic between tensors just like we can with matrices. We'll go through the four basic arithmetic operations in this section.\n"
      ],
      "metadata": {
        "id": "dHJhs_ufYv-4"
      }
    },
    {
      "cell_type": "markdown",
      "source": [
        "**Tensor Addition**\n",
        "\n",
        "When two tensors with the same dimensions are element-wise added, a new tensor with the same dimensions is created, with each scalar value equal to the element-wise addition of the scalars in the parent tensors."
      ],
      "metadata": {
        "id": "S9AxsqkjZIdB"
      }
    },
    {
      "cell_type": "markdown",
      "source": [
        "![image.png](data:image/png;base64,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)\n",
        "\n",
        "![image.png](data:image/png;base64,iVBORw0KGgoAAAANSUhEUgAAAx8AAABBCAYAAACwyBm/AAAABHNCSVQICAgIfAhkiAAAABl0RVh0U29mdHdhcmUAZ25vbWUtc2NyZWVuc2hvdO8Dvz4AAAAxdEVYdENyZWF0aW9uIFRpbWUAVHVlc2RheSAxMSBKYW51YXJ5IDIwMjIgMDc6MDI6MDIgUE1KiTLuAAAgAElEQVR4nO2dd3xTZRfHv0kHe5U9XjYIhbI3lCFLcAGCyh6igAiKgoAiyBIZgrJkKAKKCgKyZZQhe8jee4lQKJDSneTe8/5RNh1JSZo0fb6fD39we+6Tc/K7Oc+4zzCIiKBQKBQKhUKhUCgUTsboagcUCoVCoVAoFApF6kB1PhQKhUKhUCgUCkWyoDofCoVCoVAoFAqFIllQnQ+FQqFQKBQKhUKRLKjOh0KhUCgUCoVCoUgWVOdDoVAoFAqFQqFQJAuq86FQKBQKhUKhUCiSBdX5UCgUCoVCoVAoFMmC6nwoFAqFQqFQKBSKZEF1PhQKhUKhUCgUCkWyoDofCoVCoVAoFAqFIllQnQ+FQqFQKBQKhUKRLKjOh0KhUCgUCoVCoUgWVOdDoVAoFAqFQqFQJAuptvOhxexkSscezDvpak8UCoXCczD/N4OPWk1l3z1Xe/Ikgok909ryycTLrnZFoVAoPAaNM8zr0Znp26JsvidVdj60mB1MaN6dA5UG07a0q71RKBQKz8EnXzd6vrGMTyuMZ7ebdEAEE3u+acTnPzan5weFXO2OQqFQeAxelOTNITX4u8frTNhiWwfEICLiZL/cCo2TzG1Vh+W517Pg+8pkcrVDCoVC4WEI99g9shz9Fwxn3vHOFPdypS9mTv/clK69GjLp+hBqqKSvUCgUDif0cH9eq3aRLoeW0DWRgf1U9eZDuMfuYYHMOjiOCVNVx+NxLNfm8WnbV2hSvwateu4kxtUOKRyG0tZT0Ti35APatmhM/aqNGL1Kc7VDDzGQmWpfrKVjkW580u8o0S705d7BAXTrlJlue1XH43E0zvD7wFa83rQuDUsMZ7PZ1R4pHIXS1nNx5/o8S/mvmf39FaYHjGN/Ikk/VXU+bv/di/dH1KPXxnco6cKROHfEJ39nRv/WkTx79uCTrRg+rnZI4TCUtp6KF8XfmMqsHt5c+sdAlnLuldS8KEW3+ZMxzm3H8FURLvFBi1nJZy1/ovj473nH3yUuuC1elOStsfPpmnsbN8/lpoRKDB6D0tZzce/63Jti3X6nV/OBDOy0HVMClqmm82G1rGVEl1954fNv6FjU1d44D836D+tXXSUpY6D6pQOcia5EmVa5U8+DkYIIP7KCLWeTdq/S1r1JurZWLh8MIi11CczvaK+eH9+cPflqdCTLX/2aXck8RCeY2DLwNXbcHMuQj/N57HMvhHN4xUYu6fbfq3Geo0fhf53qkcfgeN8Uz8fz1OdKW/fGU9tqXhSjw7QR6H/0YdIma7x27ua3UxBiODyuDesuDeajoYVxr/FBx6IFL+fHMQew2H2nzu2g5YRQm5rlneCY4jnRuLZuBEuDkpSqlLZuTdK11Qlm2yYrOZvUo5RbJjYvSnzwI82Lj2LcZ2eJvypyPNEnR/HZd2V4deV7lPTgmk7nCuvHzGNvEr5cPXwjOw4VwL9FSbwd75riOUl6fa60dXc8ua3m87+PGTHgEEsbTuV4PNWaB6fkR1jC5jJ6hJWqYz6khq+rvXEySdw+QAhn56bTZPWvR3VP/45SKEndGUJp6/4kVVuNLWzb5EPpV6qRxqEeOQ5vQ136fl6OQxO/ZHFI8nymzjUWffYNlnwD6PGiW/bKHEjS94yJ2byaMwRSuZGnf0cplOfYDkhp6+Z4cFvNQAaqDf6W/xlG8u3MUOJ6KZsKOsRWjk7sySFzb77vm/grqvCry5k9+wDWXNlI61OLFg1DOHKjJs3qZPPonpqVPWzbAnne8SNo6jgu6hYibvjz1rCWvOCurRo7Udp6prZCJOc2TGbBVh+yZzfiV6ktlSJ2E1G5BVVyudo752Ldu46DUo/25f5i2viLmC13sObvSt/OxdyoM2IkX+cRNP60Bb+PHEGb74o5/e2z9dQEvl1WiAaL21IgkSknuvUMa6fMY681L356Vip1rUzUlkgqtqlMDg+eriLEsH/TJnzzTCD75slMOKdhDomidLtPaVnWM5oGSlvP1VbV5+5dn/tk68oH737EgN4/crrnx5R+WhTxcCyyVj7Ih7zYZp/EJGipyY3tH0rjou/K4vO6iGgSvK6v1ClglLrNtydyr/sQc3WIvFlrmUTZeV/0pYFSlXRS86UZsvuWiIhFjozKIS++uk3CnOBn8uIJ2lrl5LjK0me61e47PVlbTYIlaGiAvNT4T7lkif3/iqH+UohiMmC55mr3bCSp2lrk2Fdekoly0n3MPgnRRCxyUIZXLCQDVkQ7xdOkokuM7BiEFOEj2Rjh7M+KkI19keIMku3mhG3NYX/J57UrSu8518QiIuaIJfJZrTRSjI9ko8W5fjoKqxyTcTU6ykI7E5lVDsvICkgBv84yY4tJNBGJPt9fGtBPNoY7xdVkxRO0TWp97tnaekJ9njraalEH35PSFJf+K55VxTO6wAkQ9tdkVvxXme4DqpDQGyrzre/p8dJy/Occ442iBsBAtsZlyP6vNzkHVH7sXp2oOyfY/Ps41t0cwjdfJjSf0lm2jkbnzsblBNOaCXN7UD0HgDfFKlTg8pCfWG+uQyvflBu3zdpKNMHng1g4eik+febQq1L8ZZpOL+CnP64Qod/k2qWcNPvkY14rkzZuYzvKdTyO1VaPOsSS71dyLtpKyIWb5GrYn95ti5Exns92rrYal39pQZ8RgXxztwWFvAFyEVg6HTrlqNDgsaEWe7Q9sZg/dkaQxjeMC/v/o3jbz+hQI+4IXamtzk22b9IoXelLRg+sQnYDCCUp63+Zr8dshFebu03cBnyp0qkPmb7+nT8Xf82LnZw3RKdpK5k3D0p06UT1BLaC0TjPz+2asTVdECu65sMb0NM34IXsMWQpVZsqjz2smiWYU1vnM316Rnot6kXZBF7d2GormDi6ZCYrz1oxh1wi1Pt13h/yCiXj+codjTViE9sP5aTZzEm8Wy8LRsBYtBL5eJc/fx/Pi+94pdi4bdfWObnPvjzpeByprT16JYe2zmir6VEHWDn/AKYM3oSfP8TNnN3o9345ssZp60ptHV2fOzdu7wpdafXCLILGbiL81ZeesPXozofObdb+uAZfhtCkcvx2gokNQz7gZPhwhrXK8PC6tudvThJIwxaPGpXhRxYwZ2d6vPYu4ETUh3HOZXO2LYA1bD9rlx8l5KlFhtq9E1y5Hckvc+8+Ka7BSIZ89WnTuOAzZQmR7Nx0ihylRtI494OrOmE3rhBJRu6aIfyUe8RtL7ZqK0RwYPEM9qVJy/5VOynYUSe+JVGW8IVMn5qD7pPbk8ugc21ZMxqXPUPM9bm0yfP059tebiw6IceXs/afUKxPzAkVbh0ycSr9fObOfXK+gJG0FK3Vmjoln/05O1JbnRusGLWUDH1HMDg3WELn0bl4bfqHnWDGe37P2DtbW6u2gjEf76JQp9k0zvog3hgO7NhPFt6hbsYH1+zQlnV8+cZMSszdwLvVwZS5PlVrfkymsFm8/lSWdbW2GlvYtsVIwMSm5DI8KCmUmzcg5tIdN4r7fiyl2/JKySkETQ8irNPLTjtn6d6yqawNLUfPLqUTrODCNg1k9MpKdN7V8GFlq7GXvXugWJfAhxWlpu1lyXeHEb997F5anA46xDdvzHZbnZsrv2K1dTCDB2UDrvFH2wJ0arSU3btbxlm2TghHVq/m8C15Yrq47h3MoTsX+ffn+UR6Pf4rM+BjKEqttoEUiWPkzbJ5DWdpSKe3Hk1T0SNvcIsIfG5Y0LT9bhF3UrBVW1tzlD25z948CY6tz8GR2tqjl/O1dUZbTYhhy6DX+DnLen4f4Y/o8+jg1ZChGa8yudOTA4qu1taR9bmz4wbwohKvvwnzRy5iffhLtHqsLvHkqXFobGTdWsj/anMqJhCplb/4fT4UeKM5ZbweXT0T9CtQlzqPbWGZsVxH+vR8lYBsiTelnGULgCWSUJMJ09P/wqIxa+HPXjfdxRQa90lDVvawbTMUfbUWme9fE8zs33OGNPyPgr5uFLed2KqtgQxUbvMJ77xWGj/vhFeCWff8zk9Tv2fVbQAjuVp0ojwL2LT02W0d7Cn3AZbI0Dj0M3Ev2kpMRBya3zURFs+BPo7UVmM3q6eMZOGcUAC8s7SmVcNg/pm+NU57Z2sbtXYmq275U6njo0amxgm2/Q0FOtV9uL2kPRoYyUeVZuXx842180mfEQNRRMeRP1yu7b71HLDWJ+Dl9A+vaexl/z+QOaCgW8UNsRVRwyZwfc8SgiJtvs0uhHC2rtxORhrRoFZCdvfY9NMSDDSm4WMDU/r5Dey9WZGyLR+tD/Tyqsab/d/l9XLpE12rYqutYOafleNZ+Mkq7gBG8vNKu/rc3LM0gbssRMWV8++GEWUxEx7H3+7eDSMmDoli1wRsIB11qJ350XV9zzZOUJjs/j5uFLd92KOtM3KfvXkScGh97kht7dErObR1RlvNgBe5a7SidJ77tYgxA+nTmjBHPJv8XK2tI+tzp8dN7BvvgObt8GYNG/94MiaPfvOh7VrB1ojsNH25coJTrvRz/3A8Ohs1mpR/aKdzg+2bIVej+vi74WYR3n6BtP8g8Jnr5n9vs3dNFT746HXimQT0DBK6n+P/+VOr+aO98DV2s3Et5KndPEXvEOYMbdM0+I5Ff0dRJEfs/yX8FiaKUKSEI1YwGslbtQsfVH36usYpywJCM/blo162O+1Ibb1pxrDN24kokiW2bEzcvg2Zi7nigAkrFw6sw4tOVKj9KFnqYRvZebQAZYcnPOodH14E0GHihNiytGPMn3aQ8p+tp0X6RG60CUdqq3P7wDY02lK98GMlHVjB1tB8NGlfzS7PnBt3LAbSUO2lxsRM3cGezTotX3b82JeVHWxcC34V6lIlwSlX5zhyELJVqk2Fh3Y6tzet4DZNqenk6XMG0tJw+F5y9ClFjvufHXorGB/i181IXmq2/5CaT13XOI726xUK9enLmzb+noVgjh6EvG/XIv/Dt2Zm9q/5EyPdCWzsnEovKXHbizO0tSf3JSVPOrQ+d6C29uiVHNo6p63mTZm2kxlJ7JuFkz9M5pzfRCZ3e/bH5HJtHdpWc27cD/Cq8Qq1vH/l+J/7MXet+VA3h2V/XXfO6GbSsXJ8/QLCKE+pZgkrImYzOkXIU/FRbaVpm9i6xZvSr1XDix1M+2KjWx1j71A0DaEAuUo/uhS1axarrtakxTcvOW16RHLgDG2NxoJUrPsCWYkdad03ejCmcsN5r6Ebvkh0oLYG0lCgcm1euP+WNfzgKH4KeotuY59pTTsdQcdsgfQUp+RjP+/ITas5SyBVGhmJOTSGaQuTdjzXpe3TGDNoGCsju9KhbUk32jnqEZrVQhpjIYo8bGBEsGPOHLzpyzvtba3OnijR6XH71KhLac5wYsWFJB2ulRhyai1bg40UaVSDhPtNMVgskLNs8Ycx6oSyPegs2fzrU93Xwr7xY1kb9wCkQ0ibtyrVA2J/gZq+je8m3qLW5L7O+8DHEDQ0K+QsWuixRswmfvsVAt7vx8tOnMDu/Lgdr609uc/VedLR2tqjl7O1dWZbzXp9PbPGDmLEzzlpMLY5peNIfq7W1hltNWfHbaQalWvAjZVbOac/fj2J6PoVts0fzDuvN6dV28507/EBvXv3ZsiYXdwUuL33Y/oNOJXU4p8bHRNH9kFmKlExb8K23qUbUT1zOOYw/f69d9k7+Vt26ZUpEpgW7UAQUUVruGUDxBEY/WpTOe8d7l2P/b/GAab1X0XAkB/4qLprfXtenKutxtVV7zJh53fM2NGWwm7Y93CWtubbvzKwr4lue+fRobhjfLUHA7680OANMhBJ5P2EpsVsZdaULfhSjoBMVg6uiSZ/06QMhXlRuE5vPh+/hN9HX2VYwNv8lMST5Z2Hkdy1m5FJDyHk/rSayHNfM/rHJvTa058KSRoBdH7cxuzVKZcPLq/ehcmxRQMQ9s/fXKEExRrmTLBy86IMteuDJTLy4Zxo04HvmL0F8tYuRxp2syPYP1ne+upcYVnPwYS0/5spfZLnLaKR/FStDZE3byOAEM2xCR+wzzqFURP9k2VKhLPidra29uQ+V+RJZ2lrj17O0taZ9bl33ib0GDiZX7b0JPSL8rw3/t8EB0hcoq0T6nNnx22kABUrg4nd7Lr72Ofa76pO8L6v6ddjPqFVhzFq5mgq5nnUv76+ZSBDP11B8NzFFJ0xwf7iHYTGEY4chgy+pSmVwOt3AG/DKwxesJhPJk5iYWh6Luy/Q74WsxnUvDM7N//O9Ov/o9GIDAkXkoLxpg4fzq9C/6+msKRLRo4uWsm9N3Yy52P/FN/hcp62Otc3D+abtV2YurkpeaOPcfJUGUqXcq/N452hrSV0JV/3O82rC36jWUETJw9fp3T5wo502yYyNpjA5z27MXPsUv7NfYITlwvTaPJ37Gmxj/WLJxGTpg394tq2IwFiLv7GtPlZaPFFc4oaIV21ppShPX/NCqbz+MTPCUpOfCsMY/An3Zk8oQzNCuxl5W936fj3n3StZn/PI7ni9qIs/qVh9cZjnLRAnURysz0IZo4fPIgPzSmc0CI/wEBmGo1awJq2k5i0pCVZzhwk1K8lo7/azKAl61kyIZisrb+Ic9cXR6JznfVfDuVko2XMejMXEcePQJlyTv7U2M571cFLKNl+LJOXtSDb0d8IOvk5s890pXwyJH1nxu1Mbe3Jfa7Kk87Q1h69nKmtM+pzjRMsH72atK0H0PwF8DLUpm6tCIZ9uoLr/d+P85wgV2nryPo8ueI24EPpgJJEcZrzB3RobLwfix0IZs4sbc+bHS7S9Met/Nw211OLlbzIU38or/2WhXdD3qZNI9dV1XrEIY7/C1mbliRLotZeFH7lZxa+eJkz5wy89FpBsniBrN7PG+f/w6dQEbI98U0JYoCntxGw/LeKn5dl5+VeNcltcJyt8zGSr9H3zK9xmTPnYgj8viu50sVllxLjtl9b0J85fPRJv3Vu7hrJxL8CeW9QGfT/LnNi8zzW5x5L6VIaF4NmsoO3adco+2ONtrjLdT6O1dYSvoHvPj1EuYHvEWC4yoULa1kyvzxDvimc7NoaKcwb32+gyb8nuBrTiFbFMuMF1Dpxg8uX0lKgddanElxcGlif0Ove9knM/bIRAQOaUzQ96BE3uEU2ipbIiPEpW1drayQfr0xYSeC/J7lyrybT2uWMZ+5w4s+0MZniNuBH4eIQvvE0p8KgTvwbpdiNEMLxQ5CB4hTPlri9b852TNnwCv8ev4L+YksKZTMCf/PXa+e5YShMoRxP1m4isZ/yODrnCZq+jQwtu1A7r322OjfZOn44B0sNpnPNGK79e5Qt81bTaZzzOx8APllaMXbVi1w9fpmY6nPokjfu5ktKjNs+bR2f+xKyTQ4cqW1CeiW/to5vq/mZN/PziAWUK/0hzV/wRTBx8wakr5yfjAb7ngPn47j6PPniNpKleACZWc21PZHQ+ME2lDajyc3t70h58kjHiVcloeOwwv4MlIpMl6u6/YeSOIqoI++LPwZ5/f2LCfpqL+Zzf8ik8V9IhyoGKVSim3z59VRZc0xERJMbi+pJYerK2P2OtLUPa/Q2+XPBBYfGnLB/7hH382ORE6vGy5jRb0vljNmk1tsjZOLYNXJae9bvmPMjpUGm+2+07//LTnP5/oaIJtfll9aIP+PkqJZYufZh2rNAVh13bNQitutlkUMysR5ifCxuA2ml3Rd3nrFNuNzkJn4NntbLGr1dZn8+Qmb+ull2HVwvUztWkOZvLZOLcdi6v7a2P9PJF7dVTo7LKJkIkKFbHB3tdhlUHCnFhCRpEB9WOSbLJ30lQ7v4S26qS+dhE+T7RRdERCQm4gdp42eUFu+fttPWIkemlBI/w+N5xCBl0/9gt3+63JXdvy6XMw4+U9Pd43YEzsh9Cdvah7Pqc0fp5Qna6nJXdv8wWEZNXSwb9/wj62e3kgYlPpKlZ5+1TQnaumPcMVc/kxogjdodlAfne9rc+bBEL5HueZHyeX6UC4l0KqK2tpeOXY6JKw8RjfrrJclBeuk6xt7zI5+P6A3fypz9jrd1d1JD3Lb6rUuUrJ8yU446Oqu4CE/X9mm9dImR4DPbZeO6rXLkQoRoCdimdB7XK7nivj0vQNKTT/rMc+yXGCMLpZMPUv5/CyTUoSUnjFlWyZwxJx1u6+6khrg9PffFR2rUNjrkuOwKWi/b9l+VMC1h25SMK+I2W6fIyyDVa619eKK7TfOiBDOHvn6D36+XpOmsTg93V4kPr5wv0+q95Fm0Fjc6of9dIIKsZMrnwEnFiX7qdTYcyEyV8o61dXdSQ9z2+G29t4rzlkBKueEWzfaSGrR9Wi8DvuQqUZsXmwQSUCT9E+sdPFnb5Io7fc48pOU2oZfjOcAkiUjUf9ywQNrC2RPcWt2x6NxZdRzvRqUcbOvueH7cqSH3xU3q1DZNdn9qNGxMnUoFyGhM2Dal4qq4xSsn2YwQeSaYqPvXbOofWNnInGmQm1a0eCnxW3xKtaVFYs5Yb3Dm0GVMtu63aDCSLscLlCuaOXFbBNPdYIzkJl325FsArF8/Q5aG7QmwoYK2x9bdSQ1x2+63xo3DfgT2Sto5E+6G52trj16pVVsHx501F5mxEhZyB40MiR5gZyuGO7cJA9JmzZxsGwPoXOWCz6u0qeJYW3cnNcTt+bkvbpS2Sbd1d1wVt4GsZM0J1uA73NUhmxEMIpLoesHoE32oWmYqmeoHsXlzQ4fsgGS5vpjxY//mus2dDwOZC3di9Me2POVWjozyoc4X5ei35TDD6z2PpwqFQqFwFNEH3qF85bmUePcky2eVdFjnI+Z8f2oW/4Yc7Q6yZkEFj+ggKhQKRUrHyhYGFm7A6stjWKwNoqzRxjcf+rljXMWHptUCcNQkJp+8rfns29YOKu1JBJ3oaDDgjVdK3ytWoVAoPIk06fBBsEaZHbpDmERHEYMBL+/km2qrUCgUisTwJY0v6MRgvp/0bXo7bTR6YyQNmfNkS/SGsI2jmbHR9aed6844PlehUCgUz4XRaMQI6AYHJ2ldc8FW1gqFQqFIGCNGI4Bgvb8SwqY3H4bS5SnCRiJCwoD4N2bXucTytRmp/nXifRpL8F/MnL6TYFv7KQYjmQq24dPuZRM3xUjadCBY0By7plGhUCgUz4FuNWMBfHzT4cgVeYa06fFFsJrNDixVoVAoFM+HFYsZjKQh/f0rNnU+vIq1p2WFb1j250ZCRrchRzyFX1w0ndv1hlLRhkm83llKUjXQwF2rjb4bDKTPmcdWY3x9fdExYzHr2PiCR6FQKBRORqIiMWMgTfq4j0RMKoY0aUgDWKMtyX9Oq0KhUCjiRIgiOgYMpH14EK5NnQ9vKvL+zJ78WX0Yoxa+yMS3sj/RnBdus/+XCayPfpdP3sxokzOGtMWo3qiYnSHYioGsfvkRIogMcdJHeBiWa/P4vP8fHLoeQsZSE/ltRi2HbCygcD1KW09F49ySD/ni59NcvyY0HraOz19JAVuymO4QjjdpM2dKdLG5+dpk2gV+i7HNCn4ZWzbhLXSz+ZEJiLhzT02/sgGNM/wxcBC/HQoh/EJDhhwfRoPk26NY4USUtp5LyqzPQ7l3B7zJROb7nQebXwn4VZvKii2vc3FEfV7rOZH5S7ewfccqFsz4kk97jOdg3gEM6l7CTb4EI1nzFMIXE2H/2fpqJXXjk78zo3/rSJ49e/DJVsxhGwsoXI/S1lPxovgbU5nVw5tL/xjIUi4FdDwAq+kWkWQhW2Ebtk23RhIedofTv67gYGKvMzLlI6cBoi/fxuIQTz0bL0ry1tj5dM29jZvnclNCJQaPQWnruaTE+lwwERoN6arm5UHWt2M+khf5641h2dFtTO1dnoxhpzhzJT1lmwzg65lf825DP7ea3GTIW4jsRHEv+HaqegWvWf9h/aqrJGUpp37pAGeiK1GmVW630lIRS/iRFWw5m7R7lbbuTdK1tXL5YBBpqUtgfkd75Qw0rv97DgO58SuW+IoP30KD+OtWMNM+yYg1kaRmIA+584H5cgh3UtGrDyGcwys2cikJFZ3GeY4ehf91qkee5DsSS2Ejz1OfK23dm1TVVvvvKsFA5qJ5H/prt98GY1YKBzSkVeeedGv7IuWLOu6QKEfiVfwFCqIRcvYKqendhxa8nB/HHEjCyJ/O7aDlhFCbmh5wkqfnoXFt3QiWBiUpVSlt3Zqka6sTzLZNVnI2qZciTl0XrFy/egdfcpOzuG3Vj84VzkTm5oVEhviMFKNIMYjmEpdSUdLXucL6MfPYm4SY9fCN7DhUAP8WJdW5KG5I0utzpa27k5raatq1S9zAi+yFCjx8FlNEpykpGLKVpYQfmA5cJFVteJXEET8hnJ2bTpPVvx7V1dxQtySpg7lKW/cnqdpqbGHbJh9Kv1LNTaa8JowQxvnTkIky+Oe27Z7IfUuJeeG1eDY6eYSRvLxQGiK5yEWV9G0iZvNqzhBI5UYpoOeaGnmON3hKWzcnFbXVIk8d5BaFKFjz0Xpxj+0QGwnA3x82bz/NOQ0q2fj7C7+6nNmzD2DNlY20PrVo0TCEIzdq0qxO4mecpGSs7GHbFsjzjh9BU8dxUbcQccOft4a15IWU0KqxAaWtZ2orRHJuw2QWbPUhe3YjfpXaUiliNxGVW1All6u9cy7Wves4KPVoX+4vpo2/iNlyB2v+rvTtXMwtOyM6Jzl1CjL5lifAhopT4zgbdleh1QfpErU14IN/QAGiOM+lY0BNG32ynmHtlHnstebFT89Kpa6VidoSScU2lcnhwdNVhBj2b9qEb54JZN88mQnnNMwhUZRu9ykty3pG00Bp67naqvo8ZdTngpkzx4+SluYUr/FYQ1w8FF1iZMenSG5el9khttyhyY3tH0rjou/K4vO6iGgSvK6v1ClglLrNt0uMk/11FDFXh8ibtZZJlJ33RV8aKFVJJzVfmiG7b4mIWOTIqBzy4qvbJMwJfiYvnqCtVU6Oqyx9pis4un0AABNVSURBVFvtvtOTtdUkWIKGBshLjf+US5bY/68Y6i+FKCYDlmuuds9GkqqtRY595SWZKCfdx+yTEE3EIgdleMVCMmBFtFM8fV6iI76Vl0BebLPPKb+7qIPvyguklU4jQ22yN4f9JZ/Xrii951wTi4iYI5bIZ7XSSDE+ko0WJzjoBKxyTMbV6CgL7fxCrXJYRlZACvh1lhlbTKKJSPT5/tKAfrIx3CmuJiueoG1S63PP1tYT6vPU01bT5D+Z2QQpxiDZbn503WM7iAZ8Kfdicwwc5tTWxOdSm299T4+XluP/9STeKGoAjGRrXIbs/3pTsmnlhLd4TPHo3Nm4nGBa029uD6rnAPCmWIUKXF75E+tT+JldSltP1Vbj8i8t6DMikL6LWlDIG4zkIrB0OnSqUqGBx6Y3AHRusn2TRulKXzJ6YBWyG2N3uSnrf5ktYza62r040Xdu5gj5KPNaeaf87rwqNKZG2mgubDtETCK2Guf5uV0ztqYbz6iu+fAGvNI34IXsMWQpVZsqnjFAHC/WiE1sP5STZmMm8W69LBgBY9FK5GMWf/7u4NPnkxmlredqq+rzlFWfa+xm7y7IWacBFR5bt+fRP0Gfei9TlTUcX3YKa8sy8QYrmNgw5ANOhg9nWKsMD69re/7mJIE0bPHoMCw96hBLvl/JuWgrIRdukqthf3q3LUbcp5voRN05webfx7Hu5hC++TKhhV/22II1bD9rlx8l5KlFhtq9E1y5Hckvc+8+eb/BSIZ89WnTuGAc8Ueyc9MpcpQaSeOH87B1wm5cIZKM3DWDrrlH3PZij7am0wv46Y8rROg3uXYpJ80++ZjXysR9EJo9tkg0weeDWDh6KT595tCrUkIe64QcX87af0KxPjEnVLh1yMSp9POZO/fJ+QJG0lK0VmvqlHz2m3O0ts57/u3Hqq1gzMe7KNRpNo2zPog3hgM79pOFd6j7mFN2aXtiMX/sjCCNbxgX9v9H8baf0aFGPOcXuVBbjS1s22IkYGJTchkelBTKzRsQc+mOG8X9wDczx7YuB96mxqvO2SDSi7rUawg7V2/hhFY3wQNvwzYNZPTKSnTe1ZD7jw8ae9m7B4p1CXz4TAsmji6ZycqzVswhlwj1fp33h7xCyXi+Gs0SzKmt85k+PSO9FvWibDw+2FuuTghHVq/m8C15Yrq47h3MoTsX+ffn+UR6Pb7llQEfQ1FqtQ2kSBwtMsvmNZylIZ3eejRNRY+8wS0i8LlhQQhzi7iTgq3a2pPPnGULjq3PwbHa2qOXs7V1VltNjzrAyvkHMGXwJvz8IW7m7Ea/98s9fHaetHWdto6vz50X98M4T2xib1hmqr1ZhwyPXffszkfa13ntpd5MnB/ElZ/KUDSegVArf/H7fCjwRnPKeD26eiboV2A4de5vYalzgxWjlpKh7wgG5wZL6Dw6F69N/7ATzHjP75lyw48sYM7O9HjtXcCJqA8T3PLXHlsALJGEmkyYnn6gI6Ixa+GYTKanHmgDlgxxd4ut7GHbZijavtbDPZgFM/v3nCENTcmf7hYrhrpJ3HZiq7aW8IVMn5qD7pPbk8ugc21ZMxqXPUPM9bm0yfNkmfbYChEcWDyDfWnSsn/VTgp21ElsnwdLZCgmk+mZBuq9aCsxYsJkeqqBKmkJi2eBrSO1debznxSi1s5k1S1/unYs/fBZ1zjBtr+hQKe6D7eXtEtb1vHlGzMpMXcD71YHU+b6VK35MZnCZvH6U1nW5druW88Ba316vJz+4TWNvez/BzJXL+hWcQPonGb9SsiRrQkv2nDER1IwkpOmb5Zj8OpNbD4/lIol47YT7rHppyUYGEjDyo/5eH4De29W5JWWD7aw1Lm58itWWwczeFA24Bp/tC1Ap0ZL2b275TPlatpelnx3GPHbx+6lxemgQ9zbQdpXbiwWokwmTKanOh9eYURZzISbTJie6nx4E0ZMHAtbY9cEbCAdU6n9mBb6nm2coDBl/b3cKG77sFVbe/KZs2wf4sD63LHa2qOX87V1RltNiGHLoNf4Oct6fh/hj+jz6ODVkKEZrzK505MDNa7W1pH1udPjvu/xhZXTCaY51Vqnf/JPrpsJlhxocv3nypKXhjL5XPxW0Wc/lopkk14zzY/deVWmvYjUafS3PJg9bZY/pXsmpNNXJhER0SVc/ngLqVz+z3jL1iVG/v4IafTmP4nORbTHNj6SMo8wxjRWGuEvQzc/umaRzfLx/5Aatf+S27LM7eOOD1u1jQxqIcV5XX68Fft/s/wib+MtPac9Ow/fHtsHmGWjfJSnpAzZmNR1CElbF+BIbZ39/NuHRQ6NQArQSRZFProac2+8NKGAfLz00fdsj15WOSI/9/tEfj2gi4hI+LqXpQQd5PeI+D1xjbaaXJ1RVEryuex67GOj9neTkuSTD+ZFuV3c0TeGSyAZpNO42+LM1TgxEVPlVQPSeuC/8X6ORfbLsDJIlUor5NEUeE2uzSohRflA1t9/WHWJklXvIuXzz5f7X6OEr6gvReiQoA9R+zpLVQbLTnPcf09quXGRlDUfmlyWKfWRRm8fkAfLH3SJkW39kYJ0lz8jzG4fd3zYqq09+cxZtomRlPrckdrao1dyaOuctppFjv3aR4ZMOx27Nkj+kC5pvaXH9Gd/UK7W1rFtNefHbZXTMqEmUrHQL3JDf/JvHv3mA4z4vdGLWu91Z9PkS7z/XeE4B2PEbEanCHkqPpoKoGmb2LrFm9LfVsOLHUz7Ipp3RjZj2ObtRBTJEnsfJm7fhszFUsTpXvGjaQgFyFX60aWoXbNYdbUm3f54iWzEpNi4bdW22/DvWPR3FEXu7+cp4bcwUYQiJZ7dEiVNA9ttXY4DtfXGfZ5/QcdsgfQUp+RjU0oiN63mLIF0aWQk5tAYfjj9Kb3a2K6XFwF0mDgBAF07xvxpByn/2XpapH/G1OVoVgtpjIUo8nDKVQQ75szBm695p31a0hjcKW4r5+eN5TJv8tG7zj2Q1jt9a95q+QGjxy7i3Ff9KBnnh8VgsUDOysUf7gqmE8r2oLNk8x9DdV8L+8ZP5PaHA2k4fC85+pS6v9WvTuitYHyo9lw+GkjrlHJtRdDQrJCzaKGHWmhs4rdfIeD9fryS3gdrio3bNm1D+n3ilNzn6jzpSG3t0Ss5tHVOW82bMm0nM5LYaU0nf5jMOb+JTO727FxFV2vr2Laa8+O2XpnLH7tyUeOHFuR+qtrx8M4H+KRrS5+e3ekx6WeOTPwizjnA3qUbUT3zesxhsdMHdO6yd/K37NIr0zMwLdqBIKKK9ictaShQufbD+8IPjuKnoLf44GzV5AvICRj9alM571LuXQdyg8YBpvVfRcCQ3XxUHQwpOG5btU1nzEDFurH3COHsGz0YU7k5vNfw2ZaL0VjQZltX40ht3ek5MODLCw3eIMPISCLvT/HQYrYya8oWfBlDQCYrB9dEk/99ryTopXFp+wwWLN/Ejsiu9Ghb0g23rTWSu3YzMukhhAjkNkDkua8Z/WMTeu3pTwUvAPeJ28pefvkhkkIvdaN5XBOKHYiR3Lw+qDOjlv7Cwr39+KLGszZelKF2fdh7J/LhdEDTge+YvQXyvl6ONOxmR7A/XXwhbd6qVM8ba6Pp2/hu4i1qTe773H46q1xbMJKfqrVh883bCH4I0Ryb8AH7rFOYNdEfb8A7hcZts7be3mR1Qu5zdZ50tLb26OVsbZ3ZVrNeX8+P81exeU1OGoxtTuk4kp/LtXVCW81ZcQtmDs8ew0360qpDhmf+7vGdDwPpqdl/OLknzWDOb/2Z0uHZ/eK9Da8weMFiPpk4iYWh6bmw/w75WsxmUPPO7Nz8O9Ov/49GI5788sy3f2VgXxPd9s6jQ/HkisY5eFOHD+dXof9XU1jSJSNHF63k3hs7mfOx/zONj5QWt/3aalxd9S4Tdn7HjB1tKZxgf8IeW9fgLG3d4TnI2GACn/fsxsyxS/k39wlOXC5Mo8nfsafFPtYvnkRMmjb0e6Kha6teXhSu05vP6/Tm3t7O1A14mztnltC1hNNDsgvfCsMY/El3Jk8oQ7MCe1n52106/v0nXas9PcLi+rjvrR/LwrP16L04kHi2ZXAo6aoOpHstf5Z8uo4Ptzbl6SUmBjLTaNQC1rSdxKQlLcly5iChfi0Z/dVmBi1Zz5IJwWRt/cUTCy91rrCs52BC2v/NlD6OG+l0VrkJYcCXqoOXULL9WCYva0G2o78RdPJzZp/pSvmnEkNKizsp2jor97kiTzpLW2fZ2oMz22reeZvQY2AT3vl0A58ULc9710/x04ACcS9dsqNcR+KM+txZcWuW5cyYDuX79aVBXKNYdkw3S7HoclfW9UbKMVXOJDDZ2BJxSY4fviwm64P7oiX43AW589Se4GbTChnecaisvhxb9olDFxP4bPdf8/EAS9glOX7wtARHxv13d447MWzTVpP/Ng2Qvr3Xyr+aiBZxVE6c1OMqzk5b1635eIAjtXXWc5A0rHLv6hE5fi5UHnwzuuW6XDx7V5782dqmV/SFX+WbL1fL+fsymWWBtANp0/9GvOsHXKutVUxXj8qR4zfj+c27Pu7YNQlInUZBctee0J6TO1vbiT8N5buT8dvoeqhcOXpULt15FEP0zXNy6daTWmjyn/w1rLOMXBgsVhEJPXY4wc9ObO1DUsuNi6Se8yES+/u9fOyQnPkv7nNh3DnuxLBVW2flPnts4+N56nNHauss26TiyLaaVY7LklHjZPWpB2VFyOJ2SBmmydV4qnRXa+uI+ty5cVvl5MS8UpT3ZU08Sd8Nx2odj4Gs1B8zF/+sw/lmzt14d93xTl8I/3IFyeL14L405CpWhGyPvR+yhG/gu08PUW7gewQYrnLhwh8smX8z9m//rWLO9F0EP7WTjRjg6Q+1x9YevHI2pW3vciRlI0vvjIXwr1CSXHEcJuzucSdG4trq3Nw1kol/BfLeoDLo/13mxJJ5/HVF4vA7IVsrF4Om8UvQ7afCEUAnjo1nbMSLvPU+pmm9BPYOTQBHaeuo58BxeJGpQAD+xTI/HKkxeOehcPGsj73WtV2ve9snMffL7Zy/v8OUHnGDW2TDr0RGjG6prRdZCpQlwD9nHG8UbH+mnRe3TsiaT/lxd2vem9Mwzi0cnUWWwPEMfWsjv3Zexs14nDQYMvO/smUplO1RVZgmZzEK5Xikhc5Nto4fzsFSg+lcM4Zr/x5l2bzV9/92nvXT57Lj+pPligBPfTNP2yZUrj0YyU/dvq2pmIR5DAayUrBMeUrkfXZo0t3jTjQ2G7R1Vu5LyNYenqc+d5S2jrJ1JI5sq+kxm/l5xAL2HI/dYUowcfMGpK+cn4wG99TWEfW5M+M2Ry7iq6+iCJw0jKbxJf2EeleehVXOzasmZflYNtp2+O0zWOSQTKyHGGOzqwBiIK20++KOiGhyY1E9KUxdGbs/1t587g+ZNP4L6VDFIIVKdJMvv54qa46JnbauJzXEHXN+pDTI9Cg+QLLTXL6/8azfCdlqcl1+aY34M06OarHf3olV42XM6LelcsZsUuvtETJx7Bo57SaHb9ujreOeg+TFHr2s0dtl9ucjZOavm2XXwfUytWMFaf7WMrmopTxt7XmmnRW3xbxS3i+cQdqPuSpJe2f3fMRcnyyvZSwln66MZ4gwUSxyZEop8TM8/j0apGz6H2LLj/hB2vgZpcX7p0Uk9i3E8klfydAu/pKb6tJ52AT5ftGFOGwTLtf1eH7czsp9Cdu6A/Zo6zjb5I3Qdr10uSu7fxgso6Yulo17/pH1s1tJgxIfydKz8oytu2vrDnFrckfW9kYqF/pJLiRQF6aizkfslmx/dEBefO1vp73+j97wrczZ73hbdyc1xG2r37pEyfopM+WoK1pbTsDTtX1aL11iJPjMdtm4bqscuRDxxLQjT9bW0XFrckv+6o3UqrhILsc/I9HJaHJ15ctSiX4S5KSkb5ZVMmdMAnO7kmjr7qSGuD0998VHatQ2OuS47ApaL9v2X5UwLWHblIxz49bk5pb2Uol28tuFhC1TxbSrBxgpQMsf1lLxfEc+nXnd4TNBdK6z4UBmqpR3rK27kxritsdv671VnLcEUippM6TcitSg7dN6GfAlV4navNgkkIAi6Z/YFtaTtXVs3BqXl7Rn6LTBjNrQhoIu24XaSL5X5jN+wDyGv7SYK0mfGxcPOndWHce7USkH27o7nh93ash9cZM6tU2T3Z8aDRtTp1IBMhoTtk2pODtu8625fNjhJM1XzeDtIgnbpqrOB4BXmqaMXPsZ4ZPe5qugCIeWrV8/Q5aG7QmwoYK2x9bdSQ1x2+63xo3DfgT2Ku0RW8l5vrb26JVatbU3bp3b+z6he9/89D/7FQ2yP7erz4URP+qN28E7hT6h7/t7MTmwbJ2rXPB5lTZVHGvr7qSGuD0/98WN0jbptu6OM+O2RG9ixGsTyfLFCr58OVOi9gYRcfhYUEog+uoc+rTeQK15v9E1ZXXaFQqFwm0x/zuZLq8e5fWFs3irpPscvKlxioXvdGJzqcXMHlDQ1e4oFAqFR6BxkjlvdOFIk8VM6vE/mwapUm3nQ6FQKBQKhUKhUCQvqW7alUKhUCgUCoVC4elonGDRF1PYftfVnjzJ/wF2qo8qSGLeGgAAAABJRU5ErkJggg==)"
      ],
      "metadata": {
        "id": "VGzSC8tQViDA"
      }
    },
    {
      "cell_type": "markdown",
      "source": [
        "We can directly add tensors in NumPy by adding arrays."
      ],
      "metadata": {
        "id": "UWalXRMqaEah"
      }
    },
    {
      "cell_type": "code",
      "source": [
        "# Tensor addition\n",
        "from numpy import array\n",
        "# First tensor A\n",
        "A = array([\n",
        "[[1,2,3], [4,5,6], [7,8,9]],\n",
        "[[11,12,13], [14,15,16], [17,18,19]],\n",
        "[[21,22,23], [24,25,26], [27,28,29]]])\n",
        "# Second tensor B\n",
        "B = array([\n",
        "[[1,2,3], [4,5,6], [7,8,9]],\n",
        "[[11,12,13], [14,15,16], [17,18,19]],\n",
        "[[21,22,23], [24,25,26], [27,28,29]]])\n",
        "# Addition of tensors\n",
        "C = A + B\n",
        "print(C)"
      ],
      "metadata": {
        "colab": {
          "base_uri": "https://localhost:8080/"
        },
        "id": "cmFrixQlaFu4",
        "outputId": "52e11bd0-518f-4c35-e4d1-bc2a8b286133"
      },
      "execution_count": null,
      "outputs": [
        {
          "output_type": "stream",
          "name": "stdout",
          "text": [
            "[[[ 2  4  6]\n",
            "  [ 8 10 12]\n",
            "  [14 16 18]]\n",
            "\n",
            " [[22 24 26]\n",
            "  [28 30 32]\n",
            "  [34 36 38]]\n",
            "\n",
            " [[42 44 46]\n",
            "  [48 50 52]\n",
            "  [54 56 58]]]\n"
          ]
        }
      ]
    },
    {
      "cell_type": "markdown",
      "source": [
        "Similarly for **Tensor subtraction**:  \n",
        "\n",
        "C=A-B"
      ],
      "metadata": {
        "id": "UadEn0apV_v_"
      }
    },
    {
      "cell_type": "code",
      "source": [
        "# Subtraction of tensors\n",
        "C = A - B\n",
        "print(C)"
      ],
      "metadata": {
        "id": "QHnE3XJCV-IA"
      },
      "execution_count": null,
      "outputs": []
    },
    {
      "cell_type": "markdown",
      "source": [
        "Similarly for **Tensor Hadamard Product**:\n",
        "\n",
        "C = A o B"
      ],
      "metadata": {
        "id": "1an77dhHaRTp"
      }
    },
    {
      "cell_type": "code",
      "source": [
        "# Multiplication of tensors\n",
        "C = A * B\n",
        "print(C)"
      ],
      "metadata": {
        "id": "9yFDE--BWO42"
      },
      "execution_count": null,
      "outputs": []
    },
    {
      "cell_type": "markdown",
      "source": [
        "Similarly for **Tensor Division**:\n",
        "\n",
        "C= A/B"
      ],
      "metadata": {
        "id": "2p3ZuJobWMmv"
      }
    },
    {
      "cell_type": "code",
      "source": [
        "# Division of tensors\n",
        "C = A / B\n",
        "print(C)"
      ],
      "metadata": {
        "id": "1gKGrGR6WUEt"
      },
      "execution_count": null,
      "outputs": []
    },
    {
      "cell_type": "markdown",
      "source": [
        "**Tensor Product**\n",
        "\n",
        "Given a tensor A with q dimensions and a tensor B with r dimensions, the sum of these tensors is a new tensor of order q + r or, put another way, q + r dimensions. The tensor product is not restricted to tensors; it may also be performed on matrices and vectors, which can be useful for developing understanding for higher dimensions. Let's have a look at the vector tensor product.\n",
        "\n",
        "![image.png](data:image/png;base64,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)\n",
        "\n",
        "The tensor product can be implemented in NumPy using the **tensordot()** function.\n",
        "\n",
        "The function takes as arguments the two tensors to be multiplied and the axis on which to sum the\n",
        "products over, called the sum reduction.\n",
        "\n",
        "To calculate the tensor product, also called the tensor\n",
        "dot product in NumPy, the axis must be set to 0"
      ],
      "metadata": {
        "id": "Vl6zJOsFWreh"
      }
    },
    {
      "cell_type": "code",
      "source": [
        "# tensor product\n",
        "from numpy import array\n",
        "from numpy import tensordot\n",
        "# define first vector\n",
        "A = array([1,2])\n",
        "# define second vector\n",
        "B = array([3,4])\n",
        "# calculate tensor product\n",
        "C = tensordot(A, B, axes=0)\n",
        "print(C)"
      ],
      "metadata": {
        "id": "m0t6MX4hWmhO"
      },
      "execution_count": null,
      "outputs": []
    }
  ]
}